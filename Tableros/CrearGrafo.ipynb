{
  "cells": [
    {
      "cell_type": "code",
      "execution_count": 1,
      "metadata": {},
      "outputs": [],
      "source": [
        "import sys\n",
        "sys.path.append('../Utils')"
      ]
    },
    {
      "cell_type": "code",
      "execution_count": 2,
      "metadata": {
        "colab": {
          "base_uri": "https://localhost:8080/"
        },
        "id": "N9YZb9zJT1Np",
        "outputId": "9f861736-84f2-4344-f431-86bd1d7ab103"
      },
      "outputs": [
        {
          "name": "stderr",
          "output_type": "stream",
          "text": [
            "[nltk_data] Downloading package punkt to\n",
            "[nltk_data]     /Users/juandanielcastrellon/nltk_data...\n",
            "[nltk_data]   Package punkt is already up-to-date!\n"
          ]
        },
        {
          "name": "stdout",
          "output_type": "stream",
          "text": [
            "Collecting es-core-news-sm==3.7.0\n",
            "  Downloading https://github.com/explosion/spacy-models/releases/download/es_core_news_sm-3.7.0/es_core_news_sm-3.7.0-py3-none-any.whl (12.9 MB)\n",
            "\u001b[2K     \u001b[90m━━━━━━━━━━━━━━━━━━━━━━━━━━━━━━━━━━━━━━━━\u001b[0m \u001b[32m12.9/12.9 MB\u001b[0m \u001b[31m9.6 MB/s\u001b[0m eta \u001b[36m0:00:00\u001b[0m:00:01\u001b[0m00:01\u001b[0m\n",
            "\u001b[?25hRequirement already satisfied: spacy<3.8.0,>=3.7.0 in /Users/juandanielcastrellon/Documents/Universidad/CatorceavoSemestre/ProyGrado/Repo/tesis/lib/python3.11/site-packages (from es-core-news-sm==3.7.0) (3.7.4)\n",
            "Requirement already satisfied: spacy-legacy<3.1.0,>=3.0.11 in /Users/juandanielcastrellon/Documents/Universidad/CatorceavoSemestre/ProyGrado/Repo/tesis/lib/python3.11/site-packages (from spacy<3.8.0,>=3.7.0->es-core-news-sm==3.7.0) (3.0.12)\n",
            "Requirement already satisfied: spacy-loggers<2.0.0,>=1.0.0 in /Users/juandanielcastrellon/Documents/Universidad/CatorceavoSemestre/ProyGrado/Repo/tesis/lib/python3.11/site-packages (from spacy<3.8.0,>=3.7.0->es-core-news-sm==3.7.0) (1.0.5)\n",
            "Requirement already satisfied: murmurhash<1.1.0,>=0.28.0 in /Users/juandanielcastrellon/Documents/Universidad/CatorceavoSemestre/ProyGrado/Repo/tesis/lib/python3.11/site-packages (from spacy<3.8.0,>=3.7.0->es-core-news-sm==3.7.0) (1.0.10)\n",
            "Requirement already satisfied: cymem<2.1.0,>=2.0.2 in /Users/juandanielcastrellon/Documents/Universidad/CatorceavoSemestre/ProyGrado/Repo/tesis/lib/python3.11/site-packages (from spacy<3.8.0,>=3.7.0->es-core-news-sm==3.7.0) (2.0.8)\n",
            "Requirement already satisfied: preshed<3.1.0,>=3.0.2 in /Users/juandanielcastrellon/Documents/Universidad/CatorceavoSemestre/ProyGrado/Repo/tesis/lib/python3.11/site-packages (from spacy<3.8.0,>=3.7.0->es-core-news-sm==3.7.0) (3.0.9)\n",
            "Requirement already satisfied: thinc<8.3.0,>=8.2.2 in /Users/juandanielcastrellon/Documents/Universidad/CatorceavoSemestre/ProyGrado/Repo/tesis/lib/python3.11/site-packages (from spacy<3.8.0,>=3.7.0->es-core-news-sm==3.7.0) (8.2.3)\n",
            "Requirement already satisfied: wasabi<1.2.0,>=0.9.1 in /Users/juandanielcastrellon/Documents/Universidad/CatorceavoSemestre/ProyGrado/Repo/tesis/lib/python3.11/site-packages (from spacy<3.8.0,>=3.7.0->es-core-news-sm==3.7.0) (1.1.2)\n",
            "Requirement already satisfied: srsly<3.0.0,>=2.4.3 in /Users/juandanielcastrellon/Documents/Universidad/CatorceavoSemestre/ProyGrado/Repo/tesis/lib/python3.11/site-packages (from spacy<3.8.0,>=3.7.0->es-core-news-sm==3.7.0) (2.4.8)\n",
            "Requirement already satisfied: catalogue<2.1.0,>=2.0.6 in /Users/juandanielcastrellon/Documents/Universidad/CatorceavoSemestre/ProyGrado/Repo/tesis/lib/python3.11/site-packages (from spacy<3.8.0,>=3.7.0->es-core-news-sm==3.7.0) (2.0.10)\n",
            "Requirement already satisfied: weasel<0.4.0,>=0.1.0 in /Users/juandanielcastrellon/Documents/Universidad/CatorceavoSemestre/ProyGrado/Repo/tesis/lib/python3.11/site-packages (from spacy<3.8.0,>=3.7.0->es-core-news-sm==3.7.0) (0.3.4)\n",
            "Requirement already satisfied: typer<0.10.0,>=0.3.0 in /Users/juandanielcastrellon/Documents/Universidad/CatorceavoSemestre/ProyGrado/Repo/tesis/lib/python3.11/site-packages (from spacy<3.8.0,>=3.7.0->es-core-news-sm==3.7.0) (0.9.4)\n",
            "Requirement already satisfied: smart-open<7.0.0,>=5.2.1 in /Users/juandanielcastrellon/Documents/Universidad/CatorceavoSemestre/ProyGrado/Repo/tesis/lib/python3.11/site-packages (from spacy<3.8.0,>=3.7.0->es-core-news-sm==3.7.0) (6.4.0)\n",
            "Requirement already satisfied: tqdm<5.0.0,>=4.38.0 in /Users/juandanielcastrellon/Documents/Universidad/CatorceavoSemestre/ProyGrado/Repo/tesis/lib/python3.11/site-packages (from spacy<3.8.0,>=3.7.0->es-core-news-sm==3.7.0) (4.66.2)\n",
            "Requirement already satisfied: requests<3.0.0,>=2.13.0 in /Users/juandanielcastrellon/Documents/Universidad/CatorceavoSemestre/ProyGrado/Repo/tesis/lib/python3.11/site-packages (from spacy<3.8.0,>=3.7.0->es-core-news-sm==3.7.0) (2.31.0)\n",
            "Requirement already satisfied: pydantic!=1.8,!=1.8.1,<3.0.0,>=1.7.4 in /Users/juandanielcastrellon/Documents/Universidad/CatorceavoSemestre/ProyGrado/Repo/tesis/lib/python3.11/site-packages (from spacy<3.8.0,>=3.7.0->es-core-news-sm==3.7.0) (2.7.1)\n",
            "Requirement already satisfied: jinja2 in /Users/juandanielcastrellon/Documents/Universidad/CatorceavoSemestre/ProyGrado/Repo/tesis/lib/python3.11/site-packages (from spacy<3.8.0,>=3.7.0->es-core-news-sm==3.7.0) (3.1.3)\n",
            "Requirement already satisfied: setuptools in /Users/juandanielcastrellon/Documents/Universidad/CatorceavoSemestre/ProyGrado/Repo/tesis/lib/python3.11/site-packages (from spacy<3.8.0,>=3.7.0->es-core-news-sm==3.7.0) (67.6.1)\n",
            "Requirement already satisfied: packaging>=20.0 in /Users/juandanielcastrellon/Documents/Universidad/CatorceavoSemestre/ProyGrado/Repo/tesis/lib/python3.11/site-packages (from spacy<3.8.0,>=3.7.0->es-core-news-sm==3.7.0) (24.0)\n",
            "Requirement already satisfied: langcodes<4.0.0,>=3.2.0 in /Users/juandanielcastrellon/Documents/Universidad/CatorceavoSemestre/ProyGrado/Repo/tesis/lib/python3.11/site-packages (from spacy<3.8.0,>=3.7.0->es-core-news-sm==3.7.0) (3.4.0)\n",
            "Requirement already satisfied: numpy>=1.19.0 in /Users/juandanielcastrellon/Documents/Universidad/CatorceavoSemestre/ProyGrado/Repo/tesis/lib/python3.11/site-packages (from spacy<3.8.0,>=3.7.0->es-core-news-sm==3.7.0) (1.26.4)\n",
            "Requirement already satisfied: language-data>=1.2 in /Users/juandanielcastrellon/Documents/Universidad/CatorceavoSemestre/ProyGrado/Repo/tesis/lib/python3.11/site-packages (from langcodes<4.0.0,>=3.2.0->spacy<3.8.0,>=3.7.0->es-core-news-sm==3.7.0) (1.2.0)\n",
            "Requirement already satisfied: annotated-types>=0.4.0 in /Users/juandanielcastrellon/Documents/Universidad/CatorceavoSemestre/ProyGrado/Repo/tesis/lib/python3.11/site-packages (from pydantic!=1.8,!=1.8.1,<3.0.0,>=1.7.4->spacy<3.8.0,>=3.7.0->es-core-news-sm==3.7.0) (0.6.0)\n",
            "Requirement already satisfied: pydantic-core==2.18.2 in /Users/juandanielcastrellon/Documents/Universidad/CatorceavoSemestre/ProyGrado/Repo/tesis/lib/python3.11/site-packages (from pydantic!=1.8,!=1.8.1,<3.0.0,>=1.7.4->spacy<3.8.0,>=3.7.0->es-core-news-sm==3.7.0) (2.18.2)\n",
            "Requirement already satisfied: typing-extensions>=4.6.1 in /Users/juandanielcastrellon/Documents/Universidad/CatorceavoSemestre/ProyGrado/Repo/tesis/lib/python3.11/site-packages (from pydantic!=1.8,!=1.8.1,<3.0.0,>=1.7.4->spacy<3.8.0,>=3.7.0->es-core-news-sm==3.7.0) (4.10.0)\n",
            "Requirement already satisfied: charset-normalizer<4,>=2 in /Users/juandanielcastrellon/Documents/Universidad/CatorceavoSemestre/ProyGrado/Repo/tesis/lib/python3.11/site-packages (from requests<3.0.0,>=2.13.0->spacy<3.8.0,>=3.7.0->es-core-news-sm==3.7.0) (3.3.2)\n",
            "Requirement already satisfied: idna<4,>=2.5 in /Users/juandanielcastrellon/Documents/Universidad/CatorceavoSemestre/ProyGrado/Repo/tesis/lib/python3.11/site-packages (from requests<3.0.0,>=2.13.0->spacy<3.8.0,>=3.7.0->es-core-news-sm==3.7.0) (3.6)\n",
            "Requirement already satisfied: urllib3<3,>=1.21.1 in /Users/juandanielcastrellon/Documents/Universidad/CatorceavoSemestre/ProyGrado/Repo/tesis/lib/python3.11/site-packages (from requests<3.0.0,>=2.13.0->spacy<3.8.0,>=3.7.0->es-core-news-sm==3.7.0) (2.2.1)\n",
            "Requirement already satisfied: certifi>=2017.4.17 in /Users/juandanielcastrellon/Documents/Universidad/CatorceavoSemestre/ProyGrado/Repo/tesis/lib/python3.11/site-packages (from requests<3.0.0,>=2.13.0->spacy<3.8.0,>=3.7.0->es-core-news-sm==3.7.0) (2024.2.2)\n",
            "Requirement already satisfied: blis<0.8.0,>=0.7.8 in /Users/juandanielcastrellon/Documents/Universidad/CatorceavoSemestre/ProyGrado/Repo/tesis/lib/python3.11/site-packages (from thinc<8.3.0,>=8.2.2->spacy<3.8.0,>=3.7.0->es-core-news-sm==3.7.0) (0.7.11)\n",
            "Requirement already satisfied: confection<1.0.0,>=0.0.1 in /Users/juandanielcastrellon/Documents/Universidad/CatorceavoSemestre/ProyGrado/Repo/tesis/lib/python3.11/site-packages (from thinc<8.3.0,>=8.2.2->spacy<3.8.0,>=3.7.0->es-core-news-sm==3.7.0) (0.1.4)\n",
            "Requirement already satisfied: click<9.0.0,>=7.1.1 in /Users/juandanielcastrellon/Documents/Universidad/CatorceavoSemestre/ProyGrado/Repo/tesis/lib/python3.11/site-packages (from typer<0.10.0,>=0.3.0->spacy<3.8.0,>=3.7.0->es-core-news-sm==3.7.0) (8.1.7)\n",
            "Requirement already satisfied: cloudpathlib<0.17.0,>=0.7.0 in /Users/juandanielcastrellon/Documents/Universidad/CatorceavoSemestre/ProyGrado/Repo/tesis/lib/python3.11/site-packages (from weasel<0.4.0,>=0.1.0->spacy<3.8.0,>=3.7.0->es-core-news-sm==3.7.0) (0.16.0)\n",
            "Requirement already satisfied: MarkupSafe>=2.0 in /Users/juandanielcastrellon/Documents/Universidad/CatorceavoSemestre/ProyGrado/Repo/tesis/lib/python3.11/site-packages (from jinja2->spacy<3.8.0,>=3.7.0->es-core-news-sm==3.7.0) (2.1.5)\n",
            "Requirement already satisfied: marisa-trie>=0.7.7 in /Users/juandanielcastrellon/Documents/Universidad/CatorceavoSemestre/ProyGrado/Repo/tesis/lib/python3.11/site-packages (from language-data>=1.2->langcodes<4.0.0,>=3.2.0->spacy<3.8.0,>=3.7.0->es-core-news-sm==3.7.0) (1.1.1)\n",
            "\n",
            "\u001b[1m[\u001b[0m\u001b[34;49mnotice\u001b[0m\u001b[1;39;49m]\u001b[0m\u001b[39;49m A new release of pip is available: \u001b[0m\u001b[31;49m23.0.1\u001b[0m\u001b[39;49m -> \u001b[0m\u001b[32;49m24.0\u001b[0m\n",
            "\u001b[1m[\u001b[0m\u001b[34;49mnotice\u001b[0m\u001b[1;39;49m]\u001b[0m\u001b[39;49m To update, run: \u001b[0m\u001b[32;49mpip install --upgrade pip\u001b[0m\n",
            "\u001b[38;5;2m✔ Download and installation successful\u001b[0m\n",
            "You can now load the package via spacy.load('es_core_news_sm')\n"
          ]
        },
        {
          "name": "stderr",
          "output_type": "stream",
          "text": [
            "/Users/juandanielcastrellon/Documents/Universidad/CatorceavoSemestre/ProyGrado/Repo/tesis/lib/python3.11/site-packages/tqdm/auto.py:21: TqdmWarning: IProgress not found. Please update jupyter and ipywidgets. See https://ipywidgets.readthedocs.io/en/stable/user_install.html\n",
            "  from .autonotebook import tqdm as notebook_tqdm\n"
          ]
        }
      ],
      "source": [
        "import nltk\n",
        "import networkx as nx\n",
        "from collections import defaultdict\n",
        "from nltk import word_tokenize\n",
        "from nltk.util import ngrams\n",
        "import spacy\n",
        "nltk.download('punkt')\n",
        "!python -m spacy download es_core_news_sm\n",
        "import numpy as np\n",
        "from bokeh.io import output_notebook, show\n",
        "from bokeh.models import GraphRenderer, StaticLayoutProvider, Circle, MultiLine\n",
        "from bokeh.plotting import figure\n",
        "import networkx as nx\n",
        "import pandas as pd\n",
        "\n",
        "import torch\n",
        "from sklearn.model_selection import train_test_split\n",
        "from transformers import AutoTokenizer"
      ]
    },
    {
      "cell_type": "code",
      "execution_count": 3,
      "metadata": {},
      "outputs": [],
      "source": [
        "from Predict import get_sentiment\n",
        "from Models import SentimentAnalysisPretrainedBert\n",
        "from Constants import SEED"
      ]
    },
    {
      "cell_type": "code",
      "execution_count": 4,
      "metadata": {
        "colab": {
          "base_uri": "https://localhost:8080/",
          "height": 35
        },
        "id": "_D3iojYLXPZY",
        "outputId": "d5614978-124e-401b-aeba-8cda9e796a72"
      },
      "outputs": [
        {
          "data": {
            "text/plain": [
              "<All keys matched successfully>"
            ]
          },
          "execution_count": 4,
          "metadata": {},
          "output_type": "execute_result"
        }
      ],
      "source": [
        "# Load the Spanish language model\n",
        "nlp = spacy.load(\"es_core_news_sm\")\n",
        "\n",
        "def plural_to_singular(word):\n",
        "    # Process the word using Spacy\n",
        "    doc = nlp(word)\n",
        "    # Return the lemma of the first token\n",
        "    return doc[0].lemma_\n",
        "\n",
        "CATEGORIES_DICT = {\n",
        "    0: 'NEGATIVO',\n",
        "    1: 'NEUTRO',\n",
        "    2: 'POSITIVO',\n",
        "}\n",
        "\n",
        "#Modelo bert a usar\n",
        "BERT_MODEL = '../../TonysModels/old-spanish-beto-base-cased.pt'\n",
        "\n",
        "#Dispositivo sobre el que se corre el modelo de ML\n",
        "DEVICE = torch.device('cuda' if torch.cuda.is_available() else 'cpu')\n",
        "\n",
        "tokenizer_cased = AutoTokenizer.from_pretrained(\"dccuchile/bert-base-spanish-wwm-cased\")\n",
        "\n",
        "torch.manual_seed(SEED)\n",
        "\n",
        "model = SentimentAnalysisPretrainedBert(BERT_MODEL, 0.4, 4, 256, 128,  True).to(DEVICE)\n",
        "\n",
        "# Cargar un modelo que ya había sido Finetuneado\n",
        "checkpoint_classifier = torch.load(\n",
        "    \"../BestModel/Mejores_guardados_beto_cased.pt\",\n",
        "    map_location=torch.device(DEVICE)\n",
        ")\n",
        "\n",
        "model.load_state_dict(checkpoint_classifier['model_state_dict'])\n"
      ]
    },
    {
      "cell_type": "code",
      "execution_count": null,
      "metadata": {
        "id": "aFWfHJEVZYRT"
      },
      "outputs": [
        {
          "data": {
            "text/html": [
              "<div>\n",
              "<style scoped>\n",
              "    .dataframe tbody tr th:only-of-type {\n",
              "        vertical-align: middle;\n",
              "    }\n",
              "\n",
              "    .dataframe tbody tr th {\n",
              "        vertical-align: top;\n",
              "    }\n",
              "\n",
              "    .dataframe thead th {\n",
              "        text-align: right;\n",
              "    }\n",
              "</style>\n",
              "<table border=\"1\" class=\"dataframe\">\n",
              "  <thead>\n",
              "    <tr style=\"text-align: right;\">\n",
              "      <th></th>\n",
              "      <th>file</th>\n",
              "      <th>Año</th>\n",
              "      <th>Periódico</th>\n",
              "      <th>Ciudad</th>\n",
              "      <th>Texto</th>\n",
              "      <th>Sentimiento</th>\n",
              "      <th>predictions</th>\n",
              "      <th>negative_probs</th>\n",
              "      <th>neutral_probs</th>\n",
              "      <th>positive_probs</th>\n",
              "      <th>ironic_probs</th>\n",
              "      <th>Texto_Lematizado</th>\n",
              "      <th>Sustantivos</th>\n",
              "    </tr>\n",
              "  </thead>\n",
              "  <tbody>\n",
              "    <tr>\n",
              "      <th>0</th>\n",
              "      <td>../../Datos/19th_century_Latam_Newspapers_1/PF...</td>\n",
              "      <td>1870</td>\n",
              "      <td>Los loros</td>\n",
              "      <td>Popayán</td>\n",
              "      <td>publicacion semanal  ignoramos si sus restos f...</td>\n",
              "      <td>NEUTRO</td>\n",
              "      <td>1.0</td>\n",
              "      <td>9.996460</td>\n",
              "      <td>55.532199</td>\n",
              "      <td>33.521801</td>\n",
              "      <td>0.949539</td>\n",
              "      <td>['publicacion', 'semanal', 'ignorar', 'resto',...</td>\n",
              "      <td>['restos', 'fin', 'soldados', 'puestos', 'comb...</td>\n",
              "    </tr>\n",
              "    <tr>\n",
              "      <th>1</th>\n",
              "      <td>../../Datos/19th_century_Latam_Newspapers_1/PF...</td>\n",
              "      <td>1870</td>\n",
              "      <td>Los loros</td>\n",
              "      <td>Popayán</td>\n",
              "      <td>se presente en su oficina el que monto en la g...</td>\n",
              "      <td>NEUTRO</td>\n",
              "      <td>1.0</td>\n",
              "      <td>17.339712</td>\n",
              "      <td>63.219225</td>\n",
              "      <td>18.328328</td>\n",
              "      <td>1.112728</td>\n",
              "      <td>['presentar', 'oficina', 'monto', 'gallina', '...</td>\n",
              "      <td>['oficina', 'monto', 'gallina', 'miedo', 'desp...</td>\n",
              "    </tr>\n",
              "    <tr>\n",
              "      <th>2</th>\n",
              "      <td>../../Datos/19th_century_Latam_Newspapers_1/PF...</td>\n",
              "      <td>1870</td>\n",
              "      <td>Los loros</td>\n",
              "      <td>Popayán</td>\n",
              "      <td>de baron de las tenazas, a don agustin castill...</td>\n",
              "      <td>POSITIVO</td>\n",
              "      <td>2.0</td>\n",
              "      <td>7.059140</td>\n",
              "      <td>42.583779</td>\n",
              "      <td>49.531049</td>\n",
              "      <td>0.826027</td>\n",
              "      <td>['bar', 'tenaza', 'don', 'agustin', 'castillo'...</td>\n",
              "      <td>['tenazas', 'don', 'agustin', 'castillo', 'mar...</td>\n",
              "    </tr>\n",
              "    <tr>\n",
              "      <th>3</th>\n",
              "      <td>../../Datos/19th_century_Latam_Newspapers_1/PF...</td>\n",
              "      <td>1870</td>\n",
              "      <td>Los loros</td>\n",
              "      <td>Popayán</td>\n",
              "      <td>al articulo presente, en una oracion ferviente...</td>\n",
              "      <td>POSITIVO</td>\n",
              "      <td>2.0</td>\n",
              "      <td>6.416973</td>\n",
              "      <td>21.443181</td>\n",
              "      <td>71.021354</td>\n",
              "      <td>1.118488</td>\n",
              "      <td>['articulo', 'presente', 'oracion', 'ferviente...</td>\n",
              "      <td>['articulo', 'oracion', 'satanas', 'jamas', 'i...</td>\n",
              "    </tr>\n",
              "    <tr>\n",
              "      <th>4</th>\n",
              "      <td>../../Datos/19th_century_Latam_Newspapers_1/PF...</td>\n",
              "      <td>1870</td>\n",
              "      <td>Los loros</td>\n",
              "      <td>Popayán</td>\n",
              "      <td>quien es el que desde aca tantas noticias envi...</td>\n",
              "      <td>NEUTRO</td>\n",
              "      <td>1.0</td>\n",
              "      <td>11.500288</td>\n",
              "      <td>60.579348</td>\n",
              "      <td>27.018249</td>\n",
              "      <td>0.902115</td>\n",
              "      <td>['aca', 'tanto', 'noticia', 'envia', 'adivinar...</td>\n",
              "      <td>['noticias', 'nadie', 'ano', 'plazo', 'bribona...</td>\n",
              "    </tr>\n",
              "  </tbody>\n",
              "</table>\n",
              "</div>"
            ],
            "text/plain": [
              "                                                file   Año  Periódico  \\\n",
              "0  ../../Datos/19th_century_Latam_Newspapers_1/PF...  1870  Los loros   \n",
              "1  ../../Datos/19th_century_Latam_Newspapers_1/PF...  1870  Los loros   \n",
              "2  ../../Datos/19th_century_Latam_Newspapers_1/PF...  1870  Los loros   \n",
              "3  ../../Datos/19th_century_Latam_Newspapers_1/PF...  1870  Los loros   \n",
              "4  ../../Datos/19th_century_Latam_Newspapers_1/PF...  1870  Los loros   \n",
              "\n",
              "    Ciudad                                              Texto Sentimiento  \\\n",
              "0  Popayán  publicacion semanal  ignoramos si sus restos f...      NEUTRO   \n",
              "1  Popayán  se presente en su oficina el que monto en la g...      NEUTRO   \n",
              "2  Popayán  de baron de las tenazas, a don agustin castill...    POSITIVO   \n",
              "3  Popayán  al articulo presente, en una oracion ferviente...    POSITIVO   \n",
              "4  Popayán  quien es el que desde aca tantas noticias envi...      NEUTRO   \n",
              "\n",
              "   predictions  negative_probs  neutral_probs  positive_probs  ironic_probs  \\\n",
              "0          1.0        9.996460      55.532199       33.521801      0.949539   \n",
              "1          1.0       17.339712      63.219225       18.328328      1.112728   \n",
              "2          2.0        7.059140      42.583779       49.531049      0.826027   \n",
              "3          2.0        6.416973      21.443181       71.021354      1.118488   \n",
              "4          1.0       11.500288      60.579348       27.018249      0.902115   \n",
              "\n",
              "                                    Texto_Lematizado  \\\n",
              "0  ['publicacion', 'semanal', 'ignorar', 'resto',...   \n",
              "1  ['presentar', 'oficina', 'monto', 'gallina', '...   \n",
              "2  ['bar', 'tenaza', 'don', 'agustin', 'castillo'...   \n",
              "3  ['articulo', 'presente', 'oracion', 'ferviente...   \n",
              "4  ['aca', 'tanto', 'noticia', 'envia', 'adivinar...   \n",
              "\n",
              "                                         Sustantivos  \n",
              "0  ['restos', 'fin', 'soldados', 'puestos', 'comb...  \n",
              "1  ['oficina', 'monto', 'gallina', 'miedo', 'desp...  \n",
              "2  ['tenazas', 'don', 'agustin', 'castillo', 'mar...  \n",
              "3  ['articulo', 'oracion', 'satanas', 'jamas', 'i...  \n",
              "4  ['noticias', 'nadie', 'ano', 'plazo', 'bribona...  "
            ]
          },
          "execution_count": 5,
          "metadata": {},
          "output_type": "execute_result"
        }
      ],
      "source": [
        "data = pd.read_csv('../../Resultados/Beto_tagged.csv', sep=';')\n",
        "columns_to_drop = data.filter(like='Unnamed').columns\n",
        "data = data.drop(columns=columns_to_drop)\n",
        "data.head()"
      ]
    },
    {
      "cell_type": "code",
      "execution_count": null,
      "metadata": {},
      "outputs": [
        {
          "data": {
            "text/plain": [
              "20"
            ]
          },
          "execution_count": 6,
          "metadata": {},
          "output_type": "execute_result"
        }
      ],
      "source": [
        "words = [\n",
        "    'numero', 'doctor', 'gobierno', 'senor', 'ciudad', 'alli', 'ano', 'bogota', \n",
        "    'pais', 'nombre', 'hombre', 'patria', 'dios', 'hombres', 'dia', 'obra', \n",
        "    'anos', 'muerte', 'pueblo', 'colombia'\n",
        "]\n",
        "\n",
        "len(words)"
      ]
    },
    {
      "cell_type": "code",
      "execution_count": null,
      "metadata": {
        "colab": {
          "base_uri": "https://localhost:8080/"
        },
        "id": "xf178KhnmrYi",
        "outputId": "028c8f87-e522-460f-9e77-d90c26e19698"
      },
      "outputs": [],
      "source": [
        "from tqdm import tqdm\n",
        "\n",
        "def crear_grafo(texts, words_to_search, context=40, num_times=3):\n",
        "    # Crear un grafo no dirigido\n",
        "    G = nx.Graph()\n",
        "\n",
        "    # Preprocesar las palabras para manejar plurales\n",
        "    words = [plural_to_singular(w) for w in words_to_search]\n",
        "    words_to_index = {word: i for i, word in enumerate(words)}\n",
        "    index_to_words = {i: word for i, word in enumerate(words)}\n",
        "\n",
        "    word_appearences = {}\n",
        "\n",
        "    edge_sentiment = {}\n",
        "\n",
        "    node_sentiment = {}\n",
        "    for text in tqdm(texts):\n",
        "        tokens = word_tokenize(text.lower())\n",
        "        # Generar n-gramas de tamaño 'context'\n",
        "\n",
        "        for i, token in enumerate(tokens):\n",
        "            min_token = plural_to_singular(token)\n",
        "\n",
        "\n",
        "\n",
        "            if min_token in words:\n",
        "                context_min = max(0, i-context)\n",
        "                context_max = min(len(tokens), i+context)\n",
        "\n",
        "                context_window = tokens[context_min:context_max]\n",
        "                sentiment = get_sentiment(model, ' '.join(context_window), tokenizer_cased)[1]\n",
        "                for word in context_window:\n",
        "                    min_word = plural_to_singular(word)\n",
        "                    if min_word in words and min_word!=min_token:\n",
        "                        if G.has_edge(words_to_index[min_token], words_to_index[min_word]):\n",
        "                            G[words_to_index[min_token]][words_to_index[min_word]]['weight'] += 1\n",
        "                        else:\n",
        "                            G.add_edge(words_to_index[min_token], words_to_index[min_word], weight=1)\n",
        "                            sent = edge_sentiment.get((min_token, min_word), {})\n",
        "                            sent[sentiment] = sent.get(sentiment, 0) + 1\n",
        "                            edge_sentiment[(min_token, min_word)] = sent\n",
        "\n",
        "                word_appearences[words_to_index[min_token]] = word_appearences.get(words_to_index[min_token], 0) + 1\n",
        "\n",
        "                if min_token in node_sentiment:\n",
        "                    node_sentiment[words_to_index[min_token]][sentiment] += 1\n",
        "                else:\n",
        "                    node_sentiment[words_to_index[min_token]] = {k: 0 for k in CATEGORIES_DICT.values()}\n",
        "                    node_sentiment[words_to_index[min_token]][sentiment] += 1\n",
        "\n",
        "    nx.set_node_attributes(G, word_appearences, 'appearances')\n",
        "\n",
        "    most_common_sent = {w: max(f, key=f.get) for w, f in node_sentiment.items()}\n",
        "    nx.set_node_attributes(G, most_common_sent, 'sentiment')\n",
        "\n",
        "    nx.set_node_attributes(G, index_to_words, 'word')\n",
        "    for edge, sentiments in edge_sentiment.items():\n",
        "        most_common_sentiment = max(sentiments, key=sentiments.get)\n",
        "        G[words_to_index[edge[0]]][words_to_index[edge[1]]]['sentiment'] = most_common_sentiment\n",
        "\n",
        "    # Filtrar arcos con peso menor a 'num_times'\n",
        "    for u, v, data in list(G.edges(data=True)):\n",
        "        G[u][v]['weight'] /= 2\n",
        "        if data['weight'] < num_times:\n",
        "            G.remove_edge(u, v)\n",
        "\n",
        "    return G\n",
        "\n",
        "G = crear_grafo(list(data.Texto), words, context = 40, num_times = 10)\n",
        "\n",
        "print(\"Nodos:\", G.nodes(data=True))\n",
        "print(\"Arcos:\", G.edges(data=True))"
      ]
    },
    {
      "cell_type": "code",
      "execution_count": null,
      "metadata": {},
      "outputs": [
        {
          "name": "stdout",
          "output_type": "stream",
          "text": [
            "Nodos: 18\n",
            "Arcos: 153\n"
          ]
        }
      ],
      "source": [
        "print(\"Nodos:\", len(G.nodes(data=True)))\n",
        "print(\"Arcos:\", len(G.edges(data=True)))"
      ]
    },
    {
      "cell_type": "code",
      "execution_count": 30,
      "metadata": {},
      "outputs": [],
      "source": [
        "nx.write_graphml(G, \"../grafo/grafo-prueba1-40_contexto-10rep.graphml\")"
      ]
    },
    {
      "cell_type": "code",
      "execution_count": 31,
      "metadata": {},
      "outputs": [],
      "source": [
        "G = nx.read_graphml(\"../grafo/grafo-prueba1-40_contexto-10rep.graphml\")"
      ]
    },
    {
      "cell_type": "code",
      "execution_count": 9,
      "metadata": {},
      "outputs": [
        {
          "name": "stdout",
          "output_type": "stream",
          "text": [
            "Nodos: 18\n",
            "Arcos: 153\n"
          ]
        }
      ],
      "source": [
        "print(\"Nodos:\", len(G.nodes(data=True)))\n",
        "print(\"Arcos:\", len(G.edges(data=True)))"
      ]
    },
    {
      "cell_type": "code",
      "execution_count": 27,
      "metadata": {
        "id": "SyHPz6ePu8uX"
      },
      "outputs": [
        {
          "data": {
            "text/html": [
              "    <style>\n",
              "        .bk-notebook-logo {\n",
              "            display: block;\n",
              "            width: 20px;\n",
              "            height: 20px;\n",
              "            background-image: url(data:image/png;base64,iVBORw0KGgoAAAANSUhEUgAAABQAAAAUCAYAAACNiR0NAAAABHNCSVQICAgIfAhkiAAAAAlwSFlzAAALEgAACxIB0t1+/AAAABx0RVh0U29mdHdhcmUAQWRvYmUgRmlyZXdvcmtzIENTNui8sowAAAOkSURBVDiNjZRtaJVlGMd/1/08zzln5zjP1LWcU9N0NkN8m2CYjpgQYQXqSs0I84OLIC0hkEKoPtiH3gmKoiJDU7QpLgoLjLIQCpEsNJ1vqUOdO7ppbuec5+V+rj4ctwzd8IIbbi6u+8f1539dt3A78eXC7QizUF7gyV1fD1Yqg4JWz84yffhm0qkFqBogB9rM8tZdtwVsPUhWhGcFJngGeWrPzHm5oaMmkfEg1usvLFyc8jLRqDOMru7AyC8saQr7GG7f5fvDeH7Ej8CM66nIF+8yngt6HWaKh7k49Soy9nXurCi1o3qUbS3zWfrYeQDTB/Qj6kX6Ybhw4B+bOYoLKCC9H3Nu/leUTZ1JdRWkkn2ldcCamzrcf47KKXdAJllSlxAOkRgyHsGC/zRday5Qld9DyoM4/q/rUoy/CXh3jzOu3bHUVZeU+DEn8FInkPBFlu3+nW3Nw0mk6vCDiWg8CeJaxEwuHS3+z5RgY+YBR6V1Z1nxSOfoaPa4LASWxxdNp+VWTk7+4vzaou8v8PN+xo+KY2xsw6une2frhw05CTYOmQvsEhjhWjn0bmXPjpE1+kplmmkP3suftwTubK9Vq22qKmrBhpY4jvd5afdRA3wGjFAgcnTK2s4hY0/GPNIb0nErGMCRxWOOX64Z8RAC4oCXdklmEvcL8o0BfkNK4lUg9HTl+oPlQxdNo3Mg4Nv175e/1LDGzZen30MEjRUtmXSfiTVu1kK8W4txyV6BMKlbgk3lMwYCiusNy9fVfvvwMxv8Ynl6vxoByANLTWplvuj/nF9m2+PDtt1eiHPBr1oIfhCChQMBw6Aw0UulqTKZdfVvfG7VcfIqLG9bcldL/+pdWTLxLUy8Qq38heUIjh4XlzZxzQm19lLFlr8vdQ97rjZVOLf8nclzckbcD4wxXMidpX30sFd37Fv/GtwwhzhxGVAprjbg0gCAEeIgwCZyTV2Z1REEW8O4py0wsjeloKoMr6iCY6dP92H6Vw/oTyICIthibxjm/DfN9lVz8IqtqKYLUXfoKVMVQVVJOElGjrnnUt9T9wbgp8AyYKaGlqingHZU/uG2NTZSVqwHQTWkx9hxjkpWDaCg6Ckj5qebgBVbT3V3NNXMSiWSDdGV3hrtzla7J+duwPOToIg42ChPQOQjspnSlp1V+Gjdged7+8UN5CRAV7a5EdFNwCjEaBR27b3W890TE7g24NAP/mMDXRWrGoFPQI9ls/MWO2dWFAar/xcOIImbbpA3zgAAAABJRU5ErkJggg==);\n",
              "        }\n",
              "    </style>\n",
              "    <div>\n",
              "        <a href=\"https://bokeh.org\" target=\"_blank\" class=\"bk-notebook-logo\"></a>\n",
              "        <span id=\"aebde7a2-4097-493c-84c6-4d9dd22d7635\">Loading BokehJS ...</span>\n",
              "    </div>\n"
            ]
          },
          "metadata": {},
          "output_type": "display_data"
        },
        {
          "data": {
            "application/javascript": "'use strict';\n(function(root) {\n  function now() {\n    return new Date();\n  }\n\n  const force = true;\n\n  if (typeof root._bokeh_onload_callbacks === \"undefined\" || force === true) {\n    root._bokeh_onload_callbacks = [];\n    root._bokeh_is_loading = undefined;\n  }\n\nconst JS_MIME_TYPE = 'application/javascript';\n  const HTML_MIME_TYPE = 'text/html';\n  const EXEC_MIME_TYPE = 'application/vnd.bokehjs_exec.v0+json';\n  const CLASS_NAME = 'output_bokeh rendered_html';\n\n  /**\n   * Render data to the DOM node\n   */\n  function render(props, node) {\n    const script = document.createElement(\"script\");\n    node.appendChild(script);\n  }\n\n  /**\n   * Handle when an output is cleared or removed\n   */\n  function handleClearOutput(event, handle) {\n    function drop(id) {\n      const view = Bokeh.index.get_by_id(id)\n      if (view != null) {\n        view.model.document.clear()\n        Bokeh.index.delete(view)\n      }\n    }\n\n    const cell = handle.cell;\n\n    const id = cell.output_area._bokeh_element_id;\n    const server_id = cell.output_area._bokeh_server_id;\n\n    // Clean up Bokeh references\n    if (id != null) {\n      drop(id)\n    }\n\n    if (server_id !== undefined) {\n      // Clean up Bokeh references\n      const cmd_clean = \"from bokeh.io.state import curstate; print(curstate().uuid_to_server['\" + server_id + \"'].get_sessions()[0].document.roots[0]._id)\";\n      cell.notebook.kernel.execute(cmd_clean, {\n        iopub: {\n          output: function(msg) {\n            const id = msg.content.text.trim()\n            drop(id)\n          }\n        }\n      });\n      // Destroy server and session\n      const cmd_destroy = \"import bokeh.io.notebook as ion; ion.destroy_server('\" + server_id + \"')\";\n      cell.notebook.kernel.execute(cmd_destroy);\n    }\n  }\n\n  /**\n   * Handle when a new output is added\n   */\n  function handleAddOutput(event, handle) {\n    const output_area = handle.output_area;\n    const output = handle.output;\n\n    // limit handleAddOutput to display_data with EXEC_MIME_TYPE content only\n    if ((output.output_type != \"display_data\") || (!Object.prototype.hasOwnProperty.call(output.data, EXEC_MIME_TYPE))) {\n      return\n    }\n\n    const toinsert = output_area.element.find(\".\" + CLASS_NAME.split(' ')[0]);\n\n    if (output.metadata[EXEC_MIME_TYPE][\"id\"] !== undefined) {\n      toinsert[toinsert.length - 1].firstChild.textContent = output.data[JS_MIME_TYPE];\n      // store reference to embed id on output_area\n      output_area._bokeh_element_id = output.metadata[EXEC_MIME_TYPE][\"id\"];\n    }\n    if (output.metadata[EXEC_MIME_TYPE][\"server_id\"] !== undefined) {\n      const bk_div = document.createElement(\"div\");\n      bk_div.innerHTML = output.data[HTML_MIME_TYPE];\n      const script_attrs = bk_div.children[0].attributes;\n      for (let i = 0; i < script_attrs.length; i++) {\n        toinsert[toinsert.length - 1].firstChild.setAttribute(script_attrs[i].name, script_attrs[i].value);\n        toinsert[toinsert.length - 1].firstChild.textContent = bk_div.children[0].textContent\n      }\n      // store reference to server id on output_area\n      output_area._bokeh_server_id = output.metadata[EXEC_MIME_TYPE][\"server_id\"];\n    }\n  }\n\n  function register_renderer(events, OutputArea) {\n\n    function append_mime(data, metadata, element) {\n      // create a DOM node to render to\n      const toinsert = this.create_output_subarea(\n        metadata,\n        CLASS_NAME,\n        EXEC_MIME_TYPE\n      );\n      this.keyboard_manager.register_events(toinsert);\n      // Render to node\n      const props = {data: data, metadata: metadata[EXEC_MIME_TYPE]};\n      render(props, toinsert[toinsert.length - 1]);\n      element.append(toinsert);\n      return toinsert\n    }\n\n    /* Handle when an output is cleared or removed */\n    events.on('clear_output.CodeCell', handleClearOutput);\n    events.on('delete.Cell', handleClearOutput);\n\n    /* Handle when a new output is added */\n    events.on('output_added.OutputArea', handleAddOutput);\n\n    /**\n     * Register the mime type and append_mime function with output_area\n     */\n    OutputArea.prototype.register_mime_type(EXEC_MIME_TYPE, append_mime, {\n      /* Is output safe? */\n      safe: true,\n      /* Index of renderer in `output_area.display_order` */\n      index: 0\n    });\n  }\n\n  // register the mime type if in Jupyter Notebook environment and previously unregistered\n  if (root.Jupyter !== undefined) {\n    const events = require('base/js/events');\n    const OutputArea = require('notebook/js/outputarea').OutputArea;\n\n    if (OutputArea.prototype.mime_types().indexOf(EXEC_MIME_TYPE) == -1) {\n      register_renderer(events, OutputArea);\n    }\n  }\n  if (typeof (root._bokeh_timeout) === \"undefined\" || force === true) {\n    root._bokeh_timeout = Date.now() + 5000;\n    root._bokeh_failed_load = false;\n  }\n\n  const NB_LOAD_WARNING = {'data': {'text/html':\n     \"<div style='background-color: #fdd'>\\n\"+\n     \"<p>\\n\"+\n     \"BokehJS does not appear to have successfully loaded. If loading BokehJS from CDN, this \\n\"+\n     \"may be due to a slow or bad network connection. Possible fixes:\\n\"+\n     \"</p>\\n\"+\n     \"<ul>\\n\"+\n     \"<li>re-rerun `output_notebook()` to attempt to load from CDN again, or</li>\\n\"+\n     \"<li>use INLINE resources instead, as so:</li>\\n\"+\n     \"</ul>\\n\"+\n     \"<code>\\n\"+\n     \"from bokeh.resources import INLINE\\n\"+\n     \"output_notebook(resources=INLINE)\\n\"+\n     \"</code>\\n\"+\n     \"</div>\"}};\n\n  function display_loaded(error = null) {\n    const el = document.getElementById(\"aebde7a2-4097-493c-84c6-4d9dd22d7635\");\n    if (el != null) {\n      const html = (() => {\n        if (typeof root.Bokeh === \"undefined\") {\n          if (error == null) {\n            return \"BokehJS is loading ...\";\n          } else {\n            return \"BokehJS failed to load.\";\n          }\n        } else {\n          const prefix = `BokehJS ${root.Bokeh.version}`;\n          if (error == null) {\n            return `${prefix} successfully loaded.`;\n          } else {\n            return `${prefix} <b>encountered errors</b> while loading and may not function as expected.`;\n          }\n        }\n      })();\n      el.innerHTML = html;\n\n      if (error != null) {\n        const wrapper = document.createElement(\"div\");\n        wrapper.style.overflow = \"auto\";\n        wrapper.style.height = \"5em\";\n        wrapper.style.resize = \"vertical\";\n        const content = document.createElement(\"div\");\n        content.style.fontFamily = \"monospace\";\n        content.style.whiteSpace = \"pre-wrap\";\n        content.style.backgroundColor = \"rgb(255, 221, 221)\";\n        content.textContent = error.stack ?? error.toString();\n        wrapper.append(content);\n        el.append(wrapper);\n      }\n    } else if (Date.now() < root._bokeh_timeout) {\n      setTimeout(() => display_loaded(error), 100);\n    }\n  }\n\n  function run_callbacks() {\n    try {\n      root._bokeh_onload_callbacks.forEach(function(callback) {\n        if (callback != null)\n          callback();\n      });\n    } finally {\n      delete root._bokeh_onload_callbacks\n    }\n    console.debug(\"Bokeh: all callbacks have finished\");\n  }\n\n  function load_libs(css_urls, js_urls, callback) {\n    if (css_urls == null) css_urls = [];\n    if (js_urls == null) js_urls = [];\n\n    root._bokeh_onload_callbacks.push(callback);\n    if (root._bokeh_is_loading > 0) {\n      console.debug(\"Bokeh: BokehJS is being loaded, scheduling callback at\", now());\n      return null;\n    }\n    if (js_urls == null || js_urls.length === 0) {\n      run_callbacks();\n      return null;\n    }\n    console.debug(\"Bokeh: BokehJS not loaded, scheduling load and callback at\", now());\n    root._bokeh_is_loading = css_urls.length + js_urls.length;\n\n    function on_load() {\n      root._bokeh_is_loading--;\n      if (root._bokeh_is_loading === 0) {\n        console.debug(\"Bokeh: all BokehJS libraries/stylesheets loaded\");\n        run_callbacks()\n      }\n    }\n\n    function on_error(url) {\n      console.error(\"failed to load \" + url);\n    }\n\n    for (let i = 0; i < css_urls.length; i++) {\n      const url = css_urls[i];\n      const element = document.createElement(\"link\");\n      element.onload = on_load;\n      element.onerror = on_error.bind(null, url);\n      element.rel = \"stylesheet\";\n      element.type = \"text/css\";\n      element.href = url;\n      console.debug(\"Bokeh: injecting link tag for BokehJS stylesheet: \", url);\n      document.body.appendChild(element);\n    }\n\n    for (let i = 0; i < js_urls.length; i++) {\n      const url = js_urls[i];\n      const element = document.createElement('script');\n      element.onload = on_load;\n      element.onerror = on_error.bind(null, url);\n      element.async = false;\n      element.src = url;\n      console.debug(\"Bokeh: injecting script tag for BokehJS library: \", url);\n      document.head.appendChild(element);\n    }\n  };\n\n  function inject_raw_css(css) {\n    const element = document.createElement(\"style\");\n    element.appendChild(document.createTextNode(css));\n    document.body.appendChild(element);\n  }\n\n  const js_urls = [\"https://cdn.bokeh.org/bokeh/release/bokeh-3.4.1.min.js\", \"https://cdn.bokeh.org/bokeh/release/bokeh-gl-3.4.1.min.js\", \"https://cdn.bokeh.org/bokeh/release/bokeh-widgets-3.4.1.min.js\", \"https://cdn.bokeh.org/bokeh/release/bokeh-tables-3.4.1.min.js\", \"https://cdn.bokeh.org/bokeh/release/bokeh-mathjax-3.4.1.min.js\"];\n  const css_urls = [];\n\n  const inline_js = [    function(Bokeh) {\n      Bokeh.set_log_level(\"info\");\n    },\nfunction(Bokeh) {\n    }\n  ];\n\n  function run_inline_js() {\n    if (root.Bokeh !== undefined || force === true) {\n      try {\n            for (let i = 0; i < inline_js.length; i++) {\n      inline_js[i].call(root, root.Bokeh);\n    }\n\n      } catch (error) {display_loaded(error);throw error;\n      }if (force === true) {\n        display_loaded();\n      }} else if (Date.now() < root._bokeh_timeout) {\n      setTimeout(run_inline_js, 100);\n    } else if (!root._bokeh_failed_load) {\n      console.log(\"Bokeh: BokehJS failed to load within specified timeout.\");\n      root._bokeh_failed_load = true;\n    } else if (force !== true) {\n      const cell = $(document.getElementById(\"aebde7a2-4097-493c-84c6-4d9dd22d7635\")).parents('.cell').data().cell;\n      cell.output_area.append_execute_result(NB_LOAD_WARNING)\n    }\n  }\n\n  if (root._bokeh_is_loading === 0) {\n    console.debug(\"Bokeh: BokehJS loaded, going straight to plotting\");\n    run_inline_js();\n  } else {\n    load_libs(css_urls, js_urls, function() {\n      console.debug(\"Bokeh: BokehJS plotting callback run at\", now());\n      run_inline_js();\n    });\n  }\n}(window));",
            "application/vnd.bokehjs_load.v0+json": ""
          },
          "metadata": {},
          "output_type": "display_data"
        }
      ],
      "source": [
        "output_notebook()"
      ]
    },
    {
      "cell_type": "code",
      "execution_count": 22,
      "metadata": {
        "id": "CfLa_IO5yW-_"
      },
      "outputs": [],
      "source": [
        "from bokeh.plotting import figure, from_networkx, show\n",
        "from bokeh.models import Legend, LegendItem\n",
        "from bokeh.models import ColumnDataSource, LabelSet"
      ]
    },
    {
      "cell_type": "code",
      "execution_count": 23,
      "metadata": {},
      "outputs": [],
      "source": [
        "words_to_index = {word: i for i, word in enumerate(words)}\n",
        "index_to_words = {i: word for i, word in enumerate(words)}"
      ]
    },
    {
      "cell_type": "code",
      "execution_count": 24,
      "metadata": {},
      "outputs": [
        {
          "data": {
            "text/plain": [
              "{'numero': 0,\n",
              " 'doctor': 1,\n",
              " 'gobierno': 2,\n",
              " 'senor': 3,\n",
              " 'ciudad': 4,\n",
              " 'alli': 5,\n",
              " 'ano': 6,\n",
              " 'bogota': 7,\n",
              " 'pais': 8,\n",
              " 'nombre': 9,\n",
              " 'hombre': 10,\n",
              " 'patria': 11,\n",
              " 'dios': 12,\n",
              " 'hombres': 13,\n",
              " 'dia': 14,\n",
              " 'obra': 15,\n",
              " 'anos': 16,\n",
              " 'muerte': 17,\n",
              " 'pueblo': 18,\n",
              " 'colombia': 19}"
            ]
          },
          "execution_count": 24,
          "metadata": {},
          "output_type": "execute_result"
        }
      ],
      "source": [
        "words_to_index"
      ]
    },
    {
      "cell_type": "code",
      "execution_count": 29,
      "metadata": {
        "colab": {
          "base_uri": "https://localhost:8080/",
          "height": 803
        },
        "id": "TRNJ_rC6z4WS",
        "outputId": "3473d279-f78c-4d6d-b333-2e388f487265"
      },
      "outputs": [
        {
          "name": "stdout",
          "output_type": "stream",
          "text": [
            "['colombia', 'pueblo', 'doctor', 'senor', 'bogota', 'dio', 'hombre', 'obra', 'diar', 'numero', 'ciudad', 'muerte', 'ano', 'alli', 'gobierno', 'patria', 'pai', 'nombre']\n"
          ]
        },
        {
          "data": {
            "text/html": [
              "\n",
              "  <div id=\"bab9e835-7ae4-47ba-afc8-ba5c9161f05d\" data-root-id=\"p1263\" style=\"display: contents;\"></div>\n"
            ]
          },
          "metadata": {},
          "output_type": "display_data"
        },
        {
          "data": {
            "application/javascript": "(function(root) {\n  function embed_document(root) {\n  const docs_json = {\"2a7c7bce-d79a-4456-951d-33f1738c44c2\":{\"version\":\"3.4.1\",\"title\":\"Bokeh Application\",\"roots\":[{\"type\":\"object\",\"name\":\"Figure\",\"id\":\"p1263\",\"attributes\":{\"width\":768,\"height\":768,\"x_range\":{\"type\":\"object\",\"name\":\"Range1d\",\"id\":\"p1273\",\"attributes\":{\"start\":-2,\"end\":2}},\"y_range\":{\"type\":\"object\",\"name\":\"Range1d\",\"id\":\"p1274\",\"attributes\":{\"start\":-2,\"end\":2}},\"x_scale\":{\"type\":\"object\",\"name\":\"LinearScale\",\"id\":\"p1275\"},\"y_scale\":{\"type\":\"object\",\"name\":\"LinearScale\",\"id\":\"p1276\"},\"title\":{\"type\":\"object\",\"name\":\"Title\",\"id\":\"p1266\",\"attributes\":{\"text\":\"Graph Interaction Demo\"}},\"renderers\":[{\"type\":\"object\",\"name\":\"GraphRenderer\",\"id\":\"p1291\",\"attributes\":{\"layout_provider\":{\"type\":\"object\",\"name\":\"StaticLayoutProvider\",\"id\":\"p1308\",\"attributes\":{\"graph_layout\":{\"type\":\"map\",\"entries\":[[\"19\",{\"type\":\"ndarray\",\"array\":{\"type\":\"bytes\",\"data\":\"LqfOHwD3/D/tKADCCRThvw==\"},\"shape\":[2],\"dtype\":\"float64\",\"order\":\"little\"}],[\"18\",{\"type\":\"ndarray\",\"array\":{\"type\":\"bytes\",\"data\":\"kAfiTCLv7j9VZXxRtLjxvw==\"},\"shape\":[2],\"dtype\":\"float64\",\"order\":\"little\"}],[\"1\",{\"type\":\"ndarray\",\"array\":{\"type\":\"bytes\",\"data\":\"bUnImPqp1z8cwpo7Jp33Pw==\"},\"shape\":[2],\"dtype\":\"float64\",\"order\":\"little\"}],[\"3\",{\"type\":\"ndarray\",\"array\":{\"type\":\"bytes\",\"data\":\"GRsLQDopVL/H7PoRuhzZPw==\"},\"shape\":[2],\"dtype\":\"float64\",\"order\":\"little\"}],[\"7\",{\"type\":\"ndarray\",\"array\":{\"type\":\"bytes\",\"data\":\"T8A3eNMN6T/S0FcMKr3wPw==\"},\"shape\":[2],\"dtype\":\"float64\",\"order\":\"little\"}],[\"12\",{\"type\":\"ndarray\",\"array\":{\"type\":\"bytes\",\"data\":\"/////////78kHSPPl2Djvw==\"},\"shape\":[2],\"dtype\":\"float64\",\"order\":\"little\"}],[\"13\",{\"type\":\"ndarray\",\"array\":{\"type\":\"bytes\",\"data\":\"vI0uuowT2L/9/MOUAaXrvw==\"},\"shape\":[2],\"dtype\":\"float64\",\"order\":\"little\"}],[\"15\",{\"type\":\"ndarray\",\"array\":{\"type\":\"bytes\",\"data\":\"izpk1V8qy79g54bFCpL8Pw==\"},\"shape\":[2],\"dtype\":\"float64\",\"order\":\"little\"}],[\"14\",{\"type\":\"ndarray\",\"array\":{\"type\":\"bytes\",\"data\":\"pGLDejVq7r9Ev5kNlBfIvw==\"},\"shape\":[2],\"dtype\":\"float64\",\"order\":\"little\"}],[\"0\",{\"type\":\"ndarray\",\"array\":{\"type\":\"bytes\",\"data\":\"Qkalxv/C7b+QOTpELEv2Pw==\"},\"shape\":[2],\"dtype\":\"float64\",\"order\":\"little\"}],[\"4\",{\"type\":\"ndarray\",\"array\":{\"type\":\"bytes\",\"data\":\"kghi1mor5j+38o32aWvSvw==\"},\"shape\":[2],\"dtype\":\"float64\",\"order\":\"little\"}],[\"17\",{\"type\":\"ndarray\",\"array\":{\"type\":\"bytes\",\"data\":\"a5GEJTd+97+RKWXMAOj5vw==\"},\"shape\":[2],\"dtype\":\"float64\",\"order\":\"little\"}],[\"16\",{\"type\":\"ndarray\",\"array\":{\"type\":\"bytes\",\"data\":\"qw6qIB6E2b/loVQp4qDTPw==\"},\"shape\":[2],\"dtype\":\"float64\",\"order\":\"little\"}],[\"5\",{\"type\":\"ndarray\",\"array\":{\"type\":\"bytes\",\"data\":\"U6etBOdc/b93mHRCRcjkPw==\"},\"shape\":[2],\"dtype\":\"float64\",\"order\":\"little\"}],[\"2\",{\"type\":\"ndarray\",\"array\":{\"type\":\"bytes\",\"data\":\"NuolcJIB9T/8e5HR6xLZPw==\"},\"shape\":[2],\"dtype\":\"float64\",\"order\":\"little\"}],[\"11\",{\"type\":\"ndarray\",\"array\":{\"type\":\"bytes\",\"data\":\"UFnKiuwl4z+fElDwLpX3vw==\"},\"shape\":[2],\"dtype\":\"float64\",\"order\":\"little\"}],[\"8\",{\"type\":\"ndarray\",\"array\":{\"type\":\"bytes\",\"data\":\"uKGZ0JoL/z9hKRFb5UTrPw==\"},\"shape\":[2],\"dtype\":\"float64\",\"order\":\"little\"}],[\"9\",{\"type\":\"ndarray\",\"array\":{\"type\":\"bytes\",\"data\":\"h2soPGNP07/P3TIDvNH5vw==\"},\"shape\":[2],\"dtype\":\"float64\",\"order\":\"little\"}]]}}},\"node_renderer\":{\"type\":\"object\",\"name\":\"GlyphRenderer\",\"id\":\"p1296\",\"attributes\":{\"data_source\":{\"type\":\"object\",\"name\":\"ColumnDataSource\",\"id\":\"p1293\",\"attributes\":{\"selected\":{\"type\":\"object\",\"name\":\"Selection\",\"id\":\"p1294\",\"attributes\":{\"indices\":[],\"line_indices\":[]}},\"selection_policy\":{\"type\":\"object\",\"name\":\"UnionRenderers\",\"id\":\"p1295\"},\"data\":{\"type\":\"map\",\"entries\":[[\"sentiment\",[\"NEGATIVO\",\"NEGATIVO\",\"NEGATIVO\",\"NEUTRO\",\"NEGATIVO\",\"NEUTRO\",\"POSITIVO\",\"NEGATIVO\",\"NEGATIVO\",\"NEUTRO\",\"NEGATIVO\",\"POSITIVO\",\"NEGATIVO\",\"NEGATIVO\",\"POSITIVO\",\"POSITIVO\",\"NEUTRO\",\"NEUTRO\"]],[\"appearances\",[2009,3060,2455,7906,2382,1858,4404,2325,3270,2542,2501,1522,4300,2137,3237,2134,1798,2446]],[\"word\",[\"colombia\",\"pueblo\",\"doctor\",\"senor\",\"bogota\",\"dio\",\"hombre\",\"obra\",\"diar\",\"numero\",\"ciudad\",\"muerte\",\"ano\",\"alli\",\"gobierno\",\"patria\",\"pai\",\"nombre\"]],[\"index\",[\"19\",\"18\",\"1\",\"3\",\"7\",\"12\",\"13\",\"15\",\"14\",\"0\",\"4\",\"17\",\"16\",\"5\",\"2\",\"11\",\"8\",\"9\"]],[\"colors\",[\"#F44336\",\"#F44336\",\"#F44336\",\"#9E9E9E\",\"#F44336\",\"#9E9E9E\",\"#4CAF50\",\"#F44336\",\"#F44336\",\"#9E9E9E\",\"#F44336\",\"#4CAF50\",\"#F44336\",\"#F44336\",\"#4CAF50\",\"#4CAF50\",\"#9E9E9E\",\"#9E9E9E\"]],[\"size\",[12054,18360,14730,47436,14292,11148,26424,13950,19620,15252,15006,9132,25800,12822,19422,12804,10788,14676]]]}}},\"view\":{\"type\":\"object\",\"name\":\"CDSView\",\"id\":\"p1297\",\"attributes\":{\"filter\":{\"type\":\"object\",\"name\":\"AllIndices\",\"id\":\"p1298\"}}},\"glyph\":{\"type\":\"object\",\"name\":\"Scatter\",\"id\":\"p1292\",\"attributes\":{\"size\":{\"type\":\"field\",\"field\":\"size\"},\"fill_color\":{\"type\":\"field\",\"field\":\"colors\"}}}}},\"edge_renderer\":{\"type\":\"object\",\"name\":\"GlyphRenderer\",\"id\":\"p1303\",\"attributes\":{\"data_source\":{\"type\":\"object\",\"name\":\"ColumnDataSource\",\"id\":\"p1300\",\"attributes\":{\"selected\":{\"type\":\"object\",\"name\":\"Selection\",\"id\":\"p1301\",\"attributes\":{\"indices\":[],\"line_indices\":[]}},\"selection_policy\":{\"type\":\"object\",\"name\":\"UnionRenderers\",\"id\":\"p1302\"},\"data\":{\"type\":\"map\",\"entries\":[[\"weight\",[146.0,422.5,120.5,49.5,117.5,169.0,153.0,122.0,259.5,80.0,185.0,198.0,195.5,191.0,157.5,60.5,66.5,232.5,315.5,77.5,316.0,122.0,118.0,253.5,189.5,110.0,88.5,93.0,213.0,115.0,210.5,194.5,143.5,1314.5,166.5,171.0,100.0,126.5,147.0,68.0,182.5,208.0,78.0,107.5,150.5,117.5,314.0,101.0,709.0,305.0,477.0,522.5,304.5,541.0,634.0,755.5,291.0,431.5,628.0,530.0,284.0,232.0,219.0,246.5,94.0,162.5,243.0,317.0,80.0,125.0,141.5,107.5,57.0,92.0,68.0,264.5,72.5,56.0,136.5,29.0,54.0,141.0,63.0,92.0,69.5,95.5,94.0,154.0,142.0,111.0,165.0,247.5,231.0,301.0,214.5,267.5,196.0,160.0,150.0,107.0,154.5,249.5,52.5,107.5,79.0,96.5,128.0,112.0,139.5,146.0,330.0,96.0,236.5,125.0,200.5,160.5,220.0,169.0,122.0,69.0,68.5,128.0,268.5,83.0,46.5,141.0,201.0,358.5,166.0,84.5,53.0,76.5,75.0,54.0,29.0,152.5,90.5,87.0,196.0,337.0,202.5,216.5,182.0,75.0,113.5,69.0,109.0,282.0,129.0,101.5,122.5,177.0,127.0]],[\"sentiment\",[\"POSITIVO\",\"NEGATIVO\",\"NEGATIVO\",\"POSITIVO\",\"POSITIVO\",\"NEUTRO\",\"NEUTRO\",\"POSITIVO\",\"POSITIVO\",\"NEUTRO\",\"POSITIVO\",\"NEGATIVO\",\"NEUTRO\",\"NEGATIVO\",\"POSITIVO\",\"NEGATIVO\",\"POSITIVO\",\"POSITIVO\",\"NEGATIVO\",\"POSITIVO\",\"POSITIVO\",\"NEGATIVO\",\"POSITIVO\",\"NEGATIVO\",\"NEGATIVO\",\"POSITIVO\",\"NEGATIVO\",\"NEGATIVO\",\"NEGATIVO\",\"NEUTRO\",\"POSITIVO\",\"NEUTRO\",\"POSITIVO\",\"POSITIVO\",\"POSITIVO\",\"POSITIVO\",\"POSITIVO\",\"POSITIVO\",\"NEGATIVO\",\"NEGATIVO\",\"POSITIVO\",\"NEUTRO\",\"POSITIVO\",\"NEGATIVO\",\"NEUTRO\",\"POSITIVO\",\"POSITIVO\",\"POSITIVO\",\"POSITIVO\",\"NEGATIVO\",\"POSITIVO\",\"NEUTRO\",\"POSITIVO\",\"POSITIVO\",\"NEUTRO\",\"NEUTRO\",\"NEUTRO\",\"NEUTRO\",\"NEGATIVO\",\"NEUTRO\",\"NEGATIVO\",\"NEGATIVO\",\"NEUTRO\",\"NEUTRO\",\"POSITIVO\",\"NEUTRO\",\"POSITIVO\",\"POSITIVO\",\"POSITIVO\",\"POSITIVO\",\"NEUTRO\",\"POSITIVO\",\"NEGATIVO\",\"POSITIVO\",\"NEGATIVO\",\"POSITIVO\",\"POSITIVO\",\"NEGATIVO\",\"NEGATIVO\",\"POSITIVO\",\"NEGATIVO\",\"NEUTRO\",\"NEGATIVO\",\"NEUTRO\",\"NEUTRO\",\"POSITIVO\",\"NEGATIVO\",\"POSITIVO\",\"POSITIVO\",\"NEGATIVO\",\"NEGATIVO\",\"NEGATIVO\",\"NEGATIVO\",\"POSITIVO\",\"NEGATIVO\",\"NEUTRO\",\"POSITIVO\",\"NEUTRO\",\"POSITIVO\",\"POSITIVO\",\"NEUTRO\",\"NEUTRO\",\"NEGATIVO\",\"NEGATIVO\",\"NEGATIVO\",\"POSITIVO\",\"NEGATIVO\",\"POSITIVO\",\"POSITIVO\",\"POSITIVO\",\"NEUTRO\",\"NEGATIVO\",\"NEUTRO\",\"NEGATIVO\",\"NEGATIVO\",\"NEGATIVO\",\"POSITIVO\",\"NEUTRO\",\"NEUTRO\",\"POSITIVO\",\"POSITIVO\",\"NEGATIVO\",\"NEUTRO\",\"POSITIVO\",\"NEGATIVO\",\"NEUTRO\",\"NEUTRO\",\"POSITIVO\",\"NEGATIVO\",\"POSITIVO\",\"NEGATIVO\",\"POSITIVO\",\"NEGATIVO\",\"POSITIVO\",\"NEGATIVO\",\"POSITIVO\",\"POSITIVO\",\"POSITIVO\",\"POSITIVO\",\"NEUTRO\",\"POSITIVO\",\"POSITIVO\",\"POSITIVO\",\"NEGATIVO\",\"NEUTRO\",\"NEUTRO\",\"POSITIVO\",\"POSITIVO\",\"NEUTRO\",\"POSITIVO\",\"POSITIVO\",\"POSITIVO\",\"NEGATIVO\"]],[\"start\",[\"19\",\"19\",\"19\",\"19\",\"19\",\"19\",\"19\",\"19\",\"19\",\"19\",\"19\",\"19\",\"19\",\"19\",\"19\",\"19\",\"19\",\"18\",\"18\",\"18\",\"18\",\"18\",\"18\",\"18\",\"18\",\"18\",\"18\",\"18\",\"18\",\"18\",\"18\",\"18\",\"18\",\"1\",\"1\",\"1\",\"1\",\"1\",\"1\",\"1\",\"1\",\"1\",\"1\",\"1\",\"1\",\"1\",\"1\",\"1\",\"3\",\"3\",\"3\",\"3\",\"3\",\"3\",\"3\",\"3\",\"3\",\"3\",\"3\",\"3\",\"3\",\"3\",\"7\",\"7\",\"7\",\"7\",\"7\",\"7\",\"7\",\"7\",\"7\",\"7\",\"7\",\"7\",\"7\",\"12\",\"12\",\"12\",\"12\",\"12\",\"12\",\"12\",\"12\",\"12\",\"12\",\"12\",\"12\",\"13\",\"13\",\"13\",\"13\",\"13\",\"13\",\"13\",\"13\",\"13\",\"13\",\"13\",\"15\",\"15\",\"15\",\"15\",\"15\",\"15\",\"15\",\"15\",\"15\",\"15\",\"14\",\"14\",\"14\",\"14\",\"14\",\"14\",\"14\",\"14\",\"14\",\"0\",\"0\",\"0\",\"0\",\"0\",\"0\",\"0\",\"0\",\"4\",\"4\",\"4\",\"4\",\"4\",\"4\",\"4\",\"17\",\"17\",\"17\",\"17\",\"17\",\"17\",\"16\",\"16\",\"16\",\"16\",\"16\",\"5\",\"5\",\"5\",\"5\",\"2\",\"2\",\"2\",\"11\",\"11\",\"8\"]],[\"end\",[\"18\",\"3\",\"14\",\"12\",\"8\",\"0\",\"9\",\"1\",\"2\",\"4\",\"16\",\"13\",\"7\",\"11\",\"15\",\"17\",\"5\",\"14\",\"3\",\"1\",\"13\",\"5\",\"12\",\"2\",\"11\",\"8\",\"17\",\"15\",\"9\",\"7\",\"4\",\"16\",\"0\",\"3\",\"14\",\"13\",\"17\",\"9\",\"0\",\"5\",\"2\",\"7\",\"12\",\"8\",\"4\",\"15\",\"16\",\"11\",\"7\",\"12\",\"13\",\"14\",\"8\",\"15\",\"0\",\"16\",\"5\",\"9\",\"2\",\"4\",\"11\",\"17\",\"2\",\"0\",\"8\",\"14\",\"4\",\"16\",\"11\",\"9\",\"15\",\"5\",\"12\",\"13\",\"17\",\"13\",\"15\",\"2\",\"14\",\"8\",\"0\",\"16\",\"4\",\"11\",\"5\",\"9\",\"17\",\"15\",\"0\",\"4\",\"17\",\"11\",\"9\",\"16\",\"2\",\"14\",\"8\",\"5\",\"8\",\"14\",\"2\",\"16\",\"17\",\"11\",\"5\",\"0\",\"9\",\"4\",\"9\",\"5\",\"16\",\"8\",\"4\",\"17\",\"2\",\"11\",\"0\",\"2\",\"9\",\"5\",\"8\",\"4\",\"16\",\"11\",\"17\",\"5\",\"9\",\"16\",\"2\",\"11\",\"17\",\"8\",\"5\",\"2\",\"8\",\"16\",\"11\",\"9\",\"5\",\"2\",\"11\",\"9\",\"8\",\"11\",\"2\",\"8\",\"9\",\"8\",\"11\",\"9\",\"8\",\"9\",\"9\"]],[\"colors\",[\"#4CAF50\",\"#F44336\",\"#F44336\",\"#4CAF50\",\"#4CAF50\",\"#9E9E9E\",\"#9E9E9E\",\"#4CAF50\",\"#4CAF50\",\"#9E9E9E\",\"#4CAF50\",\"#F44336\",\"#9E9E9E\",\"#F44336\",\"#4CAF50\",\"#F44336\",\"#4CAF50\",\"#4CAF50\",\"#F44336\",\"#4CAF50\",\"#4CAF50\",\"#F44336\",\"#4CAF50\",\"#F44336\",\"#F44336\",\"#4CAF50\",\"#F44336\",\"#F44336\",\"#F44336\",\"#9E9E9E\",\"#4CAF50\",\"#9E9E9E\",\"#4CAF50\",\"#4CAF50\",\"#4CAF50\",\"#4CAF50\",\"#4CAF50\",\"#4CAF50\",\"#F44336\",\"#F44336\",\"#4CAF50\",\"#9E9E9E\",\"#4CAF50\",\"#F44336\",\"#9E9E9E\",\"#4CAF50\",\"#4CAF50\",\"#4CAF50\",\"#4CAF50\",\"#F44336\",\"#4CAF50\",\"#9E9E9E\",\"#4CAF50\",\"#4CAF50\",\"#9E9E9E\",\"#9E9E9E\",\"#9E9E9E\",\"#9E9E9E\",\"#F44336\",\"#9E9E9E\",\"#F44336\",\"#F44336\",\"#9E9E9E\",\"#9E9E9E\",\"#4CAF50\",\"#9E9E9E\",\"#4CAF50\",\"#4CAF50\",\"#4CAF50\",\"#4CAF50\",\"#9E9E9E\",\"#4CAF50\",\"#F44336\",\"#4CAF50\",\"#F44336\",\"#4CAF50\",\"#4CAF50\",\"#F44336\",\"#F44336\",\"#4CAF50\",\"#F44336\",\"#9E9E9E\",\"#F44336\",\"#9E9E9E\",\"#9E9E9E\",\"#4CAF50\",\"#F44336\",\"#4CAF50\",\"#4CAF50\",\"#F44336\",\"#F44336\",\"#F44336\",\"#F44336\",\"#4CAF50\",\"#F44336\",\"#9E9E9E\",\"#4CAF50\",\"#9E9E9E\",\"#4CAF50\",\"#4CAF50\",\"#9E9E9E\",\"#9E9E9E\",\"#F44336\",\"#F44336\",\"#F44336\",\"#4CAF50\",\"#F44336\",\"#4CAF50\",\"#4CAF50\",\"#4CAF50\",\"#9E9E9E\",\"#F44336\",\"#9E9E9E\",\"#F44336\",\"#F44336\",\"#F44336\",\"#4CAF50\",\"#9E9E9E\",\"#9E9E9E\",\"#4CAF50\",\"#4CAF50\",\"#F44336\",\"#9E9E9E\",\"#4CAF50\",\"#F44336\",\"#9E9E9E\",\"#9E9E9E\",\"#4CAF50\",\"#F44336\",\"#4CAF50\",\"#F44336\",\"#4CAF50\",\"#F44336\",\"#4CAF50\",\"#F44336\",\"#4CAF50\",\"#4CAF50\",\"#4CAF50\",\"#4CAF50\",\"#9E9E9E\",\"#4CAF50\",\"#4CAF50\",\"#4CAF50\",\"#F44336\",\"#9E9E9E\",\"#9E9E9E\",\"#4CAF50\",\"#4CAF50\",\"#9E9E9E\",\"#4CAF50\",\"#4CAF50\",\"#4CAF50\",\"#F44336\"]],[\"width\",[292.0,845.0,241.0,99.0,235.0,338.0,306.0,244.0,519.0,160.0,370.0,396.0,391.0,382.0,315.0,121.0,133.0,465.0,631.0,155.0,632.0,244.0,236.0,507.0,379.0,220.0,177.0,186.0,426.0,230.0,421.0,389.0,287.0,2629.0,333.0,342.0,200.0,253.0,294.0,136.0,365.0,416.0,156.0,215.0,301.0,235.0,628.0,202.0,1418.0,610.0,954.0,1045.0,609.0,1082.0,1268.0,1511.0,582.0,863.0,1256.0,1060.0,568.0,464.0,438.0,493.0,188.0,325.0,486.0,634.0,160.0,250.0,283.0,215.0,114.0,184.0,136.0,529.0,145.0,112.0,273.0,58.0,108.0,282.0,126.0,184.0,139.0,191.0,188.0,308.0,284.0,222.0,330.0,495.0,462.0,602.0,429.0,535.0,392.0,320.0,300.0,214.0,309.0,499.0,105.0,215.0,158.0,193.0,256.0,224.0,279.0,292.0,660.0,192.0,473.0,250.0,401.0,321.0,440.0,338.0,244.0,138.0,137.0,256.0,537.0,166.0,93.0,282.0,402.0,717.0,332.0,169.0,106.0,153.0,150.0,108.0,58.0,305.0,181.0,174.0,392.0,674.0,405.0,433.0,364.0,150.0,227.0,138.0,218.0,564.0,258.0,203.0,245.0,354.0,254.0]]]}}},\"view\":{\"type\":\"object\",\"name\":\"CDSView\",\"id\":\"p1304\",\"attributes\":{\"filter\":{\"type\":\"object\",\"name\":\"AllIndices\",\"id\":\"p1305\"}}},\"glyph\":{\"type\":\"object\",\"name\":\"MultiLine\",\"id\":\"p1299\",\"attributes\":{\"line_color\":{\"type\":\"field\",\"field\":\"colors\"},\"line_width\":{\"type\":\"field\",\"field\":\"width\"}}}}},\"selection_policy\":{\"type\":\"object\",\"name\":\"NodesOnly\",\"id\":\"p1306\"},\"inspection_policy\":{\"type\":\"object\",\"name\":\"NodesOnly\",\"id\":\"p1307\"}}},{\"type\":\"object\",\"name\":\"LabelSet\",\"id\":\"p1312\",\"attributes\":{\"source\":{\"type\":\"object\",\"name\":\"ColumnDataSource\",\"id\":\"p1309\",\"attributes\":{\"selected\":{\"type\":\"object\",\"name\":\"Selection\",\"id\":\"p1310\",\"attributes\":{\"indices\":[],\"line_indices\":[]}},\"selection_policy\":{\"type\":\"object\",\"name\":\"UnionRenderers\",\"id\":\"p1311\"},\"data\":{\"type\":\"map\",\"entries\":[[\"x\",[1.8103028528661969,0.9666911603564916,0.36974968834069594,-0.001230532536440959,0.7829377506259422,-1.9999999999999998,-0.3761932199651843,-0.21223066253192643,-0.9504649541587082,-0.9300536041066112,0.6927999674956189,-1.4683143106022623,-0.3986888236033603,-1.8351812536952437,1.312883794859443,0.5983793936491484,1.9403331898157443,-0.30172043680948274]],[\"y\",[-0.533696059138746,-1.1075938399356648,1.4758665397931798,0.39237834697605617,1.0461826784276593,-0.6055411382339213,-0.8638923554971424,1.7856548038384616,-0.18821955360498965,1.3933527627119453,-0.2878060252913132,-1.619141386431327,0.3066945460909934,0.6494470880468403,0.3917798563542758,-1.473921717378438,0.8521601465848044,-1.6137046933125594]],[\"kid\",[\"colombia\",\"pueblo\",\"doctor\",\"senor\",\"bogota\",\"dio\",\"hombre\",\"obra\",\"diar\",\"numero\",\"ciudad\",\"muerte\",\"ano\",\"alli\",\"gobierno\",\"patria\",\"pai\",\"nombre\"]]]}}},\"x\":{\"type\":\"field\",\"field\":\"x\"},\"y\":{\"type\":\"field\",\"field\":\"y\"},\"text\":{\"type\":\"field\",\"field\":\"kid\"}}}],\"toolbar\":{\"type\":\"object\",\"name\":\"Toolbar\",\"id\":\"p1272\",\"attributes\":{\"tools\":[{\"type\":\"object\",\"name\":\"HoverTool\",\"id\":\"p1287\",\"attributes\":{\"renderers\":\"auto\",\"tooltips\":\"appearances: @appearances sentiment: @sentiment\"}},{\"type\":\"object\",\"name\":\"PanTool\",\"id\":\"p1288\"},{\"type\":\"object\",\"name\":\"WheelZoomTool\",\"id\":\"p1289\",\"attributes\":{\"renderers\":\"auto\"}},{\"type\":\"object\",\"name\":\"ResetTool\",\"id\":\"p1290\"}]}},\"toolbar_location\":\"above\",\"center\":[{\"type\":\"object\",\"name\":\"Grid\",\"id\":\"p1281\",\"attributes\":{\"axis\":{\"type\":\"object\",\"name\":\"LinearAxis\",\"id\":\"p1277\",\"attributes\":{\"ticker\":{\"type\":\"object\",\"name\":\"BasicTicker\",\"id\":\"p1278\",\"attributes\":{\"mantissas\":[1,2,5]}},\"formatter\":{\"type\":\"object\",\"name\":\"BasicTickFormatter\",\"id\":\"p1279\"},\"major_label_policy\":{\"type\":\"object\",\"name\":\"AllLabels\",\"id\":\"p1280\"}}},\"grid_line_color\":null}},{\"type\":\"object\",\"name\":\"Grid\",\"id\":\"p1286\",\"attributes\":{\"dimension\":1,\"axis\":{\"type\":\"object\",\"name\":\"LinearAxis\",\"id\":\"p1282\",\"attributes\":{\"ticker\":{\"type\":\"object\",\"name\":\"BasicTicker\",\"id\":\"p1283\",\"attributes\":{\"mantissas\":[1,2,5]}},\"formatter\":{\"type\":\"object\",\"name\":\"BasicTickFormatter\",\"id\":\"p1284\"},\"major_label_policy\":{\"type\":\"object\",\"name\":\"AllLabels\",\"id\":\"p1285\"}}},\"grid_line_color\":null}}]}}]}};\n  const render_items = [{\"docid\":\"2a7c7bce-d79a-4456-951d-33f1738c44c2\",\"roots\":{\"p1263\":\"bab9e835-7ae4-47ba-afc8-ba5c9161f05d\"},\"root_ids\":[\"p1263\"]}];\n  void root.Bokeh.embed.embed_items_notebook(docs_json, render_items);\n  }\n  if (root.Bokeh !== undefined) {\n    embed_document(root);\n  } else {\n    let attempts = 0;\n    const timer = setInterval(function(root) {\n      if (root.Bokeh !== undefined) {\n        clearInterval(timer);\n        embed_document(root);\n      } else {\n        attempts++;\n        if (attempts > 100) {\n          clearInterval(timer);\n          console.log(\"Bokeh: ERROR: Unable to run BokehJS code because BokehJS library is missing\");\n        }\n      }\n    }, 10, root)\n  }\n})(window);",
            "application/vnd.bokehjs_exec.v0+json": ""
          },
          "metadata": {
            "application/vnd.bokehjs_exec.v0+json": {
              "id": "p1263"
            }
          },
          "output_type": "display_data"
        }
      ],
      "source": [
        "def plot_interactive_graph_bokeh(G, node, depth, size_scale=20, edge_scale=3):\n",
        "\n",
        "    # Extraer el número de apariciones y el sentimiento de los nodos\n",
        "    appearances = nx.get_node_attributes(G, 'appearances')\n",
        "    node_sentiments = nx.get_node_attributes(G, 'sentiment')\n",
        "\n",
        "    # Definir el mapeo de colores para los sentimientos en formato hexadecimal\n",
        "    sentiment_colors = {\n",
        "        'POSITIVO': '#4CAF50',  # Verde suave\n",
        "        'NEGATIVO': '#F44336',  # Rojo suave\n",
        "        'NEUTRO': '#9E9E9E',    # Gris suave\n",
        "    }\n",
        "\n",
        "    # Obtener los nodos que están a una distancia máxima de 'depth' del nodo en cuestión\n",
        "    nodes_at_depth = nx.single_source_shortest_path_length(G, node, cutoff=depth).keys()\n",
        "    subgraph = G.subgraph(nodes_at_depth)\n",
        "\n",
        "    # Tamaño del gráfico en pulgadas\n",
        "    width_in_inches = 8\n",
        "    height_in_inches = 8\n",
        "    # Convertir a píxeles\n",
        "    width_in_pixels = width_in_inches * 96\n",
        "    height_in_pixels = height_in_inches * 96\n",
        "\n",
        "\n",
        "    # Crear la figura\n",
        "    p = figure(x_range=(-2, 2), y_range=(-2, 2),\n",
        "               title=\"Graph Interaction Demo\",\n",
        "               x_axis_location=None, y_axis_location=None,\n",
        "               tools=\"hover,pan,wheel_zoom,reset\", tooltips=\"appearances: @appearances sentiment: @sentiment\",\n",
        "               toolbar_location=\"above\",\n",
        "               width=width_in_pixels, height=height_in_pixels)\n",
        "    p.grid.grid_line_color = None\n",
        "\n",
        "    # Configurar el GraphRenderer\n",
        "    graph = from_networkx(subgraph, nx.spring_layout, scale=2, center=(0, 0))\n",
        "    p.renderers.append(graph)\n",
        "\n",
        "    # Establecer los datos de los nodos y las aristas\n",
        "    graph.node_renderer.data_source.data['colors'] = [sentiment_colors.get(node_sentiments[node]) for node in subgraph.nodes()]\n",
        "    graph.node_renderer.data_source.data['size'] = [size_scale * appearances[node] for node in subgraph.nodes()]\n",
        "    graph.edge_renderer.data_source.data['colors'] = [sentiment_colors.get(G[u][v]['sentiment'], 'black') for u, v in subgraph.edges()]\n",
        "    graph.edge_renderer.data_source.data['width'] = [edge_scale * G[u][v]['weight'] for u, v in subgraph.edges()]\n",
        "\n",
        "    graph.node_renderer.glyph.update(size='size', fill_color='colors')\n",
        "    graph.edge_renderer.glyph.update(line_color='colors', line_width='width')\n",
        "\n",
        "\n",
        "    x, y = zip(*graph.layout_provider.graph_layout.values())\n",
        "\n",
        "    print(graph.node_renderer.data_source.data['word'])\n",
        "    source = ColumnDataSource({'x':x,'y':y,'kid':[ix for ix in graph.node_renderer.data_source.data['word']]})\n",
        "    labels = LabelSet(x='x', y='y', text='kid', source=source)\n",
        "\n",
        "    p.renderers.append(labels)\n",
        "\n",
        "    # Mostrar el gráfico\n",
        "    show(p)\n",
        "\n",
        "# Ejemplo de uso\n",
        "plot_interactive_graph_bokeh(G, f'{words_to_index[\"bogota\"]}', 2, size_scale=6, edge_scale=2)\n"
      ]
    },
    {
      "cell_type": "code",
      "execution_count": 18,
      "metadata": {
        "id": "oFyLDjCZBqfj"
      },
      "outputs": [
        {
          "data": {
            "text/plain": [
              "NodeDataView({'19': {'appearances': 2009, 'sentiment': 'NEGATIVO', 'word': 'colombia'}, '18': {'appearances': 3060, 'sentiment': 'NEGATIVO', 'word': 'pueblo'}, '1': {'appearances': 2455, 'sentiment': 'NEGATIVO', 'word': 'doctor'}, '3': {'appearances': 7906, 'sentiment': 'NEUTRO', 'word': 'senor'}, '7': {'appearances': 2382, 'sentiment': 'NEGATIVO', 'word': 'bogota'}, '12': {'appearances': 1858, 'sentiment': 'NEUTRO', 'word': 'dio'}, '13': {'appearances': 4404, 'sentiment': 'POSITIVO', 'word': 'hombre'}, '15': {'appearances': 2325, 'sentiment': 'NEGATIVO', 'word': 'obra'}, '14': {'appearances': 3270, 'sentiment': 'NEGATIVO', 'word': 'diar'}, '0': {'appearances': 2542, 'sentiment': 'NEUTRO', 'word': 'numero'}, '4': {'appearances': 2501, 'sentiment': 'NEGATIVO', 'word': 'ciudad'}, '17': {'appearances': 1522, 'sentiment': 'POSITIVO', 'word': 'muerte'}, '16': {'appearances': 4300, 'sentiment': 'NEGATIVO', 'word': 'ano'}, '5': {'appearances': 2137, 'sentiment': 'NEGATIVO', 'word': 'alli'}, '2': {'appearances': 3237, 'sentiment': 'POSITIVO', 'word': 'gobierno'}, '11': {'appearances': 2134, 'sentiment': 'POSITIVO', 'word': 'patria'}, '8': {'appearances': 1798, 'sentiment': 'NEUTRO', 'word': 'pai'}, '9': {'appearances': 2446, 'sentiment': 'NEUTRO', 'word': 'nombre'}})"
            ]
          },
          "execution_count": 18,
          "metadata": {},
          "output_type": "execute_result"
        }
      ],
      "source": [
        "G.nodes(data=True)"
      ]
    },
    {
      "cell_type": "code",
      "execution_count": null,
      "metadata": {},
      "outputs": [],
      "source": []
    }
  ],
  "metadata": {
    "colab": {
      "provenance": []
    },
    "kernelspec": {
      "display_name": "Python 3",
      "name": "python3"
    },
    "language_info": {
      "codemirror_mode": {
        "name": "ipython",
        "version": 3
      },
      "file_extension": ".py",
      "mimetype": "text/x-python",
      "name": "python",
      "nbconvert_exporter": "python",
      "pygments_lexer": "ipython3",
      "version": "3.11.9"
    }
  },
  "nbformat": 4,
  "nbformat_minor": 0
}
