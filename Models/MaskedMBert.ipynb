{
 "cells": [
  {
   "cell_type": "code",
   "execution_count": 2,
   "metadata": {},
   "outputs": [],
   "source": [
    "AVAILABLE_GPU = 3 # Available GPU with 0% usage\n",
    "import os\n",
    "os.environ[\"CUDA_DEVICE_ORDER\"] = \"PCI_BUS_ID\"\n",
    "os.environ[\"CUDA_VISIBLE_DEVICES\"] = f\"{AVAILABLE_GPU}\"\n",
    "os.environ[\"CUDA_LAUNCH_BLOCKING\"] = \"1\"\n",
    "tf_device=f'/gpu:{AVAILABLE_GPU}'"
   ]
  },
  {
   "cell_type": "code",
   "execution_count": 3,
   "metadata": {},
   "outputs": [],
   "source": [
    "import sys\n",
    "sys.path.append('../Utils')"
   ]
  },
  {
   "cell_type": "code",
   "execution_count": 4,
   "metadata": {},
   "outputs": [
    {
     "name": "stderr",
     "output_type": "stream",
     "text": [
      "/home/historynlp/venv/lib/python3.10/site-packages/tqdm/auto.py:21: TqdmWarning: IProgress not found. Please update jupyter and ipywidgets. See https://ipywidgets.readthedocs.io/en/stable/user_install.html\n",
      "  from .autonotebook import tqdm as notebook_tqdm\n"
     ]
    }
   ],
   "source": [
    "import torch\n",
    "from sklearn.model_selection import train_test_split\n",
    "from transformers import AutoTokenizer, BertModel\n",
    "\n",
    "from DataManagement import preparar_datos\n",
    "from Constants import SEED\n",
    "from DataManagement import createDataloaders\n",
    "from Utils import get_loss_opt\n",
    "from Utils import train\n",
    "from Utils import count_parameters\n",
    "from Models import SentimentAnalysisFromMaskedModel\n",
    "from Utils import verify_model\n",
    "from Constants import TRAINING_DATA"
   ]
  },
  {
   "cell_type": "code",
   "execution_count": 5,
   "metadata": {},
   "outputs": [
    {
     "name": "stdout",
     "output_type": "stream",
     "text": [
      "Memoria total reservada en CUDA: 0 bytes\n",
      "Memoria actualmente asignada en CUDA: 0 bytes\n"
     ]
    }
   ],
   "source": [
    "print(f\"Memoria total reservada en CUDA: {torch.cuda.memory_reserved(0)} bytes\")\n",
    "print(f\"Memoria actualmente asignada en CUDA: {torch.cuda.memory_allocated(0)} bytes\")"
   ]
  },
  {
   "cell_type": "markdown",
   "metadata": {},
   "source": [
    "# 1. Definición de constantes"
   ]
  },
  {
   "cell_type": "code",
   "execution_count": 6,
   "metadata": {},
   "outputs": [
    {
     "data": {
      "text/plain": [
       "device(type='cuda')"
      ]
     },
     "execution_count": 6,
     "metadata": {},
     "output_type": "execute_result"
    }
   ],
   "source": [
    "#Modelo bert a usar\n",
    "BERT_MODEL = 'google-bert/bert-base-multilingual-uncased'\n",
    "\n",
    "#Dispositivo sobre el que se corre el modelo de ML\n",
    "DEVICE = torch.device('cuda' if torch.cuda.is_available() else 'cpu')\n",
    "\n",
    "tokenizer = AutoTokenizer.from_pretrained(BERT_MODEL)\n",
    "\n",
    "torch.cuda.empty_cache()\n",
    "DEVICE"
   ]
  },
  {
   "cell_type": "markdown",
   "metadata": {},
   "source": [
    "# 2. Creacion de los dataLoaders"
   ]
  },
  {
   "cell_type": "code",
   "execution_count": 7,
   "metadata": {},
   "outputs": [],
   "source": [
    "datos = preparar_datos(TRAINING_DATA)\n",
    "train_df, test_df = train_test_split(datos, test_size=0.2, random_state = SEED, shuffle=True)\n",
    "val_df, test_df = train_test_split(test_df, test_size=0.5, random_state = SEED, shuffle=True)\n",
    "\n",
    "train_loader, val_loader, test_loader = createDataloaders(train_df, val_df, test_df, tokenizer)"
   ]
  },
  {
   "cell_type": "markdown",
   "metadata": {},
   "source": [
    "# 3. Creación y evaluación del modelo con Bert Entrenado"
   ]
  },
  {
   "cell_type": "markdown",
   "metadata": {},
   "source": [
    "## 3.1 Entrenamiento"
   ]
  },
  {
   "cell_type": "code",
   "execution_count": 8,
   "metadata": {},
   "outputs": [
    {
     "data": {
      "text/plain": [
       "167586692"
      ]
     },
     "execution_count": 8,
     "metadata": {},
     "output_type": "execute_result"
    }
   ],
   "source": [
    "torch.manual_seed(SEED)\n",
    "classificator = SentimentAnalysisFromMaskedModel(BERT_MODEL, 0.4, 4, 256, 128, True).to(DEVICE)\n",
    "count_parameters(classificator)"
   ]
  },
  {
   "cell_type": "code",
   "execution_count": 9,
   "metadata": {},
   "outputs": [
    {
     "name": "stderr",
     "output_type": "stream",
     "text": [
      " 32%|█████████████▌                             | 19/60 [15:49<32:27, 47.50s/it]"
     ]
    },
    {
     "name": "stdout",
     "output_type": "stream",
     "text": [
      "\n",
      "Epoch: 20 | Training acc: 0.5407066052227343 | Training loss: 0.12403174787683482 | Val acc: 0.5245901639344263 | Val loss: 0.12329683123064823\n",
      "------------------------------------------------------------------------------------------------------------------------------------------------------\n"
     ]
    },
    {
     "name": "stderr",
     "output_type": "stream",
     "text": [
      " 65%|███████████████████████████▉               | 39/60 [31:39<16:37, 47.48s/it]"
     ]
    },
    {
     "name": "stdout",
     "output_type": "stream",
     "text": [
      "\n",
      "Epoch: 40 | Training acc: 0.6072708653353814 | Training loss: 0.11514515499548612 | Val acc: 0.5409836065573771 | Val loss: 0.1206579362271262\n",
      "------------------------------------------------------------------------------------------------------------------------------------------------------\n"
     ]
    },
    {
     "name": "stderr",
     "output_type": "stream",
     "text": [
      " 98%|██████████████████████████████████████████▎| 59/60 [47:29<00:47, 47.50s/it]"
     ]
    },
    {
     "name": "stdout",
     "output_type": "stream",
     "text": [
      "\n",
      "Epoch: 60 | Training acc: 0.6303123399897593 | Training loss: 0.11463223081091643 | Val acc: 0.4959016393442623 | Val loss: 0.13007034434646855\n",
      "------------------------------------------------------------------------------------------------------------------------------------------------------\n"
     ]
    },
    {
     "name": "stderr",
     "output_type": "stream",
     "text": [
      "100%|███████████████████████████████████████████| 60/60 [47:30<00:00, 47.50s/it]\n"
     ]
    },
    {
     "data": {
      "text/plain": [
       "(inf, 0.6303123399897593)"
      ]
     },
     "execution_count": 9,
     "metadata": {},
     "output_type": "execute_result"
    }
   ],
   "source": [
    "criterio, optimizer = get_loss_opt(classificator)\n",
    "train(classificator, '../StoredModels/Mejores_guardados_MbertMasked.pt', train_loader, val_loader, optimizer, criterio)"
   ]
  },
  {
   "cell_type": "markdown",
   "metadata": {},
   "source": [
    "## 3.2 Evaluación"
   ]
  },
  {
   "cell_type": "code",
   "execution_count": 10,
   "metadata": {},
   "outputs": [
    {
     "data": {
      "text/plain": [
       "<All keys matched successfully>"
      ]
     },
     "execution_count": 10,
     "metadata": {},
     "output_type": "execute_result"
    }
   ],
   "source": [
    "# Cargar un modelo que ya había sido Finetuneado\n",
    "checkpoint_classifier = torch.load(\n",
    "    \"../StoredModels/Mejores_guardados_MbertMasked.pt\",\n",
    "    map_location=torch.device(DEVICE)\n",
    ")\n",
    "\n",
    "classificator.load_state_dict(checkpoint_classifier['model_state_dict'])"
   ]
  },
  {
   "cell_type": "code",
   "execution_count": 11,
   "metadata": {},
   "outputs": [
    {
     "name": "stderr",
     "output_type": "stream",
     "text": [
      "100%|███████████████████████████████████████████| 31/31 [00:01<00:00, 17.62it/s]\n"
     ]
    },
    {
     "name": "stdout",
     "output_type": "stream",
     "text": [
      "Statistics: \n",
      "              precision    recall  f1-score   support\n",
      "\n",
      "    NEGATIVO       0.50      0.20      0.29        79\n",
      "      NEUTRO       0.46      0.75      0.57        61\n",
      "    POSITIVO       0.56      0.60      0.58       105\n",
      "\n",
      "    accuracy                           0.51       245\n",
      "   macro avg       0.51      0.52      0.48       245\n",
      "weighted avg       0.52      0.51      0.48       245\n",
      "\n"
     ]
    },
    {
     "data": {
      "image/png": "[encoded data removed]",
      "text/plain": [
       "<Figure size 640x480 with 2 Axes>"
      ]
     },
     "metadata": {},
     "output_type": "display_data"
    },
    {
     "name": "stdout",
     "output_type": "stream",
     "text": [
      "({'NEGATIVO': 0.09025665, 'NEUTRO': 0.69423497, 'POSTIVO': 0.19855703, 'IRONIA': 0.016951295}, 'NEUTRO')\n"
     ]
    }
   ],
   "source": [
    "# Obtener las predicciones\n",
    "verify_model(classificator, test_loader, tokenizer)"
   ]
  },
  {
   "cell_type": "code",
   "execution_count": 12,
   "metadata": {},
   "outputs": [],
   "source": [
    "del classificator\n",
    "torch.cuda.empty_cache()"
   ]
  },
  {
   "cell_type": "markdown",
   "metadata": {},
   "source": [
    "# 4. Creacion y evaluacion del modelo sin el bert entrenado"
   ]
  },
  {
   "cell_type": "markdown",
   "metadata": {},
   "source": [
    "## 4.1 Entrenamiento"
   ]
  },
  {
   "cell_type": "code",
   "execution_count": 13,
   "metadata": {},
   "outputs": [
    {
     "data": {
      "text/plain": [
       "230276"
      ]
     },
     "execution_count": 13,
     "metadata": {},
     "output_type": "execute_result"
    }
   ],
   "source": [
    "torch.manual_seed(SEED)\n",
    "classificator_no_bert = SentimentAnalysisFromMaskedModel(BERT_MODEL, 0.4, 4, 256, 128, False).to(DEVICE)\n",
    "count_parameters(classificator_no_bert)"
   ]
  },
  {
   "cell_type": "code",
   "execution_count": 14,
   "metadata": {},
   "outputs": [
    {
     "name": "stderr",
     "output_type": "stream",
     "text": [
      " 32%|█████████████▌                             | 19/60 [06:01<12:21, 18.08s/it]"
     ]
    },
    {
     "name": "stdout",
     "output_type": "stream",
     "text": [
      "\n",
      "Epoch: 20 | Training acc: 0.36917562724014336 | Training loss: 0.13885186988759274 | Val acc: 0.38114754098360654 | Val loss: 0.1401267230022149\n",
      "------------------------------------------------------------------------------------------------------------------------------------------------------\n"
     ]
    },
    {
     "name": "stderr",
     "output_type": "stream",
     "text": [
      " 65%|███████████████████████████▉               | 39/60 [12:02<06:20, 18.10s/it]"
     ]
    },
    {
     "name": "stdout",
     "output_type": "stream",
     "text": [
      "\n",
      "Epoch: 40 | Training acc: 0.3758320532514081 | Training loss: 0.13748356689261707 | Val acc: 0.38114754098360654 | Val loss: 0.14024534137522587\n",
      "------------------------------------------------------------------------------------------------------------------------------------------------------\n"
     ]
    },
    {
     "name": "stderr",
     "output_type": "stream",
     "text": [
      " 98%|██████████████████████████████████████████▎| 59/60 [18:05<00:18, 18.14s/it]"
     ]
    },
    {
     "name": "stdout",
     "output_type": "stream",
     "text": [
      "\n",
      "Epoch: 60 | Training acc: 0.3876088069636457 | Training loss: 0.13737791459253978 | Val acc: 0.38114754098360654 | Val loss: 0.1399101241201651\n",
      "------------------------------------------------------------------------------------------------------------------------------------------------------\n"
     ]
    },
    {
     "name": "stderr",
     "output_type": "stream",
     "text": [
      "100%|███████████████████████████████████████████| 60/60 [18:06<00:00, 18.11s/it]\n"
     ]
    },
    {
     "data": {
      "text/plain": [
       "(inf, 0.3911930363543267)"
      ]
     },
     "execution_count": 14,
     "metadata": {},
     "output_type": "execute_result"
    }
   ],
   "source": [
    "criterio, optimizer = get_loss_opt(classificator_no_bert)\n",
    "train(classificator_no_bert, '../StoredModels/Mejores_guardados_no_bert_MbertMasked.pt', train_loader, val_loader, optimizer, criterio)"
   ]
  },
  {
   "cell_type": "markdown",
   "metadata": {},
   "source": [
    "## 4.2 Validación"
   ]
  },
  {
   "cell_type": "code",
   "execution_count": 15,
   "metadata": {},
   "outputs": [
    {
     "data": {
      "text/plain": [
       "<All keys matched successfully>"
      ]
     },
     "execution_count": 15,
     "metadata": {},
     "output_type": "execute_result"
    }
   ],
   "source": [
    "# Cargar un modelo que ya había sido Finetuneado\n",
    "checkpoint_classifier = torch.load(\n",
    "    \"../StoredModels/Mejores_guardados_no_bert_MbertMasked.pt\",\n",
    "    map_location=torch.device(DEVICE)\n",
    ")\n",
    "\n",
    "classificator_no_bert.load_state_dict(checkpoint_classifier['model_state_dict'])"
   ]
  },
  {
   "cell_type": "code",
   "execution_count": 16,
   "metadata": {},
   "outputs": [
    {
     "name": "stderr",
     "output_type": "stream",
     "text": [
      "100%|███████████████████████████████████████████| 31/31 [00:01<00:00, 17.64it/s]\n",
      "/home/historynlp/venv/lib/python3.10/site-packages/sklearn/metrics/_classification.py:1509: UndefinedMetricWarning: Precision is ill-defined and being set to 0.0 in labels with no predicted samples. Use `zero_division` parameter to control this behavior.\n",
      "  _warn_prf(average, modifier, f\"{metric.capitalize()} is\", len(result))\n",
      "/home/historynlp/venv/lib/python3.10/site-packages/sklearn/metrics/_classification.py:1509: UndefinedMetricWarning: Precision is ill-defined and being set to 0.0 in labels with no predicted samples. Use `zero_division` parameter to control this behavior.\n",
      "  _warn_prf(average, modifier, f\"{metric.capitalize()} is\", len(result))\n",
      "/home/historynlp/venv/lib/python3.10/site-packages/sklearn/metrics/_classification.py:1509: UndefinedMetricWarning: Precision is ill-defined and being set to 0.0 in labels with no predicted samples. Use `zero_division` parameter to control this behavior.\n",
      "  _warn_prf(average, modifier, f\"{metric.capitalize()} is\", len(result))\n"
     ]
    },
    {
     "name": "stdout",
     "output_type": "stream",
     "text": [
      "Statistics: \n",
      "              precision    recall  f1-score   support\n",
      "\n",
      "    NEGATIVO       0.00      0.00      0.00        79\n",
      "      NEUTRO       0.00      0.00      0.00        61\n",
      "    POSITIVO       0.43      1.00      0.60       105\n",
      "\n",
      "    accuracy                           0.43       245\n",
      "   macro avg       0.14      0.33      0.20       245\n",
      "weighted avg       0.18      0.43      0.26       245\n",
      "\n"
     ]
    },
    {
     "data": {
      "image/png": "[encoded data removed]",
      "text/plain": [
       "<Figure size 640x480 with 2 Axes>"
      ]
     },
     "metadata": {},
     "output_type": "display_data"
    },
    {
     "name": "stdout",
     "output_type": "stream",
     "text": [
      "({'NEGATIVO': 0.26340976, 'NEUTRO': 0.33742207, 'POSTIVO': 0.39759383, 'IRONIA': 0.0015742934}, 'POSITIVO')\n"
     ]
    }
   ],
   "source": [
    "# Obtener las predicciones\n",
    "verify_model(classificator_no_bert, test_loader, tokenizer)"
   ]
  },
  {
   "cell_type": "code",
   "execution_count": 17,
   "metadata": {},
   "outputs": [],
   "source": [
    "del classificator_no_bert\n",
    "torch.cuda.empty_cache()"
   ]
  },
  {
   "cell_type": "code",
   "execution_count": null,
   "metadata": {},
   "outputs": [],
   "source": []
  },
  {
   "cell_type": "code",
   "execution_count": null,
   "metadata": {},
   "outputs": [],
   "source": []
  }
 ],
 "metadata": {
  "kernelspec": {
   "display_name": "Python 3 (ipykernel)",
   "language": "python",
   "name": "python3"
  },
  "language_info": {
   "codemirror_mode": {
    "name": "ipython",
    "version": 3
   },
   "file_extension": ".py",
   "mimetype": "text/x-python",
   "name": "python",
   "nbconvert_exporter": "python",
   "pygments_lexer": "ipython3",
   "version": "3.10.12"
  }
 },
 "nbformat": 4,
 "nbformat_minor": 4
}
