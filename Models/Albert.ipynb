{
 "cells": [
  {
   "cell_type": "code",
   "execution_count": 1,
   "metadata": {},
   "outputs": [],
   "source": [
    "AVAILABLE_GPU = 3 # Available GPU with 0% usage\n",
    "import os\n",
    "os.environ[\"CUDA_DEVICE_ORDER\"] = \"PCI_BUS_ID\"\n",
    "os.environ[\"CUDA_VISIBLE_DEVICES\"] = f\"{AVAILABLE_GPU}\"\n",
    "os.environ[\"CUDA_LAUNCH_BLOCKING\"] = \"1\"\n",
    "tf_device=f'/gpu:{AVAILABLE_GPU}'"
   ]
  },
  {
   "cell_type": "code",
   "execution_count": 2,
   "metadata": {},
   "outputs": [],
   "source": [
    "import sys\n",
    "sys.path.append('../Utils')"
   ]
  },
  {
   "cell_type": "code",
   "execution_count": 3,
   "metadata": {},
   "outputs": [
    {
     "name": "stderr",
     "output_type": "stream",
     "text": [
      "/home/historynlp/venv/lib/python3.10/site-packages/tqdm/auto.py:21: TqdmWarning: IProgress not found. Please update jupyter and ipywidgets. See https://ipywidgets.readthedocs.io/en/stable/user_install.html\n",
      "  from .autonotebook import tqdm as notebook_tqdm\n"
     ]
    }
   ],
   "source": [
    "import torch\n",
    "from sklearn.model_selection import train_test_split\n",
    "from transformers import AutoTokenizer\n",
    "\n",
    "\n",
    "from DataManagement import preparar_datos\n",
    "from Constants import SEED\n",
    "from DataManagement import createDataloaders\n",
    "from Utils import get_loss_opt\n",
    "from Utils import train\n",
    "from Utils import evalua\n",
    "from Utils import count_parameters\n",
    "from Models import SentimentAnalysisPretrainedBert\n",
    "from Utils import verify_model\n",
    "from Constants import TRAINING_DATA"
   ]
  },
  {
   "cell_type": "markdown",
   "metadata": {},
   "source": [
    "# 1. UNCASED\n",
    "\n",
    "## 1.1 Definicion de constantes"
   ]
  },
  {
   "cell_type": "code",
   "execution_count": 4,
   "metadata": {},
   "outputs": [
    {
     "data": {
      "text/plain": [
       "device(type='cuda')"
      ]
     },
     "execution_count": 4,
     "metadata": {},
     "output_type": "execute_result"
    }
   ],
   "source": [
    "#Modelo bert a usar\n",
    "BERT_MODEL = '../../output/albert/old-spanish-albert-base-uncased.pt'\n",
    "\n",
    "#Dispositivo sobre el que se corre el modelo de ML\n",
    "DEVICE = torch.device('cuda' if torch.cuda.is_available() else 'cpu')\n",
    "\n",
    "tokenizer_uncased = AutoTokenizer.from_pretrained(\"dccuchile/albert-base-spanish\")\n",
    "torch.cuda.empty_cache()\n",
    "DEVICE"
   ]
  },
  {
   "cell_type": "markdown",
   "metadata": {},
   "source": [
    "## 1.2 Creacion de los dataloaders"
   ]
  },
  {
   "cell_type": "code",
   "execution_count": 5,
   "metadata": {},
   "outputs": [],
   "source": [
    "datos = preparar_datos(TRAINING_DATA)\n",
    "train_df, test_df = train_test_split(datos, test_size=0.2, random_state = SEED, shuffle=True)\n",
    "val_df, test_df = train_test_split(test_df, test_size=0.5, random_state = SEED, shuffle=True)\n",
    "\n",
    "train_loader_uncased, val_loader_uncased, test_loader_uncased = createDataloaders(train_df, val_df, test_df, tokenizer_uncased)"
   ]
  },
  {
   "cell_type": "markdown",
   "metadata": {},
   "source": [
    "## 1.3 Creación y evaluación del modelo con el bert entrenado\n",
    "\n",
    "### 1.3.1 Entrenamiento"
   ]
  },
  {
   "cell_type": "code",
   "execution_count": 7,
   "metadata": {},
   "outputs": [
    {
     "data": {
      "text/plain": [
       "11580956"
      ]
     },
     "execution_count": 7,
     "metadata": {},
     "output_type": "execute_result"
    }
   ],
   "source": [
    "torch.manual_seed(SEED)\n",
    "classificator_uncased = SentimentAnalysisPretrainedBert(BERT_MODEL, 0.4, 4, 256, 128, True).to(DEVICE)\n",
    "count_parameters(classificator_uncased)"
   ]
  },
  {
   "cell_type": "code",
   "execution_count": 7,
   "metadata": {},
   "outputs": [
    {
     "name": "stderr",
     "output_type": "stream",
     "text": [
      " 33%|██████████████▎                            | 20/60 [12:18<24:25, 36.64s/it]"
     ]
    },
    {
     "name": "stdout",
     "output_type": "stream",
     "text": [
      "\n",
      "Epoch: 20 | Training acc: 0.5478750640040962 | Training loss: 0.12649735013338706 | Val acc: 0.5163934426229508 | Val loss: 0.1265086490111273\n",
      "------------------------------------------------------------------------------------------------------------------------------------------------------\n"
     ]
    },
    {
     "name": "stderr",
     "output_type": "stream",
     "text": [
      " 67%|████████████████████████████▋              | 40/60 [24:29<12:11, 36.55s/it]"
     ]
    },
    {
     "name": "stdout",
     "output_type": "stream",
     "text": [
      "\n",
      "Epoch: 40 | Training acc: 0.6646185355862775 | Training loss: 0.11088816054771938 | Val acc: 0.5942622950819673 | Val loss: 0.11707085517586255\n",
      "------------------------------------------------------------------------------------------------------------------------------------------------------\n"
     ]
    },
    {
     "name": "stderr",
     "output_type": "stream",
     "text": [
      "100%|███████████████████████████████████████████| 60/60 [36:41<00:00, 36.68s/it]"
     ]
    },
    {
     "name": "stdout",
     "output_type": "stream",
     "text": [
      "\n",
      "Epoch: 60 | Training acc: 0.6692268305171531 | Training loss: 0.10949640217891914 | Val acc: 0.6024590163934426 | Val loss: 0.11553970663273921\n",
      "------------------------------------------------------------------------------------------------------------------------------------------------------\n"
     ]
    },
    {
     "name": "stderr",
     "output_type": "stream",
     "text": [
      "\n"
     ]
    },
    {
     "data": {
      "text/plain": [
       "(inf, 0.6794674859190988)"
      ]
     },
     "execution_count": 7,
     "metadata": {},
     "output_type": "execute_result"
    }
   ],
   "source": [
    "criterio, optimizer = get_loss_opt(classificator_uncased)\n",
    "train(classificator_uncased, '../StoredModels/Mejores_guardados_albert_uncased.pt', train_loader_uncased, val_loader_uncased, optimizer, criterio)"
   ]
  },
  {
   "cell_type": "markdown",
   "metadata": {},
   "source": [
    "### 1.3.2 Validación"
   ]
  },
  {
   "cell_type": "code",
   "execution_count": 8,
   "metadata": {},
   "outputs": [
    {
     "data": {
      "text/plain": [
       "<All keys matched successfully>"
      ]
     },
     "execution_count": 8,
     "metadata": {},
     "output_type": "execute_result"
    }
   ],
   "source": [
    "# Cargar un modelo que ya había sido Finetuneado\n",
    "checkpoint_classifier = torch.load(\n",
    "    \"../StoredModels/Mejores_guardados_albert_uncased.pt\",\n",
    "    map_location=torch.device(DEVICE)\n",
    ")\n",
    "\n",
    "classificator_uncased.load_state_dict(checkpoint_classifier['model_state_dict'])"
   ]
  },
  {
   "cell_type": "code",
   "execution_count": 9,
   "metadata": {},
   "outputs": [
    {
     "name": "stderr",
     "output_type": "stream",
     "text": [
      "100%|███████████████████████████████████████████| 31/31 [00:02<00:00, 11.81it/s]\n"
     ]
    },
    {
     "name": "stdout",
     "output_type": "stream",
     "text": [
      "Statistics: \n",
      "              precision    recall  f1-score   support\n",
      "\n",
      "    NEGATIVO       0.77      0.54      0.64        79\n",
      "      NEUTRO       0.51      0.69      0.58        61\n",
      "    POSITIVO       0.66      0.67      0.66       105\n",
      "\n",
      "    accuracy                           0.63       245\n",
      "   macro avg       0.64      0.63      0.63       245\n",
      "weighted avg       0.66      0.63      0.64       245\n",
      "\n"
     ]
    },
    {
     "data": {
      "image/png": "[encoded data removed]",
      "text/plain": [
       "<Figure size 640x480 with 2 Axes>"
      ]
     },
     "metadata": {},
     "output_type": "display_data"
    },
    {
     "name": "stdout",
     "output_type": "stream",
     "text": [
      "({'NEGATIVO': 0.20862529, 'NEUTRO': 0.59387666, 'POSTIVO': 0.16966917, 'IRONIA': 0.027828839}, 'NEUTRO')\n"
     ]
    }
   ],
   "source": [
    "# Obtener las predicciones\n",
    "results = verify_model(classificator_uncased, test_loader_uncased, tokenizer_uncased)"
   ]
  },
  {
   "cell_type": "code",
   "execution_count": 10,
   "metadata": {},
   "outputs": [],
   "source": [
    "del classificator_uncased\n",
    "torch.cuda.empty_cache()"
   ]
  },
  {
   "cell_type": "markdown",
   "metadata": {},
   "source": [
    "## 1.4 Creación y evaluación del modelo sin el Bert Entrenado\n",
    "\n",
    "### 1.4.1 Entrenamiento"
   ]
  },
  {
   "cell_type": "code",
   "execution_count": 11,
   "metadata": {},
   "outputs": [
    {
     "data": {
      "text/plain": [
       "230276"
      ]
     },
     "execution_count": 11,
     "metadata": {},
     "output_type": "execute_result"
    }
   ],
   "source": [
    "torch.manual_seed(SEED)\n",
    "classificator_uncased_no_bert = SentimentAnalysisPretrainedBert(BERT_MODEL, 0.4, 4, 256, 128, False).to(DEVICE)\n",
    "count_parameters(classificator_uncased_no_bert)"
   ]
  },
  {
   "cell_type": "code",
   "execution_count": 12,
   "metadata": {},
   "outputs": [
    {
     "name": "stderr",
     "output_type": "stream",
     "text": [
      " 33%|██████████████▎                            | 20/60 [05:12<10:28, 15.72s/it]"
     ]
    },
    {
     "name": "stdout",
     "output_type": "stream",
     "text": [
      "\n",
      "Epoch: 20 | Training acc: 0.41781874039938555 | Training loss: 0.13687598564901904 | Val acc: 0.42213114754098363 | Val loss: 0.13872911231439622\n",
      "------------------------------------------------------------------------------------------------------------------------------------------------------\n"
     ]
    },
    {
     "name": "stderr",
     "output_type": "stream",
     "text": [
      " 67%|████████████████████████████▋              | 40/60 [10:24<05:10, 15.50s/it]"
     ]
    },
    {
     "name": "stdout",
     "output_type": "stream",
     "text": [
      "\n",
      "Epoch: 40 | Training acc: 0.42498719918074757 | Training loss: 0.13518341885916832 | Val acc: 0.4180327868852459 | Val loss: 0.1370363770449748\n",
      "------------------------------------------------------------------------------------------------------------------------------------------------------\n"
     ]
    },
    {
     "name": "stderr",
     "output_type": "stream",
     "text": [
      "100%|███████████████████████████████████████████| 60/60 [15:38<00:00, 15.63s/it]"
     ]
    },
    {
     "name": "stdout",
     "output_type": "stream",
     "text": [
      "\n",
      "Epoch: 60 | Training acc: 0.4572452636968766 | Training loss: 0.1335381279221206 | Val acc: 0.39344262295081966 | Val loss: 0.13601771021475556\n",
      "------------------------------------------------------------------------------------------------------------------------------------------------------\n"
     ]
    },
    {
     "name": "stderr",
     "output_type": "stream",
     "text": [
      "\n"
     ]
    },
    {
     "data": {
      "text/plain": [
       "(inf, 0.4572452636968766)"
      ]
     },
     "execution_count": 12,
     "metadata": {},
     "output_type": "execute_result"
    }
   ],
   "source": [
    "criterio, optimizer = get_loss_opt(classificator_uncased_no_bert)\n",
    "train(classificator_uncased_no_bert, '../StoredModels/Mejores_guardados_albert_uncased_no_bert.pt', train_loader_uncased, val_loader_uncased, optimizer, criterio)"
   ]
  },
  {
   "cell_type": "markdown",
   "metadata": {},
   "source": [
    "### 1.4.2 Validación"
   ]
  },
  {
   "cell_type": "code",
   "execution_count": 13,
   "metadata": {},
   "outputs": [
    {
     "data": {
      "text/plain": [
       "<All keys matched successfully>"
      ]
     },
     "execution_count": 13,
     "metadata": {},
     "output_type": "execute_result"
    }
   ],
   "source": [
    "# Cargar un modelo que ya había sido Finetuneado\n",
    "checkpoint_classifier = torch.load(\n",
    "    \"../StoredModels/Mejores_guardados_albert_uncased_no_bert.pt\",\n",
    "    map_location=torch.device(DEVICE)\n",
    ")\n",
    "\n",
    "classificator_uncased_no_bert.load_state_dict(checkpoint_classifier['model_state_dict'])"
   ]
  },
  {
   "cell_type": "code",
   "execution_count": 14,
   "metadata": {},
   "outputs": [
    {
     "name": "stderr",
     "output_type": "stream",
     "text": [
      "100%|███████████████████████████████████████████| 31/31 [00:01<00:00, 18.12it/s]\n",
      "/home/historynlp/venv/lib/python3.10/site-packages/sklearn/metrics/_classification.py:1509: UndefinedMetricWarning: Precision is ill-defined and being set to 0.0 in labels with no predicted samples. Use `zero_division` parameter to control this behavior.\n",
      "  _warn_prf(average, modifier, f\"{metric.capitalize()} is\", len(result))\n",
      "/home/historynlp/venv/lib/python3.10/site-packages/sklearn/metrics/_classification.py:1509: UndefinedMetricWarning: Precision is ill-defined and being set to 0.0 in labels with no predicted samples. Use `zero_division` parameter to control this behavior.\n",
      "  _warn_prf(average, modifier, f\"{metric.capitalize()} is\", len(result))\n",
      "/home/historynlp/venv/lib/python3.10/site-packages/sklearn/metrics/_classification.py:1509: UndefinedMetricWarning: Precision is ill-defined and being set to 0.0 in labels with no predicted samples. Use `zero_division` parameter to control this behavior.\n",
      "  _warn_prf(average, modifier, f\"{metric.capitalize()} is\", len(result))\n"
     ]
    },
    {
     "name": "stdout",
     "output_type": "stream",
     "text": [
      "Statistics: \n",
      "              precision    recall  f1-score   support\n",
      "\n",
      "    NEGATIVO       0.00      0.00      0.00        79\n",
      "      NEUTRO       0.31      0.36      0.33        61\n",
      "    POSITIVO       0.47      0.77      0.58       105\n",
      "\n",
      "    accuracy                           0.42       245\n",
      "   macro avg       0.26      0.38      0.30       245\n",
      "weighted avg       0.28      0.42      0.33       245\n",
      "\n"
     ]
    },
    {
     "data": {
      "image/png": "[encoded data removed]",
      "text/plain": [
       "<Figure size 640x480 with 2 Axes>"
      ]
     },
     "metadata": {},
     "output_type": "display_data"
    },
    {
     "name": "stdout",
     "output_type": "stream",
     "text": [
      "({'NEGATIVO': 0.2691701, 'NEUTRO': 0.36013827, 'POSTIVO': 0.36696443, 'IRONIA': 0.0037272014}, 'POSITIVO')\n"
     ]
    }
   ],
   "source": [
    "# Obtener las predicciones\n",
    "verify_model(classificator_uncased_no_bert, test_loader_uncased, tokenizer_uncased)"
   ]
  },
  {
   "cell_type": "code",
   "execution_count": 15,
   "metadata": {},
   "outputs": [],
   "source": [
    "del classificator_uncased_no_bert\n",
    "torch.cuda.empty_cache()"
   ]
  },
  {
   "cell_type": "code",
   "execution_count": 16,
   "metadata": {},
   "outputs": [
    {
     "name": "stdout",
     "output_type": "stream",
     "text": [
      "Memoria total reservada en CUDA: 167772160 bytes\n",
      "Memoria actualmente asignada en CUDA: 95422464 bytes\n"
     ]
    }
   ],
   "source": [
    "print(f\"Memoria total reservada en CUDA: {torch.cuda.memory_reserved(0)} bytes\")\n",
    "print(f\"Memoria actualmente asignada en CUDA: {torch.cuda.memory_allocated(0)} bytes\")"
   ]
  },
  {
   "cell_type": "code",
   "execution_count": null,
   "metadata": {},
   "outputs": [],
   "source": []
  },
  {
   "cell_type": "code",
   "execution_count": 11,
   "metadata": {},
   "outputs": [
    {
     "data": {
      "text/html": [
       "<div>\n",
       "<style scoped>\n",
       "    .dataframe tbody tr th:only-of-type {\n",
       "        vertical-align: middle;\n",
       "    }\n",
       "\n",
       "    .dataframe tbody tr th {\n",
       "        vertical-align: top;\n",
       "    }\n",
       "\n",
       "    .dataframe thead th {\n",
       "        text-align: right;\n",
       "    }\n",
       "</style>\n",
       "<table border=\"1\" class=\"dataframe\">\n",
       "  <thead>\n",
       "    <tr style=\"text-align: right;\">\n",
       "      <th></th>\n",
       "      <th>Review Text</th>\n",
       "      <th>Prediction</th>\n",
       "      <th>Probability Negative</th>\n",
       "      <th>Probability Neutral</th>\n",
       "      <th>Probability Positive</th>\n",
       "      <th>Real Value</th>\n",
       "    </tr>\n",
       "  </thead>\n",
       "  <tbody>\n",
       "    <tr>\n",
       "      <th>0</th>\n",
       "      <td>catedral, dando instrucciones verbales a los o...</td>\n",
       "      <td>2</td>\n",
       "      <td>0.155432</td>\n",
       "      <td>0.167240</td>\n",
       "      <td>0.653529</td>\n",
       "      <td>2</td>\n",
       "    </tr>\n",
       "    <tr>\n",
       "      <th>1</th>\n",
       "      <td>en mi calidad de simple cortesano del genio, d...</td>\n",
       "      <td>2</td>\n",
       "      <td>0.127134</td>\n",
       "      <td>0.179424</td>\n",
       "      <td>0.676381</td>\n",
       "      <td>0</td>\n",
       "    </tr>\n",
       "    <tr>\n",
       "      <th>2</th>\n",
       "      <td>pared un parapeto por falta de una bicoca en q...</td>\n",
       "      <td>1</td>\n",
       "      <td>0.128391</td>\n",
       "      <td>0.669301</td>\n",
       "      <td>0.177409</td>\n",
       "      <td>2</td>\n",
       "    </tr>\n",
       "    <tr>\n",
       "      <th>3</th>\n",
       "      <td>la casa cural, regalada por una senora conde e...</td>\n",
       "      <td>1</td>\n",
       "      <td>0.121451</td>\n",
       "      <td>0.665356</td>\n",
       "      <td>0.186842</td>\n",
       "      <td>2</td>\n",
       "    </tr>\n",
       "    <tr>\n",
       "      <th>4</th>\n",
       "      <td>escena 5. a criado.  aqui teneis los tizones !...</td>\n",
       "      <td>1</td>\n",
       "      <td>0.151997</td>\n",
       "      <td>0.520192</td>\n",
       "      <td>0.313164</td>\n",
       "      <td>1</td>\n",
       "    </tr>\n",
       "  </tbody>\n",
       "</table>\n",
       "</div>"
      ],
      "text/plain": [
       "                                         Review Text  Prediction  \\\n",
       "0  catedral, dando instrucciones verbales a los o...           2   \n",
       "1  en mi calidad de simple cortesano del genio, d...           2   \n",
       "2  pared un parapeto por falta de una bicoca en q...           1   \n",
       "3  la casa cural, regalada por una senora conde e...           1   \n",
       "4  escena 5. a criado.  aqui teneis los tizones !...           1   \n",
       "\n",
       "   Probability Negative  Probability Neutral  Probability Positive  Real Value  \n",
       "0              0.155432             0.167240              0.653529           2  \n",
       "1              0.127134             0.179424              0.676381           0  \n",
       "2              0.128391             0.669301              0.177409           2  \n",
       "3              0.121451             0.665356              0.186842           2  \n",
       "4              0.151997             0.520192              0.313164           1  "
      ]
     },
     "execution_count": 11,
     "metadata": {},
     "output_type": "execute_result"
    }
   ],
   "source": [
    "results.head()"
   ]
  },
  {
   "cell_type": "code",
   "execution_count": 12,
   "metadata": {},
   "outputs": [],
   "source": [
    "results.to_csv('../Validation/Albert.csv')"
   ]
  },
  {
   "cell_type": "code",
   "execution_count": 18,
   "metadata": {},
   "outputs": [
    {
     "data": {
      "text/plain": [
       "2442"
      ]
     },
     "execution_count": 18,
     "metadata": {},
     "output_type": "execute_result"
    }
   ],
   "source": [
    "len(datos)"
   ]
  },
  {
   "cell_type": "code",
   "execution_count": 20,
   "metadata": {},
   "outputs": [
    {
     "data": {
      "text/plain": [
       "1953"
      ]
     },
     "execution_count": 20,
     "metadata": {},
     "output_type": "execute_result"
    }
   ],
   "source": [
    "len(train_df)"
   ]
  },
  {
   "cell_type": "code",
   "execution_count": 21,
   "metadata": {},
   "outputs": [
    {
     "data": {
      "text/plain": [
       "245"
      ]
     },
     "execution_count": 21,
     "metadata": {},
     "output_type": "execute_result"
    }
   ],
   "source": [
    "len(test_df)"
   ]
  },
  {
   "cell_type": "code",
   "execution_count": 22,
   "metadata": {},
   "outputs": [
    {
     "data": {
      "text/plain": [
       "244"
      ]
     },
     "execution_count": 22,
     "metadata": {},
     "output_type": "execute_result"
    }
   ],
   "source": [
    "len(val_df)"
   ]
  },
  {
   "cell_type": "code",
   "execution_count": null,
   "metadata": {},
   "outputs": [
    {
     "data": {
      "text/html": [
       "<div>\n",
       "<style scoped>\n",
       "    .dataframe tbody tr th:only-of-type {\n",
       "        vertical-align: middle;\n",
       "    }\n",
       "\n",
       "    .dataframe tbody tr th {\n",
       "        vertical-align: top;\n",
       "    }\n",
       "\n",
       "    .dataframe thead th {\n",
       "        text-align: right;\n",
       "    }\n",
       "</style>\n",
       "<table border=\"1\" class=\"dataframe\">\n",
       "  <thead>\n",
       "    <tr style=\"text-align: right;\">\n",
       "      <th></th>\n",
       "      <th>text</th>\n",
       "      <th>TAG_num</th>\n",
       "    </tr>\n",
       "  </thead>\n",
       "  <tbody>\n",
       "    <tr>\n",
       "      <th>0</th>\n",
       "      <td>caro al pudor y grato a la inocencia.  que llo...</td>\n",
       "      <td>1</td>\n",
       "    </tr>\n",
       "    <tr>\n",
       "      <th>1</th>\n",
       "      <td>i aun para que los sacaran tres horas antes de...</td>\n",
       "      <td>0</td>\n",
       "    </tr>\n",
       "    <tr>\n",
       "      <th>3</th>\n",
       "      <td>aparato enganoso de la ficcion, esta la leccio...</td>\n",
       "      <td>2</td>\n",
       "    </tr>\n",
       "    <tr>\n",
       "      <th>5</th>\n",
       "      <td>las tradiciones medrosas, refieren extranisima...</td>\n",
       "      <td>2</td>\n",
       "    </tr>\n",
       "    <tr>\n",
       "      <th>6</th>\n",
       "      <td>por retardarla provocase ni admitiese  necesar...</td>\n",
       "      <td>0</td>\n",
       "    </tr>\n",
       "    <tr>\n",
       "      <th>...</th>\n",
       "      <td>...</td>\n",
       "      <td>...</td>\n",
       "    </tr>\n",
       "    <tr>\n",
       "      <th>2729</th>\n",
       "      <td>venga una paz estable y duradera, y el suelo q...</td>\n",
       "      <td>2</td>\n",
       "    </tr>\n",
       "    <tr>\n",
       "      <th>2730</th>\n",
       "      <td>cada dia nuevas flores en el camino que transi...</td>\n",
       "      <td>2</td>\n",
       "    </tr>\n",
       "    <tr>\n",
       "      <th>2731</th>\n",
       "      <td>de la respuesta dada por el senor docter velez...</td>\n",
       "      <td>0</td>\n",
       "    </tr>\n",
       "    <tr>\n",
       "      <th>2732</th>\n",
       "      <td>paris, diciembre 11 .  el examen de  pretara e...</td>\n",
       "      <td>0</td>\n",
       "    </tr>\n",
       "    <tr>\n",
       "      <th>2733</th>\n",
       "      <td>esta completo el nuevo gabinete fallieres, min...</td>\n",
       "      <td>1</td>\n",
       "    </tr>\n",
       "  </tbody>\n",
       "</table>\n",
       "<p>2442 rows × 2 columns</p>\n",
       "</div>"
      ],
      "text/plain": [
       "                                                   text  TAG_num\n",
       "0     caro al pudor y grato a la inocencia.  que llo...        1\n",
       "1     i aun para que los sacaran tres horas antes de...        0\n",
       "3     aparato enganoso de la ficcion, esta la leccio...        2\n",
       "5     las tradiciones medrosas, refieren extranisima...        2\n",
       "6     por retardarla provocase ni admitiese  necesar...        0\n",
       "...                                                 ...      ...\n",
       "2729  venga una paz estable y duradera, y el suelo q...        2\n",
       "2730  cada dia nuevas flores en el camino que transi...        2\n",
       "2731  de la respuesta dada por el senor docter velez...        0\n",
       "2732  paris, diciembre 11 .  el examen de  pretara e...        0\n",
       "2733  esta completo el nuevo gabinete fallieres, min...        1\n",
       "\n",
       "[2442 rows x 2 columns]"
      ]
     },
     "execution_count": 23,
     "metadata": {},
     "output_type": "execute_result"
    }
   ],
   "source": [
    "datos"
   ]
  },
  {
   "cell_type": "code",
   "execution_count": 12,
   "metadata": {},
   "outputs": [],
   "source": [
    "def calculate(datos):\n",
    "    irony = len(datos[datos['TAG_num']==3])\n",
    "    neutro = len(datos[datos['TAG_num']==1])\n",
    "    positive = len(datos[datos['TAG_num']==2])\n",
    "    negative = len(datos[datos['TAG_num']==0])\n",
    "    total = len(datos)\n",
    "\n",
    "    print(f' irony: {irony} \\n positive: {positive} \\n neutro: {neutro} \\n negative {negative} \\n total: {len(datos)}')\n",
    "    print(f' irony: {irony/total} \\n positive: {positive/total} \\n neutro: {neutro/total} \\n negative {negative/total}')"
   ]
  },
  {
   "cell_type": "code",
   "execution_count": 13,
   "metadata": {},
   "outputs": [
    {
     "name": "stdout",
     "output_type": "stream",
     "text": [
      " irony: 0 \n",
      " positive: 951 \n",
      " neutro: 790 \n",
      " negative 701 \n",
      " total: 2442\n",
      " irony: 0.0 \n",
      " positive: 0.3894348894348894 \n",
      " neutro: 0.3235053235053235 \n",
      " negative 0.2870597870597871\n"
     ]
    }
   ],
   "source": [
    "calculate(datos)"
   ]
  },
  {
   "cell_type": "code",
   "execution_count": 14,
   "metadata": {},
   "outputs": [
    {
     "name": "stdout",
     "output_type": "stream",
     "text": [
      " irony: 0 \n",
      " positive: 753 \n",
      " neutro: 656 \n",
      " negative 544 \n",
      " total: 1953\n",
      " irony: 0.0 \n",
      " positive: 0.38556067588325654 \n",
      " neutro: 0.3358934971838198 \n",
      " negative 0.27854582693292373\n"
     ]
    }
   ],
   "source": [
    "calculate(train_df)"
   ]
  },
  {
   "cell_type": "code",
   "execution_count": 15,
   "metadata": {},
   "outputs": [
    {
     "name": "stdout",
     "output_type": "stream",
     "text": [
      " irony: 0 \n",
      " positive: 105 \n",
      " neutro: 61 \n",
      " negative 79 \n",
      " total: 245\n",
      " irony: 0.0 \n",
      " positive: 0.42857142857142855 \n",
      " neutro: 0.24897959183673468 \n",
      " negative 0.3224489795918367\n"
     ]
    }
   ],
   "source": [
    "calculate(test_df)"
   ]
  },
  {
   "cell_type": "code",
   "execution_count": 16,
   "metadata": {},
   "outputs": [
    {
     "name": "stdout",
     "output_type": "stream",
     "text": [
      " irony: 0 \n",
      " positive: 93 \n",
      " neutro: 73 \n",
      " negative 78 \n",
      " total: 244\n",
      " irony: 0.0 \n",
      " positive: 0.38114754098360654 \n",
      " neutro: 0.29918032786885246 \n",
      " negative 0.319672131147541\n"
     ]
    }
   ],
   "source": [
    "calculate(val_df)"
   ]
  },
  {
   "cell_type": "code",
   "execution_count": 21,
   "metadata": {},
   "outputs": [
    {
     "data": {
      "text/plain": [
       "0.10680321872713973"
      ]
     },
     "execution_count": 21,
     "metadata": {},
     "output_type": "execute_result"
    }
   ],
   "source": [
    "292/2734"
   ]
  },
  {
   "cell_type": "code",
   "execution_count": null,
   "metadata": {},
   "outputs": [],
   "source": []
  }
 ],
 "metadata": {
  "kernelspec": {
   "display_name": "Python 3 (ipykernel)",
   "language": "python",
   "name": "python3"
  },
  "language_info": {
   "codemirror_mode": {
    "name": "ipython",
    "version": 3
   },
   "file_extension": ".py",
   "mimetype": "text/x-python",
   "name": "python",
   "nbconvert_exporter": "python",
   "pygments_lexer": "ipython3",
   "version": "3.10.12"
  }
 },
 "nbformat": 4,
 "nbformat_minor": 4
}
