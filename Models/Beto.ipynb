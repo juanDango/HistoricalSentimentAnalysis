{
 "cells": [
  {
   "cell_type": "code",
   "execution_count": 1,
   "metadata": {},
   "outputs": [],
   "source": [
    "AVAILABLE_GPU = 2 # Available GPU with 0% usage\n",
    "import os\n",
    "os.environ[\"CUDA_DEVICE_ORDER\"] = \"PCI_BUS_ID\"\n",
    "os.environ[\"CUDA_VISIBLE_DEVICES\"] = f\"{AVAILABLE_GPU}\"\n",
    "os.environ[\"CUDA_LAUNCH_BLOCKING\"] = \"1\"\n",
    "tf_device=f'/gpu:{AVAILABLE_GPU}'"
   ]
  },
  {
   "cell_type": "code",
   "execution_count": 2,
   "metadata": {},
   "outputs": [],
   "source": [
    "import sys\n",
    "sys.path.append('../Utils')"
   ]
  },
  {
   "cell_type": "code",
   "execution_count": 3,
   "metadata": {},
   "outputs": [
    {
     "name": "stderr",
     "output_type": "stream",
     "text": [
      "/home/historynlp/venv/lib/python3.10/site-packages/tqdm/auto.py:21: TqdmWarning: IProgress not found. Please update jupyter and ipywidgets. See https://ipywidgets.readthedocs.io/en/stable/user_install.html\n",
      "  from .autonotebook import tqdm as notebook_tqdm\n"
     ]
    }
   ],
   "source": [
    "import torch\n",
    "from sklearn.model_selection import train_test_split\n",
    "from transformers import AutoTokenizer\n",
    "\n",
    "from DataManagement import preparar_datos\n",
    "from Constants import SEED\n",
    "from DataManagement import createDataloaders\n",
    "from Utils import get_loss_opt\n",
    "from Utils import train\n",
    "from Utils import count_parameters\n",
    "from Models import SentimentAnalysisPretrainedBert\n",
    "from Utils import verify_model\n",
    "from Constants import TRAINING_DATA"
   ]
  },
  {
   "cell_type": "code",
   "execution_count": 4,
   "metadata": {},
   "outputs": [
    {
     "name": "stdout",
     "output_type": "stream",
     "text": [
      "Memoria total reservada en CUDA: 0 bytes\n",
      "Memoria actualmente asignada en CUDA: 0 bytes\n"
     ]
    }
   ],
   "source": [
    "print(f\"Memoria total reservada en CUDA: {torch.cuda.memory_reserved(0)} bytes\")\n",
    "print(f\"Memoria actualmente asignada en CUDA: {torch.cuda.memory_allocated(0)} bytes\")"
   ]
  },
  {
   "cell_type": "markdown",
   "metadata": {},
   "source": [
    "# 1. CASED\n",
    "\n",
    "## 1.1 Definicion de constantes"
   ]
  },
  {
   "cell_type": "code",
   "execution_count": 11,
   "metadata": {},
   "outputs": [
    {
     "data": {
      "text/plain": [
       "device(type='cuda')"
      ]
     },
     "execution_count": 11,
     "metadata": {},
     "output_type": "execute_result"
    }
   ],
   "source": [
    "#Modelo bert a usar\n",
    "BERT_MODEL = '../../output/beto/old-spanish-beto-base-cased.pt'\n",
    "\n",
    "#Dispositivo sobre el que se corre el modelo de ML\n",
    "DEVICE = torch.device('cuda' if torch.cuda.is_available() else 'cpu')\n",
    "\n",
    "tokenizer_cased = AutoTokenizer.from_pretrained(\"dccuchile/bert-base-spanish-wwm-cased\")\n",
    "\n",
    "torch.cuda.empty_cache()\n",
    "DEVICE"
   ]
  },
  {
   "cell_type": "markdown",
   "metadata": {},
   "source": [
    "## 1.2 Creacion de los dataloaders"
   ]
  },
  {
   "cell_type": "code",
   "execution_count": 6,
   "metadata": {},
   "outputs": [],
   "source": [
    "datos = preparar_datos(TRAINING_DATA)\n",
    "train_df, test_df = train_test_split(datos, test_size=0.2, random_state = SEED, shuffle=True)\n",
    "val_df, test_df = train_test_split(test_df, test_size=0.5, random_state = SEED, shuffle=True)\n",
    "\n",
    "train_loader_cased, val_loader_cased, test_loader_cased = createDataloaders(train_df, val_df, test_df, tokenizer_cased)"
   ]
  },
  {
   "cell_type": "markdown",
   "metadata": {},
   "source": [
    "## 1.3 Creación y evaluación del modelo con el bert entrenado\n",
    "\n",
    "### 1.3.1 Entrenamiento"
   ]
  },
  {
   "cell_type": "code",
   "execution_count": 7,
   "metadata": {},
   "outputs": [
    {
     "data": {
      "text/plain": [
       "110113694"
      ]
     },
     "execution_count": 7,
     "metadata": {},
     "output_type": "execute_result"
    }
   ],
   "source": [
    "torch.manual_seed(SEED)\n",
    "classificator_cased = SentimentAnalysisPretrainedBert(BERT_MODEL, 0.4, 4, 256, 128,  True).to(DEVICE)\n",
    "count_parameters(classificator_cased)"
   ]
  },
  {
   "cell_type": "code",
   "execution_count": 8,
   "metadata": {},
   "outputs": [
    {
     "name": "stderr",
     "output_type": "stream",
     "text": [
      " 32%|████████████▋                           | 19/60 [49:14<1:41:14, 148.16s/it]"
     ]
    },
    {
     "name": "stdout",
     "output_type": "stream",
     "text": [
      "\n",
      "Epoch: 20 | Training acc: 0.5422427035330261 | Training loss: 0.12496901272628713 | Val acc: 0.5860655737704918 | Val loss: 0.12200394443801192\n",
      "------------------------------------------------------------------------------------------------------------------------------------------------------\n"
     ]
    },
    {
     "name": "stderr",
     "output_type": "stream",
     "text": [
      " 65%|██████████████████████████              | 39/60 [1:38:15<51:36, 147.44s/it]"
     ]
    },
    {
     "name": "stdout",
     "output_type": "stream",
     "text": [
      "\n",
      "Epoch: 40 | Training acc: 0.6656426011264721 | Training loss: 0.10598959204971149 | Val acc: 0.6229508196721312 | Val loss: 0.11027655054311283\n",
      "------------------------------------------------------------------------------------------------------------------------------------------------------\n"
     ]
    },
    {
     "name": "stderr",
     "output_type": "stream",
     "text": [
      " 98%|███████████████████████████████████████▎| 59/60 [2:27:29<02:27, 147.65s/it]"
     ]
    },
    {
     "name": "stdout",
     "output_type": "stream",
     "text": [
      "\n",
      "Epoch: 60 | Training acc: 0.6871479774705581 | Training loss: 0.1044228771406751 | Val acc: 0.6229508196721312 | Val loss: 0.11329723564816303\n",
      "------------------------------------------------------------------------------------------------------------------------------------------------------\n"
     ]
    },
    {
     "name": "stderr",
     "output_type": "stream",
     "text": [
      "100%|████████████████████████████████████████| 60/60 [2:27:29<00:00, 147.50s/it]\n"
     ]
    },
    {
     "data": {
      "text/plain": [
       "(inf, 0.6871479774705581)"
      ]
     },
     "execution_count": 8,
     "metadata": {},
     "output_type": "execute_result"
    }
   ],
   "source": [
    "criterio, optimizer = get_loss_opt(classificator_cased)\n",
    "train(classificator_cased, '../StoredModels/Mejores_guardados_beto_cased.pt', train_loader_cased, val_loader_cased, optimizer, criterio)"
   ]
  },
  {
   "cell_type": "markdown",
   "metadata": {},
   "source": [
    "### 1.3.2 Validación"
   ]
  },
  {
   "cell_type": "code",
   "execution_count": 8,
   "metadata": {},
   "outputs": [
    {
     "data": {
      "text/plain": [
       "<All keys matched successfully>"
      ]
     },
     "execution_count": 8,
     "metadata": {},
     "output_type": "execute_result"
    }
   ],
   "source": [
    "# Cargar un modelo que ya había sido Finetuneado\n",
    "checkpoint_classifier = torch.load(\n",
    "    \"../StoredModels/Mejores_guardados_beto_cased.pt\",\n",
    "    map_location=torch.device(DEVICE)\n",
    ")\n",
    "\n",
    "classificator_cased.load_state_dict(checkpoint_classifier['model_state_dict'])"
   ]
  },
  {
   "cell_type": "code",
   "execution_count": 9,
   "metadata": {},
   "outputs": [
    {
     "name": "stderr",
     "output_type": "stream",
     "text": [
      "100%|███████████████████████████████████████████| 31/31 [00:03<00:00,  9.77it/s]\n"
     ]
    },
    {
     "name": "stdout",
     "output_type": "stream",
     "text": [
      "Statistics: \n",
      "              precision    recall  f1-score   support\n",
      "\n",
      "    NEGATIVO       0.77      0.51      0.61        79\n",
      "      NEUTRO       0.56      0.67      0.61        61\n",
      "    POSITIVO       0.66      0.75      0.70       105\n",
      "\n",
      "    accuracy                           0.65       245\n",
      "   macro avg       0.66      0.64      0.64       245\n",
      "weighted avg       0.67      0.65      0.65       245\n",
      "\n"
     ]
    },
    {
     "data": {
      "image/png": "[encoded data removed]",
      "text/plain": [
       "<Figure size 640x480 with 2 Axes>"
      ]
     },
     "metadata": {},
     "output_type": "display_data"
    },
    {
     "name": "stdout",
     "output_type": "stream",
     "text": [
      "({'NEGATIVO': 0.26749158, 'NEUTRO': 0.5211629, 'POSTIVO': 0.19161765}, 'NEUTRO')\n"
     ]
    }
   ],
   "source": [
    "# Obtener las predicciones\n",
    "results = verify_model(classificator_cased, test_loader_cased, tokenizer_cased)"
   ]
  },
  {
   "cell_type": "code",
   "execution_count": 11,
   "metadata": {},
   "outputs": [],
   "source": [
    "del classificator_cased\n",
    "torch.cuda.empty_cache()"
   ]
  },
  {
   "cell_type": "markdown",
   "metadata": {},
   "source": [
    "## 1.4 Creación y evaluación del modelo sin el Bert Entrenado\n",
    "\n",
    "### 1.4.1 Entrenamiento"
   ]
  },
  {
   "cell_type": "code",
   "execution_count": 12,
   "metadata": {},
   "outputs": [
    {
     "data": {
      "text/plain": [
       "230276"
      ]
     },
     "execution_count": 12,
     "metadata": {},
     "output_type": "execute_result"
    }
   ],
   "source": [
    "torch.manual_seed(SEED)\n",
    "classificator_cased_no_bert = SentimentAnalysisPretrainedBert(BERT_MODEL, 0.4, 4, 256, 128, False).to(DEVICE)\n",
    "count_parameters(classificator_cased_no_bert)"
   ]
  },
  {
   "cell_type": "code",
   "execution_count": 13,
   "metadata": {},
   "outputs": [
    {
     "name": "stderr",
     "output_type": "stream",
     "text": [
      " 32%|█████████████▌                             | 19/60 [15:16<31:21, 45.89s/it]"
     ]
    },
    {
     "name": "stdout",
     "output_type": "stream",
     "text": [
      "\n",
      "Epoch: 20 | Training acc: 0.38044034818228367 | Training loss: 0.13782114049928101 | Val acc: 0.38114754098360654 | Val loss: 0.13855486986089927\n",
      "------------------------------------------------------------------------------------------------------------------------------------------------------\n"
     ]
    },
    {
     "name": "stderr",
     "output_type": "stream",
     "text": [
      " 65%|███████████████████████████▉               | 39/60 [30:34<16:02, 45.83s/it]"
     ]
    },
    {
     "name": "stdout",
     "output_type": "stream",
     "text": [
      "\n",
      "Epoch: 40 | Training acc: 0.4121863799283154 | Training loss: 0.135831937750852 | Val acc: 0.4180327868852459 | Val loss: 0.13684008404856823\n",
      "------------------------------------------------------------------------------------------------------------------------------------------------------\n"
     ]
    },
    {
     "name": "stderr",
     "output_type": "stream",
     "text": [
      " 98%|██████████████████████████████████████████▎| 59/60 [45:44<00:44, 44.56s/it]"
     ]
    },
    {
     "name": "stdout",
     "output_type": "stream",
     "text": [
      "\n",
      "Epoch: 60 | Training acc: 0.4429083461341526 | Training loss: 0.13320925064228525 | Val acc: 0.4426229508196721 | Val loss: 0.13389997110992183\n",
      "------------------------------------------------------------------------------------------------------------------------------------------------------\n"
     ]
    },
    {
     "name": "stderr",
     "output_type": "stream",
     "text": [
      "100%|███████████████████████████████████████████| 60/60 [45:45<00:00, 45.76s/it]\n"
     ]
    },
    {
     "data": {
      "text/plain": [
       "(inf, 0.44802867383512546)"
      ]
     },
     "execution_count": 13,
     "metadata": {},
     "output_type": "execute_result"
    }
   ],
   "source": [
    "criterio, optimizer = get_loss_opt(classificator_cased_no_bert)\n",
    "train(classificator_cased_no_bert, '../StoredModels/Mejores_guardados_beto_cased_no_bert.pt', train_loader_cased, val_loader_cased, optimizer, criterio)"
   ]
  },
  {
   "cell_type": "markdown",
   "metadata": {},
   "source": [
    "### 1.4.2 Validación"
   ]
  },
  {
   "cell_type": "code",
   "execution_count": 14,
   "metadata": {},
   "outputs": [
    {
     "data": {
      "text/plain": [
       "<All keys matched successfully>"
      ]
     },
     "execution_count": 14,
     "metadata": {},
     "output_type": "execute_result"
    }
   ],
   "source": [
    "# Cargar un modelo que ya había sido Finetuneado\n",
    "checkpoint_classifier = torch.load(\n",
    "    \"../StoredModels/Mejores_guardados_beto_cased_no_bert.pt\",\n",
    "    map_location=torch.device(DEVICE)\n",
    ")\n",
    "\n",
    "classificator_cased_no_bert.load_state_dict(checkpoint_classifier['model_state_dict'])"
   ]
  },
  {
   "cell_type": "code",
   "execution_count": 15,
   "metadata": {},
   "outputs": [
    {
     "name": "stderr",
     "output_type": "stream",
     "text": [
      "100%|███████████████████████████████████████████| 31/31 [00:03<00:00,  7.91it/s]\n",
      "/home/historynlp/venv/lib/python3.10/site-packages/sklearn/metrics/_classification.py:1509: UndefinedMetricWarning: Precision is ill-defined and being set to 0.0 in labels with no predicted samples. Use `zero_division` parameter to control this behavior.\n",
      "  _warn_prf(average, modifier, f\"{metric.capitalize()} is\", len(result))\n",
      "/home/historynlp/venv/lib/python3.10/site-packages/sklearn/metrics/_classification.py:1509: UndefinedMetricWarning: Precision is ill-defined and being set to 0.0 in labels with no predicted samples. Use `zero_division` parameter to control this behavior.\n",
      "  _warn_prf(average, modifier, f\"{metric.capitalize()} is\", len(result))\n",
      "/home/historynlp/venv/lib/python3.10/site-packages/sklearn/metrics/_classification.py:1509: UndefinedMetricWarning: Precision is ill-defined and being set to 0.0 in labels with no predicted samples. Use `zero_division` parameter to control this behavior.\n",
      "  _warn_prf(average, modifier, f\"{metric.capitalize()} is\", len(result))\n"
     ]
    },
    {
     "name": "stdout",
     "output_type": "stream",
     "text": [
      "Statistics: \n",
      "              precision    recall  f1-score   support\n",
      "\n",
      "    NEGATIVO       0.00      0.00      0.00        79\n",
      "      NEUTRO       0.51      0.31      0.39        61\n",
      "    POSITIVO       0.47      0.93      0.63       105\n",
      "\n",
      "    accuracy                           0.48       245\n",
      "   macro avg       0.33      0.41      0.34       245\n",
      "weighted avg       0.33      0.48      0.36       245\n",
      "\n"
     ]
    },
    {
     "data": {
      "image/png": "[encoded data removed]",
      "text/plain": [
       "<Figure size 640x480 with 2 Axes>"
      ]
     },
     "metadata": {},
     "output_type": "display_data"
    },
    {
     "name": "stdout",
     "output_type": "stream",
     "text": [
      "({'NEGATIVO': 0.24563447, 'NEUTRO': 0.36377633, 'POSTIVO': 0.3869515, 'IRONIA': 0.0036376808}, 'POSITIVO')\n"
     ]
    }
   ],
   "source": [
    "# Obtener las predicciones\n",
    "verify_model(classificator_cased_no_bert, test_loader_cased, tokenizer_cased)"
   ]
  },
  {
   "cell_type": "code",
   "execution_count": 16,
   "metadata": {},
   "outputs": [],
   "source": [
    "del classificator_cased_no_bert\n",
    "torch.cuda.empty_cache()"
   ]
  },
  {
   "cell_type": "markdown",
   "metadata": {},
   "source": [
    "# 2. UNCASED\n",
    "\n",
    "## 2.1 Definicion de constantes"
   ]
  },
  {
   "cell_type": "code",
   "execution_count": 17,
   "metadata": {},
   "outputs": [],
   "source": [
    "#Modelo bert a usar\n",
    "BERT_MODEL = '../../output/beto/old-spanish-beto-base-uncased.pt'\n",
    "\n",
    "tokenizer_uncased = AutoTokenizer.from_pretrained(\"dccuchile/bert-base-spanish-wwm-uncased\")"
   ]
  },
  {
   "cell_type": "markdown",
   "metadata": {},
   "source": [
    "## 2.2 Creacion de los dataloaders"
   ]
  },
  {
   "cell_type": "code",
   "execution_count": 18,
   "metadata": {},
   "outputs": [],
   "source": [
    "train_loader_uncased, val_loader_uncased, test_loader_uncased = createDataloaders(train_df, val_df, test_df, tokenizer_uncased)"
   ]
  },
  {
   "cell_type": "markdown",
   "metadata": {},
   "source": [
    "## 2.3 Creación y evaluación del modelo con el bert entrenado\n",
    "\n",
    "### 2.3.1 Entrenamiento"
   ]
  },
  {
   "cell_type": "code",
   "execution_count": 19,
   "metadata": {},
   "outputs": [
    {
     "data": {
      "text/plain": [
       "110113694"
      ]
     },
     "execution_count": 19,
     "metadata": {},
     "output_type": "execute_result"
    }
   ],
   "source": [
    "torch.manual_seed(SEED)\n",
    "classificator_uncased = SentimentAnalysisPretrainedBert(BERT_MODEL, 0.4, 4, 256, 128, True).to(DEVICE)\n",
    "count_parameters(classificator_uncased)"
   ]
  },
  {
   "cell_type": "code",
   "execution_count": 20,
   "metadata": {},
   "outputs": [
    {
     "name": "stderr",
     "output_type": "stream",
     "text": [
      " 32%|████████████▋                           | 19/60 [48:43<1:39:43, 145.94s/it]"
     ]
    },
    {
     "name": "stdout",
     "output_type": "stream",
     "text": [
      "\n",
      "Epoch: 20 | Training acc: 0.5919098822324629 | Training loss: 0.11849080640355318 | Val acc: 0.5819672131147541 | Val loss: 0.11765726619079465\n",
      "------------------------------------------------------------------------------------------------------------------------------------------------------\n"
     ]
    },
    {
     "name": "stderr",
     "output_type": "stream",
     "text": [
      " 65%|██████████████████████████              | 39/60 [1:37:30<51:15, 146.45s/it]"
     ]
    },
    {
     "name": "stdout",
     "output_type": "stream",
     "text": [
      "\n",
      "Epoch: 40 | Training acc: 0.6548899129544291 | Training loss: 0.10442686618076369 | Val acc: 0.5942622950819673 | Val loss: 0.10896234067737079\n",
      "------------------------------------------------------------------------------------------------------------------------------------------------------\n"
     ]
    },
    {
     "name": "stderr",
     "output_type": "stream",
     "text": [
      " 98%|███████████████████████████████████████▎| 59/60 [2:26:24<02:26, 146.67s/it]"
     ]
    },
    {
     "name": "stdout",
     "output_type": "stream",
     "text": [
      "\n",
      "Epoch: 60 | Training acc: 0.6722990271377368 | Training loss: 0.10404637536817005 | Val acc: 0.5860655737704918 | Val loss: 0.11215560089369289\n",
      "------------------------------------------------------------------------------------------------------------------------------------------------------\n"
     ]
    },
    {
     "name": "stderr",
     "output_type": "stream",
     "text": [
      "100%|████████████████████████████████████████| 60/60 [2:26:25<00:00, 146.42s/it]\n"
     ]
    },
    {
     "data": {
      "text/plain": [
       "(inf, 0.674347158218126)"
      ]
     },
     "execution_count": 20,
     "metadata": {},
     "output_type": "execute_result"
    }
   ],
   "source": [
    "criterio, optimizer = get_loss_opt(classificator_uncased)\n",
    "train(classificator_uncased, '../StoredModels/Mejores_guardados_beto_uncased.pt', train_loader_uncased, val_loader_uncased, optimizer, criterio)"
   ]
  },
  {
   "cell_type": "markdown",
   "metadata": {},
   "source": [
    "### 2.3.2 Validación"
   ]
  },
  {
   "cell_type": "code",
   "execution_count": 21,
   "metadata": {},
   "outputs": [
    {
     "data": {
      "text/plain": [
       "<All keys matched successfully>"
      ]
     },
     "execution_count": 21,
     "metadata": {},
     "output_type": "execute_result"
    }
   ],
   "source": [
    "# Cargar un modelo que ya había sido Finetuneado\n",
    "checkpoint_classifier = torch.load(\n",
    "    \"../StoredModels/Mejores_guardados_beto_uncased.pt\",\n",
    "    map_location=torch.device(DEVICE)\n",
    ")\n",
    "\n",
    "classificator_uncased.load_state_dict(checkpoint_classifier['model_state_dict'])"
   ]
  },
  {
   "cell_type": "code",
   "execution_count": 22,
   "metadata": {},
   "outputs": [
    {
     "name": "stderr",
     "output_type": "stream",
     "text": [
      "100%|███████████████████████████████████████████| 31/31 [00:03<00:00,  8.49it/s]\n"
     ]
    },
    {
     "name": "stdout",
     "output_type": "stream",
     "text": [
      "Statistics: \n",
      "              precision    recall  f1-score   support\n",
      "\n",
      "    NEGATIVO       0.75      0.42      0.54        79\n",
      "      NEUTRO       0.55      0.62      0.58        61\n",
      "    POSITIVO       0.58      0.73      0.65       105\n",
      "\n",
      "    accuracy                           0.60       245\n",
      "   macro avg       0.63      0.59      0.59       245\n",
      "weighted avg       0.63      0.60      0.60       245\n",
      "\n"
     ]
    },
    {
     "data": {
      "image/png": "[encoded data removed]",
      "text/plain": [
       "<Figure size 640x480 with 2 Axes>"
      ]
     },
     "metadata": {},
     "output_type": "display_data"
    },
    {
     "name": "stdout",
     "output_type": "stream",
     "text": [
      "({'NEGATIVO': 0.096611515, 'NEUTRO': 0.66209394, 'POSTIVO': 0.21130466, 'IRONIA': 0.029989913}, 'NEUTRO')\n"
     ]
    }
   ],
   "source": [
    "# Obtener las predicciones\n",
    "verify_model(classificator_uncased, test_loader_uncased, tokenizer_uncased)"
   ]
  },
  {
   "cell_type": "code",
   "execution_count": 23,
   "metadata": {},
   "outputs": [],
   "source": [
    "del classificator_uncased\n",
    "torch.cuda.empty_cache()"
   ]
  },
  {
   "cell_type": "markdown",
   "metadata": {},
   "source": [
    "## 2.4 Creación y evaluación del modelo sin el Bert Entrenado\n",
    "\n",
    "### 2.4.1 Entrenamiento"
   ]
  },
  {
   "cell_type": "code",
   "execution_count": 24,
   "metadata": {},
   "outputs": [
    {
     "data": {
      "text/plain": [
       "230276"
      ]
     },
     "execution_count": 24,
     "metadata": {},
     "output_type": "execute_result"
    }
   ],
   "source": [
    "torch.manual_seed(SEED)\n",
    "classificator_uncased_no_bert = SentimentAnalysisPretrainedBert(BERT_MODEL, 0.4, 4, 256, 128, False).to(DEVICE)\n",
    "count_parameters(classificator_uncased_no_bert)"
   ]
  },
  {
   "cell_type": "code",
   "execution_count": 25,
   "metadata": {},
   "outputs": [
    {
     "name": "stderr",
     "output_type": "stream",
     "text": [
      " 32%|█████████████▌                             | 19/60 [15:03<30:53, 45.22s/it]"
     ]
    },
    {
     "name": "stdout",
     "output_type": "stream",
     "text": [
      "\n",
      "Epoch: 20 | Training acc: 0.4198668714797747 | Training loss: 0.13494373921303035 | Val acc: 0.38934426229508196 | Val loss: 0.13600612077556673\n",
      "------------------------------------------------------------------------------------------------------------------------------------------------------\n"
     ]
    },
    {
     "name": "stderr",
     "output_type": "stream",
     "text": [
      " 65%|███████████████████████████▉               | 39/60 [30:08<15:52, 45.35s/it]"
     ]
    },
    {
     "name": "stdout",
     "output_type": "stream",
     "text": [
      "\n",
      "Epoch: 40 | Training acc: 0.49257552483358935 | Training loss: 0.12918073167815552 | Val acc: 0.5368852459016393 | Val loss: 0.12938526859048938\n",
      "------------------------------------------------------------------------------------------------------------------------------------------------------\n"
     ]
    },
    {
     "name": "stderr",
     "output_type": "stream",
     "text": [
      " 98%|██████████████████████████████████████████▎| 59/60 [44:04<00:34, 34.16s/it]"
     ]
    },
    {
     "name": "stdout",
     "output_type": "stream",
     "text": [
      "\n",
      "Epoch: 60 | Training acc: 0.5560675883256528 | Training loss: 0.12210031292466585 | Val acc: 0.5655737704918032 | Val loss: 0.12147599360981925\n",
      "------------------------------------------------------------------------------------------------------------------------------------------------------\n"
     ]
    },
    {
     "name": "stderr",
     "output_type": "stream",
     "text": [
      "100%|███████████████████████████████████████████| 60/60 [44:05<00:00, 44.09s/it]\n"
     ]
    },
    {
     "data": {
      "text/plain": [
       "(inf, 0.5560675883256528)"
      ]
     },
     "execution_count": 25,
     "metadata": {},
     "output_type": "execute_result"
    }
   ],
   "source": [
    "criterio, optimizer = get_loss_opt(classificator_uncased_no_bert)\n",
    "train(classificator_uncased_no_bert, '../StoredModels/Mejores_guardados_beto_uncased_no_bert.pt', train_loader_uncased, val_loader_uncased, optimizer, criterio)"
   ]
  },
  {
   "cell_type": "markdown",
   "metadata": {},
   "source": [
    "### 1.4.2 Validación"
   ]
  },
  {
   "cell_type": "code",
   "execution_count": 26,
   "metadata": {},
   "outputs": [
    {
     "data": {
      "text/plain": [
       "<All keys matched successfully>"
      ]
     },
     "execution_count": 26,
     "metadata": {},
     "output_type": "execute_result"
    }
   ],
   "source": [
    "# Cargar un modelo que ya había sido Finetuneado\n",
    "checkpoint_classifier = torch.load(\n",
    "    \"../StoredModels/Mejores_guardados_beto_uncased_no_bert.pt\",\n",
    "    map_location=torch.device(DEVICE)\n",
    ")\n",
    "\n",
    "classificator_uncased_no_bert.load_state_dict(checkpoint_classifier['model_state_dict'])"
   ]
  },
  {
   "cell_type": "code",
   "execution_count": 27,
   "metadata": {},
   "outputs": [
    {
     "name": "stderr",
     "output_type": "stream",
     "text": [
      "100%|███████████████████████████████████████████| 31/31 [00:01<00:00, 16.84it/s]\n"
     ]
    },
    {
     "name": "stdout",
     "output_type": "stream",
     "text": [
      "Statistics: \n",
      "              precision    recall  f1-score   support\n",
      "\n",
      "    NEGATIVO       0.64      0.35      0.46        79\n",
      "      NEUTRO       0.58      0.51      0.54        61\n",
      "    POSITIVO       0.54      0.76      0.63       105\n",
      "\n",
      "    accuracy                           0.57       245\n",
      "   macro avg       0.59      0.54      0.54       245\n",
      "weighted avg       0.58      0.57      0.55       245\n",
      "\n"
     ]
    },
    {
     "data": {
      "image/png": "[encoded data removed]",
      "text/plain": [
       "<Figure size 640x480 with 2 Axes>"
      ]
     },
     "metadata": {},
     "output_type": "display_data"
    },
    {
     "name": "stdout",
     "output_type": "stream",
     "text": [
      "({'NEGATIVO': 0.13709909, 'NEUTRO': 0.49171543, 'POSTIVO': 0.3674496, 'IRONIA': 0.0037358908}, 'NEUTRO')\n"
     ]
    }
   ],
   "source": [
    "# Obtener las predicciones\n",
    "verify_model(classificator_uncased_no_bert, test_loader_uncased, tokenizer_uncased)"
   ]
  },
  {
   "cell_type": "code",
   "execution_count": 28,
   "metadata": {},
   "outputs": [],
   "source": [
    "del classificator_uncased_no_bert\n",
    "torch.cuda.empty_cache()"
   ]
  },
  {
   "cell_type": "code",
   "execution_count": null,
   "metadata": {},
   "outputs": [],
   "source": []
  },
  {
   "cell_type": "code",
   "execution_count": 10,
   "metadata": {},
   "outputs": [],
   "source": [
    "results.to_csv('../Validation/Beto.csv')"
   ]
  },
  {
   "cell_type": "code",
   "execution_count": null,
   "metadata": {},
   "outputs": [],
   "source": []
  }
 ],
 "metadata": {
  "kernelspec": {
   "display_name": "Python 3 (ipykernel)",
   "language": "python",
   "name": "python3"
  },
  "language_info": {
   "codemirror_mode": {
    "name": "ipython",
    "version": 3
   },
   "file_extension": ".py",
   "mimetype": "text/x-python",
   "name": "python",
   "nbconvert_exporter": "python",
   "pygments_lexer": "ipython3",
   "version": "3.10.12"
  }
 },
 "nbformat": 4,
 "nbformat_minor": 4
}
