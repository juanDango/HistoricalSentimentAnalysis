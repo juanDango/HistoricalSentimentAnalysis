{
 "cells": [
  {
   "cell_type": "code",
   "execution_count": 1,
   "metadata": {},
   "outputs": [],
   "source": [
    "AVAILABLE_GPU = 1 # Available GPU with 0% usage\n",
    "import os\n",
    "os.environ[\"CUDA_DEVICE_ORDER\"] = \"PCI_BUS_ID\"\n",
    "os.environ[\"CUDA_VISIBLE_DEVICES\"] = f\"{AVAILABLE_GPU}\"\n",
    "os.environ[\"CUDA_LAUNCH_BLOCKING\"] = \"1\"\n",
    "tf_device=f'/gpu:{AVAILABLE_GPU}'"
   ]
  },
  {
   "cell_type": "code",
   "execution_count": 2,
   "metadata": {},
   "outputs": [],
   "source": [
    "import sys\n",
    "sys.path.append('../Utils')"
   ]
  },
  {
   "cell_type": "code",
   "execution_count": 3,
   "metadata": {},
   "outputs": [
    {
     "name": "stderr",
     "output_type": "stream",
     "text": [
      "/home/historynlp/venv/lib/python3.10/site-packages/tqdm/auto.py:21: TqdmWarning: IProgress not found. Please update jupyter and ipywidgets. See https://ipywidgets.readthedocs.io/en/stable/user_install.html\n",
      "  from .autonotebook import tqdm as notebook_tqdm\n"
     ]
    }
   ],
   "source": [
    "import torch\n",
    "from sklearn.model_selection import train_test_split\n",
    "from transformers import AutoTokenizer\n",
    "\n",
    "\n",
    "from DataManagement import preparar_datos\n",
    "from Constants import SEED\n",
    "from DataManagement import createDataloaders\n",
    "from Utils import get_loss_opt\n",
    "from Utils import train\n",
    "from Utils import count_parameters\n",
    "from Models import SentimentAnalysisPretrainedBert\n",
    "from Utils import verify_model\n",
    "from Constants import TRAINING_DATA"
   ]
  },
  {
   "cell_type": "code",
   "execution_count": 4,
   "metadata": {},
   "outputs": [
    {
     "name": "stdout",
     "output_type": "stream",
     "text": [
      "Memoria total reservada en CUDA: 0 bytes\n",
      "Memoria actualmente asignada en CUDA: 0 bytes\n"
     ]
    }
   ],
   "source": [
    "print(f\"Memoria total reservada en CUDA: {torch.cuda.memory_reserved(0)} bytes\")\n",
    "print(f\"Memoria actualmente asignada en CUDA: {torch.cuda.memory_allocated(0)} bytes\")"
   ]
  },
  {
   "cell_type": "markdown",
   "metadata": {},
   "source": [
    "# 1. CASED\n",
    "\n",
    "## 1.1 Definicion de constantes"
   ]
  },
  {
   "cell_type": "code",
   "execution_count": 5,
   "metadata": {},
   "outputs": [
    {
     "data": {
      "text/plain": [
       "device(type='cuda')"
      ]
     },
     "execution_count": 5,
     "metadata": {},
     "output_type": "execute_result"
    }
   ],
   "source": [
    "#Modelo bert a usar\n",
    "BERT_MODEL = '../../output/mbert/old-spanish-mbert-base-cased.pt'\n",
    "\n",
    "#Dispositivo sobre el que se corre el modelo de ML\n",
    "DEVICE = torch.device('cuda' if torch.cuda.is_available() else 'cpu')\n",
    "\n",
    "tokenizer_cased = AutoTokenizer.from_pretrained('bert-base-multilingual-cased')\n",
    "\n",
    "torch.cuda.empty_cache()\n",
    "DEVICE"
   ]
  },
  {
   "cell_type": "markdown",
   "metadata": {},
   "source": [
    "## 1.2 Creacion de los dataloaders"
   ]
  },
  {
   "cell_type": "code",
   "execution_count": 6,
   "metadata": {},
   "outputs": [],
   "source": [
    "datos = preparar_datos(TRAINING_DATA)\n",
    "train_df, test_df = train_test_split(datos, test_size=0.2, random_state = SEED, shuffle=True)\n",
    "val_df, test_df = train_test_split(test_df, test_size=0.5, random_state = SEED, shuffle=True)\n",
    "\n",
    "train_loader_cased, val_loader_cased, test_loader_cased = createDataloaders(train_df, val_df, test_df, tokenizer_cased)"
   ]
  },
  {
   "cell_type": "markdown",
   "metadata": {},
   "source": [
    "## 1.3 Creación y evaluación del modelo con el bert entrenado\n",
    "\n",
    "### 1.3.1 Entrenamiento"
   ]
  },
  {
   "cell_type": "code",
   "execution_count": 7,
   "metadata": {},
   "outputs": [
    {
     "data": {
      "text/plain": [
       "178204799"
      ]
     },
     "execution_count": 7,
     "metadata": {},
     "output_type": "execute_result"
    }
   ],
   "source": [
    "torch.manual_seed(SEED)\n",
    "classificator_cased = SentimentAnalysisPretrainedBert(BERT_MODEL, 0.4, 4, 256, 128, True).to(DEVICE)\n",
    "count_parameters(classificator_cased)"
   ]
  },
  {
   "cell_type": "code",
   "execution_count": 8,
   "metadata": {},
   "outputs": [
    {
     "name": "stderr",
     "output_type": "stream",
     "text": [
      " 32%|████████████▋                           | 19/60 [57:36<1:58:00, 172.70s/it]"
     ]
    },
    {
     "name": "stdout",
     "output_type": "stream",
     "text": [
      "\n",
      "Epoch: 20 | Training acc: 0.5980542754736303 | Training loss: 0.1193265429351248 | Val acc: 0.5819672131147541 | Val loss: 0.120713152113508\n",
      "------------------------------------------------------------------------------------------------------------------------------------------------------\n"
     ]
    },
    {
     "name": "stderr",
     "output_type": "stream",
     "text": [
      " 65%|██████████████████████████              | 39/60 [1:53:44<57:44, 164.99s/it]"
     ]
    },
    {
     "name": "stdout",
     "output_type": "stream",
     "text": [
      "\n",
      "Epoch: 40 | Training acc: 0.6564260112647209 | Training loss: 0.1081128446523556 | Val acc: 0.5901639344262295 | Val loss: 0.11299055900241507\n",
      "------------------------------------------------------------------------------------------------------------------------------------------------------\n"
     ]
    },
    {
     "name": "stderr",
     "output_type": "stream",
     "text": [
      " 98%|████████████████████████████████████████▎| 59/60 [2:18:40<00:57, 57.88s/it]"
     ]
    },
    {
     "name": "stdout",
     "output_type": "stream",
     "text": [
      "\n",
      "Epoch: 60 | Training acc: 0.6518177163338453 | Training loss: 0.10895869409006434 | Val acc: 0.5614754098360656 | Val loss: 0.11979317701742297\n",
      "------------------------------------------------------------------------------------------------------------------------------------------------------\n"
     ]
    },
    {
     "name": "stderr",
     "output_type": "stream",
     "text": [
      "100%|████████████████████████████████████████| 60/60 [2:18:41<00:00, 138.69s/it]\n"
     ]
    },
    {
     "data": {
      "text/plain": [
       "(inf, 0.6722990271377368)"
      ]
     },
     "execution_count": 8,
     "metadata": {},
     "output_type": "execute_result"
    }
   ],
   "source": [
    "criterio, optimizer = get_loss_opt(classificator_cased)\n",
    "train(classificator_cased, '../StoredModels/Mejores_guardados_mbert_cased.pt', train_loader_cased, val_loader_cased, optimizer, criterio)"
   ]
  },
  {
   "cell_type": "markdown",
   "metadata": {},
   "source": [
    "### 1.3.2 Validación"
   ]
  },
  {
   "cell_type": "code",
   "execution_count": 9,
   "metadata": {},
   "outputs": [
    {
     "data": {
      "text/plain": [
       "<All keys matched successfully>"
      ]
     },
     "execution_count": 9,
     "metadata": {},
     "output_type": "execute_result"
    }
   ],
   "source": [
    "# Cargar un modelo que ya había sido Finetuneado\n",
    "checkpoint_classifier = torch.load(\n",
    "    \"../StoredModels/Mejores_guardados_mbert_cased.pt\",\n",
    "    map_location=torch.device(DEVICE)\n",
    ")\n",
    "\n",
    "classificator_cased.load_state_dict(checkpoint_classifier['model_state_dict'])"
   ]
  },
  {
   "cell_type": "code",
   "execution_count": 10,
   "metadata": {},
   "outputs": [
    {
     "name": "stderr",
     "output_type": "stream",
     "text": [
      "100%|███████████████████████████████████████████| 31/31 [00:02<00:00, 11.51it/s]\n"
     ]
    },
    {
     "name": "stdout",
     "output_type": "stream",
     "text": [
      "Statistics: \n",
      "              precision    recall  f1-score   support\n",
      "\n",
      "    NEGATIVO       0.66      0.29      0.40        79\n",
      "      NEUTRO       0.52      0.61      0.56        61\n",
      "    POSITIVO       0.56      0.74      0.64       105\n",
      "\n",
      "    accuracy                           0.56       245\n",
      "   macro avg       0.58      0.55      0.53       245\n",
      "weighted avg       0.58      0.56      0.54       245\n",
      "\n"
     ]
    },
    {
     "data": {
      "image/png": "[encoded data removed]",
      "text/plain": [
       "<Figure size 640x480 with 2 Axes>"
      ]
     },
     "metadata": {},
     "output_type": "display_data"
    },
    {
     "name": "stdout",
     "output_type": "stream",
     "text": [
      "({'NEGATIVO': 0.23594503, 'NEUTRO': 0.53742015, 'POSTIVO': 0.19793704, 'IRONIA': 0.028697757}, 'NEUTRO')\n"
     ]
    }
   ],
   "source": [
    "# Obtener las predicciones\n",
    "verify_model(classificator_cased, test_loader_cased, tokenizer_cased)"
   ]
  },
  {
   "cell_type": "code",
   "execution_count": 11,
   "metadata": {},
   "outputs": [],
   "source": [
    "del classificator_cased\n",
    "torch.cuda.empty_cache()"
   ]
  },
  {
   "cell_type": "markdown",
   "metadata": {},
   "source": [
    "## 1.4 Creación y evaluación del modelo sin el Bert Entrenado\n",
    "\n",
    "### 1.4.1 Entrenamiento"
   ]
  },
  {
   "cell_type": "code",
   "execution_count": 12,
   "metadata": {},
   "outputs": [
    {
     "data": {
      "text/plain": [
       "230276"
      ]
     },
     "execution_count": 12,
     "metadata": {},
     "output_type": "execute_result"
    }
   ],
   "source": [
    "torch.manual_seed(SEED)\n",
    "classificator_cased_no_bert = SentimentAnalysisPretrainedBert(BERT_MODEL, 0.4, 4, 256, 128, False).to(DEVICE)\n",
    "count_parameters(classificator_cased_no_bert)"
   ]
  },
  {
   "cell_type": "code",
   "execution_count": 13,
   "metadata": {},
   "outputs": [
    {
     "name": "stderr",
     "output_type": "stream",
     "text": [
      " 32%|█████████████▌                             | 19/60 [08:52<18:13, 26.68s/it]"
     ]
    },
    {
     "name": "stdout",
     "output_type": "stream",
     "text": [
      "\n",
      "Epoch: 20 | Training acc: 0.40604198668714797 | Training loss: 0.13727615997233394 | Val acc: 0.38114754098360654 | Val loss: 0.13830410799042123\n",
      "------------------------------------------------------------------------------------------------------------------------------------------------------\n"
     ]
    },
    {
     "name": "stderr",
     "output_type": "stream",
     "text": [
      " 65%|███████████████████████████▉               | 39/60 [17:45<09:19, 26.66s/it]"
     ]
    },
    {
     "name": "stdout",
     "output_type": "stream",
     "text": [
      "\n",
      "Epoch: 40 | Training acc: 0.40860215053763443 | Training loss: 0.13524339047078895 | Val acc: 0.4426229508196721 | Val loss: 0.13589111972050588\n",
      "------------------------------------------------------------------------------------------------------------------------------------------------------\n"
     ]
    },
    {
     "name": "stderr",
     "output_type": "stream",
     "text": [
      " 98%|██████████████████████████████████████████▎| 59/60 [26:37<00:26, 26.62s/it]"
     ]
    },
    {
     "name": "stdout",
     "output_type": "stream",
     "text": [
      "\n",
      "Epoch: 60 | Training acc: 0.4577572964669739 | Training loss: 0.1322944840283743 | Val acc: 0.48360655737704916 | Val loss: 0.13219121440512235\n",
      "------------------------------------------------------------------------------------------------------------------------------------------------------\n"
     ]
    },
    {
     "name": "stderr",
     "output_type": "stream",
     "text": [
      "100%|███████████████████████████████████████████| 60/60 [26:39<00:00, 26.65s/it]\n"
     ]
    },
    {
     "data": {
      "text/plain": [
       "(inf, 0.4577572964669739)"
      ]
     },
     "execution_count": 13,
     "metadata": {},
     "output_type": "execute_result"
    }
   ],
   "source": [
    "criterio, optimizer = get_loss_opt(classificator_cased_no_bert)\n",
    "train(classificator_cased_no_bert, '../StoredModels/Mejores_guardados_mbert_cased_no_bert.pt', train_loader_cased, val_loader_cased, optimizer, criterio)"
   ]
  },
  {
   "cell_type": "markdown",
   "metadata": {},
   "source": [
    "### 1.4.2 Validación"
   ]
  },
  {
   "cell_type": "code",
   "execution_count": 14,
   "metadata": {},
   "outputs": [
    {
     "data": {
      "text/plain": [
       "<All keys matched successfully>"
      ]
     },
     "execution_count": 14,
     "metadata": {},
     "output_type": "execute_result"
    }
   ],
   "source": [
    "# Cargar un modelo que ya había sido Finetuneado\n",
    "checkpoint_classifier = torch.load(\n",
    "    \"../StoredModels/Mejores_guardados_mbert_cased_no_bert.pt\",\n",
    "    map_location=torch.device(DEVICE)\n",
    ")\n",
    "\n",
    "classificator_cased_no_bert.load_state_dict(checkpoint_classifier['model_state_dict'])"
   ]
  },
  {
   "cell_type": "code",
   "execution_count": 15,
   "metadata": {},
   "outputs": [
    {
     "name": "stderr",
     "output_type": "stream",
     "text": [
      "100%|███████████████████████████████████████████| 31/31 [00:02<00:00, 11.45it/s]"
     ]
    },
    {
     "name": "stdout",
     "output_type": "stream",
     "text": [
      "Statistics: \n",
      "              precision    recall  f1-score   support\n",
      "\n",
      "    NEGATIVO       0.00      0.00      0.00        79\n",
      "      NEUTRO       0.62      0.41      0.50        61\n",
      "    POSITIVO       0.48      0.94      0.64       105\n",
      "\n",
      "    accuracy                           0.51       245\n",
      "   macro avg       0.37      0.45      0.38       245\n",
      "weighted avg       0.36      0.51      0.40       245\n",
      "\n"
     ]
    },
    {
     "name": "stderr",
     "output_type": "stream",
     "text": [
      "\n",
      "/home/historynlp/venv/lib/python3.10/site-packages/sklearn/metrics/_classification.py:1509: UndefinedMetricWarning: Precision is ill-defined and being set to 0.0 in labels with no predicted samples. Use `zero_division` parameter to control this behavior.\n",
      "  _warn_prf(average, modifier, f\"{metric.capitalize()} is\", len(result))\n",
      "/home/historynlp/venv/lib/python3.10/site-packages/sklearn/metrics/_classification.py:1509: UndefinedMetricWarning: Precision is ill-defined and being set to 0.0 in labels with no predicted samples. Use `zero_division` parameter to control this behavior.\n",
      "  _warn_prf(average, modifier, f\"{metric.capitalize()} is\", len(result))\n",
      "/home/historynlp/venv/lib/python3.10/site-packages/sklearn/metrics/_classification.py:1509: UndefinedMetricWarning: Precision is ill-defined and being set to 0.0 in labels with no predicted samples. Use `zero_division` parameter to control this behavior.\n",
      "  _warn_prf(average, modifier, f\"{metric.capitalize()} is\", len(result))\n"
     ]
    },
    {
     "data": {
      "image/png": "[encoded data removed]",
      "text/plain": [
       "<Figure size 640x480 with 2 Axes>"
      ]
     },
     "metadata": {},
     "output_type": "display_data"
    },
    {
     "name": "stdout",
     "output_type": "stream",
     "text": [
      "({'NEGATIVO': 0.24818122, 'NEUTRO': 0.37170845, 'POSTIVO': 0.37518677, 'IRONIA': 0.004923581}, 'POSITIVO')\n"
     ]
    }
   ],
   "source": [
    "# Obtener las predicciones\n",
    "verify_model(classificator_cased_no_bert, test_loader_cased, tokenizer_cased)"
   ]
  },
  {
   "cell_type": "code",
   "execution_count": 16,
   "metadata": {},
   "outputs": [],
   "source": [
    "del classificator_cased_no_bert\n",
    "torch.cuda.empty_cache()"
   ]
  },
  {
   "cell_type": "markdown",
   "metadata": {},
   "source": [
    "# 2. UNCASED\n",
    "\n",
    "## 2.1 Definicion de constantes"
   ]
  },
  {
   "cell_type": "code",
   "execution_count": 17,
   "metadata": {},
   "outputs": [],
   "source": [
    "#Modelo bert a usar\n",
    "BERT_MODEL = '../../output/mbert/old-spanish-mbert-base-uncased.pt'\n",
    "\n",
    "tokenizer_uncased = AutoTokenizer.from_pretrained(\"bert-base-multilingual-uncased\")"
   ]
  },
  {
   "cell_type": "markdown",
   "metadata": {},
   "source": [
    "## 2.2 Creacion de los dataloaders"
   ]
  },
  {
   "cell_type": "code",
   "execution_count": 18,
   "metadata": {},
   "outputs": [],
   "source": [
    "train_loader_uncased, val_loader_uncased, test_loader_uncased = createDataloaders(train_df, val_df, test_df, tokenizer_uncased)"
   ]
  },
  {
   "cell_type": "markdown",
   "metadata": {},
   "source": [
    "## 2.3 Creación y evaluación del modelo con el bert entrenado\n",
    "\n",
    "### 2.3.1 Entrenamiento"
   ]
  },
  {
   "cell_type": "code",
   "execution_count": 19,
   "metadata": {},
   "outputs": [
    {
     "data": {
      "text/plain": [
       "167694107"
      ]
     },
     "execution_count": 19,
     "metadata": {},
     "output_type": "execute_result"
    }
   ],
   "source": [
    "torch.manual_seed(SEED)\n",
    "classificator_uncased = SentimentAnalysisPretrainedBert(BERT_MODEL, 0.4, 4, 256, 128, True).to(DEVICE)\n",
    "count_parameters(classificator_uncased)"
   ]
  },
  {
   "cell_type": "code",
   "execution_count": 20,
   "metadata": {},
   "outputs": [],
   "source": [
    "%%capture uncased_bert_output\n",
    "criterio, optimizer = get_loss_opt(classificator_uncased)\n",
    "train(classificator_uncased, '../StoredModels/Mejores_guardados_mbert_uncased.pt', train_loader_uncased, val_loader_uncased, optimizer, criterio)"
   ]
  },
  {
   "cell_type": "markdown",
   "metadata": {},
   "source": [
    "### 2.3.2 Validación"
   ]
  },
  {
   "cell_type": "code",
   "execution_count": 21,
   "metadata": {},
   "outputs": [
    {
     "data": {
      "text/plain": [
       "<All keys matched successfully>"
      ]
     },
     "execution_count": 21,
     "metadata": {},
     "output_type": "execute_result"
    }
   ],
   "source": [
    "# Cargar un modelo que ya había sido Finetuneado\n",
    "checkpoint_classifier = torch.load(\n",
    "    \"../StoredModels/Mejores_guardados_mbert_uncased.pt\",\n",
    "    map_location=torch.device(DEVICE)\n",
    ")\n",
    "\n",
    "classificator_uncased.load_state_dict(checkpoint_classifier['model_state_dict'])"
   ]
  },
  {
   "cell_type": "code",
   "execution_count": 22,
   "metadata": {},
   "outputs": [
    {
     "name": "stderr",
     "output_type": "stream",
     "text": [
      "100%|███████████████████████████████████████████| 31/31 [00:02<00:00, 12.52it/s]"
     ]
    },
    {
     "name": "stdout",
     "output_type": "stream",
     "text": [
      "Statistics: \n",
      "              precision    recall  f1-score   support\n",
      "\n",
      "    NEGATIVO       0.64      0.29      0.40        79\n",
      "      NEUTRO       0.46      0.70      0.56        61\n",
      "    POSITIVO       0.59      0.66      0.62       105\n",
      "\n",
      "    accuracy                           0.55       245\n",
      "   macro avg       0.57      0.55      0.53       245\n",
      "weighted avg       0.58      0.55      0.54       245\n",
      "\n"
     ]
    },
    {
     "name": "stderr",
     "output_type": "stream",
     "text": [
      "\n"
     ]
    },
    {
     "data": {
      "image/png": "[encoded data removed]",
      "text/plain": [
       "<Figure size 640x480 with 2 Axes>"
      ]
     },
     "metadata": {},
     "output_type": "display_data"
    },
    {
     "name": "stdout",
     "output_type": "stream",
     "text": [
      "({'NEGATIVO': 0.15659274, 'NEUTRO': 0.6272328, 'POSTIVO': 0.17447384, 'IRONIA': 0.041700665}, 'NEUTRO')\n"
     ]
    }
   ],
   "source": [
    "# Obtener las predicciones\n",
    "verify_model(classificator_uncased, test_loader_uncased, tokenizer_uncased)"
   ]
  },
  {
   "cell_type": "code",
   "execution_count": 23,
   "metadata": {},
   "outputs": [],
   "source": [
    "del classificator_uncased\n",
    "torch.cuda.empty_cache()"
   ]
  },
  {
   "cell_type": "markdown",
   "metadata": {},
   "source": [
    "## 2.4 Creación y evaluación del modelo sin el Bert Entrenado\n",
    "\n",
    "### 2.4.1 Entrenamiento"
   ]
  },
  {
   "cell_type": "code",
   "execution_count": 24,
   "metadata": {},
   "outputs": [
    {
     "data": {
      "text/plain": [
       "230276"
      ]
     },
     "execution_count": 24,
     "metadata": {},
     "output_type": "execute_result"
    }
   ],
   "source": [
    "torch.manual_seed(SEED)\n",
    "classificator_uncased_no_bert = SentimentAnalysisPretrainedBert(BERT_MODEL, 0.4, 4, 256, 128, False).to(DEVICE)\n",
    "count_parameters(classificator_uncased_no_bert)"
   ]
  },
  {
   "cell_type": "code",
   "execution_count": 25,
   "metadata": {},
   "outputs": [],
   "source": [
    "%%capture uncased_no_bert_output\n",
    "criterio, optimizer = get_loss_opt(classificator_uncased_no_bert)\n",
    "train(classificator_uncased_no_bert, '../StoredModels/Mejores_guardados_mbert_uncased_no_bert.pt', train_loader_uncased, val_loader_uncased, optimizer, criterio)"
   ]
  },
  {
   "cell_type": "markdown",
   "metadata": {},
   "source": [
    "### 1.4.2 Validación"
   ]
  },
  {
   "cell_type": "code",
   "execution_count": 26,
   "metadata": {},
   "outputs": [
    {
     "data": {
      "text/plain": [
       "<All keys matched successfully>"
      ]
     },
     "execution_count": 26,
     "metadata": {},
     "output_type": "execute_result"
    }
   ],
   "source": [
    "# Cargar un modelo que ya había sido Finetuneado\n",
    "checkpoint_classifier = torch.load(\n",
    "    \"../StoredModels/Mejores_guardados_mbert_uncased_no_bert.pt\",\n",
    "    map_location=torch.device(DEVICE)\n",
    ")\n",
    "\n",
    "classificator_uncased_no_bert.load_state_dict(checkpoint_classifier['model_state_dict'])"
   ]
  },
  {
   "cell_type": "code",
   "execution_count": 27,
   "metadata": {},
   "outputs": [
    {
     "name": "stderr",
     "output_type": "stream",
     "text": [
      "100%|███████████████████████████████████████████| 31/31 [00:02<00:00, 12.43it/s]\n"
     ]
    },
    {
     "name": "stdout",
     "output_type": "stream",
     "text": [
      "Statistics: \n",
      "              precision    recall  f1-score   support\n",
      "\n",
      "    NEGATIVO       0.33      0.01      0.02        79\n",
      "      NEUTRO       0.68      0.38      0.48        61\n",
      "    POSITIVO       0.46      0.90      0.61       105\n",
      "\n",
      "    accuracy                           0.49       245\n",
      "   macro avg       0.49      0.43      0.37       245\n",
      "weighted avg       0.47      0.49      0.39       245\n",
      "\n"
     ]
    },
    {
     "data": {
      "image/png": "[encoded data removed]",
      "text/plain": [
       "<Figure size 640x480 with 2 Axes>"
      ]
     },
     "metadata": {},
     "output_type": "display_data"
    },
    {
     "name": "stdout",
     "output_type": "stream",
     "text": [
      "({'NEGATIVO': 0.19317852, 'NEUTRO': 0.40898743, 'POSTIVO': 0.3957427, 'IRONIA': 0.0020912802}, 'NEUTRO')\n"
     ]
    }
   ],
   "source": [
    "# Obtener las predicciones\n",
    "verify_model(classificator_uncased_no_bert, test_loader_uncased, tokenizer_uncased)"
   ]
  },
  {
   "cell_type": "code",
   "execution_count": 28,
   "metadata": {},
   "outputs": [],
   "source": [
    "del classificator_uncased_no_bert\n",
    "torch.cuda.empty_cache()"
   ]
  },
  {
   "cell_type": "code",
   "execution_count": null,
   "metadata": {},
   "outputs": [],
   "source": []
  }
 ],
 "metadata": {
  "kernelspec": {
   "display_name": "Python 3 (ipykernel)",
   "language": "python",
   "name": "python3"
  },
  "language_info": {
   "codemirror_mode": {
    "name": "ipython",
    "version": 3
   },
   "file_extension": ".py",
   "mimetype": "text/x-python",
   "name": "python",
   "nbconvert_exporter": "python",
   "pygments_lexer": "ipython3",
   "version": "3.10.12"
  }
 },
 "nbformat": 4,
 "nbformat_minor": 4
}
