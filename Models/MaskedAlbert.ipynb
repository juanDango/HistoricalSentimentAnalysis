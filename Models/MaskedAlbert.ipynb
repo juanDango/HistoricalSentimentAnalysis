{
 "cells": [
  {
   "cell_type": "code",
   "execution_count": 1,
   "metadata": {},
   "outputs": [],
   "source": [
    "AVAILABLE_GPU = 1 # Available GPU with 0% usage\n",
    "import os\n",
    "os.environ[\"CUDA_DEVICE_ORDER\"] = \"PCI_BUS_ID\"\n",
    "os.environ[\"CUDA_VISIBLE_DEVICES\"] = f\"{AVAILABLE_GPU}\"\n",
    "os.environ[\"CUDA_LAUNCH_BLOCKING\"] = \"1\"\n",
    "tf_device=f'/gpu:{AVAILABLE_GPU}'"
   ]
  },
  {
   "cell_type": "code",
   "execution_count": 2,
   "metadata": {},
   "outputs": [],
   "source": [
    "import sys\n",
    "sys.path.append('../Utils')"
   ]
  },
  {
   "cell_type": "code",
   "execution_count": 3,
   "metadata": {},
   "outputs": [
    {
     "name": "stderr",
     "output_type": "stream",
     "text": [
      "/home/historynlp/venv/lib/python3.10/site-packages/tqdm/auto.py:21: TqdmWarning: IProgress not found. Please update jupyter and ipywidgets. See https://ipywidgets.readthedocs.io/en/stable/user_install.html\n",
      "  from .autonotebook import tqdm as notebook_tqdm\n"
     ]
    }
   ],
   "source": [
    "import torch\n",
    "from sklearn.model_selection import train_test_split\n",
    "from transformers import AutoTokenizer, BertModel\n",
    "\n",
    "from DataManagement import preparar_datos\n",
    "from Constants import SEED\n",
    "from DataManagement import createDataloaders\n",
    "from Utils import get_loss_opt\n",
    "from Utils import train\n",
    "from Utils import count_parameters\n",
    "from Models import SentimentAnalysisFromMaskedModel\n",
    "from Utils import verify_model\n",
    "from Constants import TRAINING_DATA"
   ]
  },
  {
   "cell_type": "code",
   "execution_count": 4,
   "metadata": {},
   "outputs": [
    {
     "name": "stdout",
     "output_type": "stream",
     "text": [
      "Memoria total reservada en CUDA: 0 bytes\n",
      "Memoria actualmente asignada en CUDA: 0 bytes\n"
     ]
    }
   ],
   "source": [
    "print(f\"Memoria total reservada en CUDA: {torch.cuda.memory_reserved(0)} bytes\")\n",
    "print(f\"Memoria actualmente asignada en CUDA: {torch.cuda.memory_allocated(0)} bytes\")"
   ]
  },
  {
   "cell_type": "markdown",
   "metadata": {},
   "source": [
    "# 1. Definición de constantes"
   ]
  },
  {
   "cell_type": "code",
   "execution_count": 5,
   "metadata": {},
   "outputs": [
    {
     "data": {
      "text/plain": [
       "device(type='cuda')"
      ]
     },
     "execution_count": 5,
     "metadata": {},
     "output_type": "execute_result"
    }
   ],
   "source": [
    "#Modelo bert a usar\n",
    "BERT_MODEL = 'dccuchile/albert-base-spanish'\n",
    "\n",
    "#Dispositivo sobre el que se corre el modelo de ML\n",
    "DEVICE = torch.device('cuda' if torch.cuda.is_available() else 'cpu')\n",
    "\n",
    "tokenizer = AutoTokenizer.from_pretrained(BERT_MODEL)\n",
    "\n",
    "torch.cuda.empty_cache()\n",
    "DEVICE"
   ]
  },
  {
   "cell_type": "markdown",
   "metadata": {},
   "source": [
    "# 2. Creacion de los dataLoaders"
   ]
  },
  {
   "cell_type": "code",
   "execution_count": 6,
   "metadata": {},
   "outputs": [],
   "source": [
    "datos = preparar_datos(TRAINING_DATA)\n",
    "train_df, test_df = train_test_split(datos, test_size=0.2, random_state = SEED, shuffle=True)\n",
    "val_df, test_df = train_test_split(test_df, test_size=0.5, random_state = SEED, shuffle=True)\n",
    "\n",
    "train_loader, val_loader, test_loader = createDataloaders(train_df, val_df, test_df, tokenizer)"
   ]
  },
  {
   "cell_type": "markdown",
   "metadata": {},
   "source": [
    "# 3. Creación y evaluación del modelo con Bert Entrenado"
   ]
  },
  {
   "cell_type": "markdown",
   "metadata": {},
   "source": [
    "## 3.1 Entrenamiento"
   ]
  },
  {
   "cell_type": "code",
   "execution_count": 7,
   "metadata": {},
   "outputs": [
    {
     "data": {
      "text/plain": [
       "12041860"
      ]
     },
     "execution_count": 7,
     "metadata": {},
     "output_type": "execute_result"
    }
   ],
   "source": [
    "torch.manual_seed(SEED)\n",
    "classificator = SentimentAnalysisFromMaskedModel(BERT_MODEL, 0.4, 4, 256, 128, True).to(DEVICE)\n",
    "count_parameters(classificator)"
   ]
  },
  {
   "cell_type": "code",
   "execution_count": 8,
   "metadata": {},
   "outputs": [
    {
     "name": "stderr",
     "output_type": "stream",
     "text": [
      " 33%|██████████████▎                            | 20/60 [11:59<23:57, 35.94s/it]"
     ]
    },
    {
     "name": "stdout",
     "output_type": "stream",
     "text": [
      "\n",
      "Epoch: 20 | Training acc: 0.5458269329237071 | Training loss: 0.12187715270735335 | Val acc: 0.6557377049180327 | Val loss: 0.11794428356358262\n",
      "------------------------------------------------------------------------------------------------------------------------------------------------------\n"
     ]
    },
    {
     "name": "stderr",
     "output_type": "stream",
     "text": [
      " 67%|████████████████████████████▋              | 40/60 [23:58<11:59, 35.96s/it]"
     ]
    },
    {
     "name": "stdout",
     "output_type": "stream",
     "text": [
      "\n",
      "Epoch: 40 | Training acc: 0.6287762416794674 | Training loss: 0.11422363688136393 | Val acc: 0.5860655737704918 | Val loss: 0.11927375539404447\n",
      "------------------------------------------------------------------------------------------------------------------------------------------------------\n"
     ]
    },
    {
     "name": "stderr",
     "output_type": "stream",
     "text": [
      "100%|███████████████████████████████████████████| 60/60 [35:57<00:00, 35.96s/it]"
     ]
    },
    {
     "name": "stdout",
     "output_type": "stream",
     "text": [
      "\n",
      "Epoch: 60 | Training acc: 0.6200716845878136 | Training loss: 0.11573288380275673 | Val acc: 0.5778688524590164 | Val loss: 0.12395386715404323\n",
      "------------------------------------------------------------------------------------------------------------------------------------------------------\n"
     ]
    },
    {
     "name": "stderr",
     "output_type": "stream",
     "text": [
      "\n"
     ]
    },
    {
     "data": {
      "text/plain": [
       "(inf, 0.636968766001024)"
      ]
     },
     "execution_count": 8,
     "metadata": {},
     "output_type": "execute_result"
    }
   ],
   "source": [
    "criterio, optimizer = get_loss_opt(classificator)\n",
    "train(classificator, '../StoredModels/Mejores_guardados_AlbertMasked.pt', train_loader, val_loader, optimizer, criterio)"
   ]
  },
  {
   "cell_type": "markdown",
   "metadata": {},
   "source": [
    "## 3.2 Evaluación"
   ]
  },
  {
   "cell_type": "code",
   "execution_count": 9,
   "metadata": {},
   "outputs": [
    {
     "data": {
      "text/plain": [
       "<All keys matched successfully>"
      ]
     },
     "execution_count": 9,
     "metadata": {},
     "output_type": "execute_result"
    }
   ],
   "source": [
    "# Cargar un modelo que ya había sido Finetuneado\n",
    "checkpoint_classifier = torch.load(\n",
    "    \"../StoredModels/Mejores_guardados_AlbertMasked.pt\",\n",
    "    map_location=torch.device(DEVICE)\n",
    ")\n",
    "\n",
    "classificator.load_state_dict(checkpoint_classifier['model_state_dict'])"
   ]
  },
  {
   "cell_type": "code",
   "execution_count": 10,
   "metadata": {},
   "outputs": [
    {
     "name": "stderr",
     "output_type": "stream",
     "text": [
      "100%|███████████████████████████████████████████| 31/31 [00:01<00:00, 18.95it/s]\n"
     ]
    },
    {
     "name": "stdout",
     "output_type": "stream",
     "text": [
      "Statistics: \n",
      "              precision    recall  f1-score   support\n",
      "\n",
      "    NEGATIVO       0.80      0.46      0.58        79\n",
      "      NEUTRO       0.51      0.72      0.59        61\n",
      "    POSITIVO       0.60      0.65      0.62       105\n",
      "\n",
      "    accuracy                           0.60       245\n",
      "   macro avg       0.64      0.61      0.60       245\n",
      "weighted avg       0.64      0.60      0.60       245\n",
      "\n"
     ]
    },
    {
     "data": {
      "image/png": "[encoded data removed]",
      "text/plain": [
       "<Figure size 640x480 with 2 Axes>"
      ]
     },
     "metadata": {},
     "output_type": "display_data"
    },
    {
     "name": "stdout",
     "output_type": "stream",
     "text": [
      "({'NEGATIVO': 0.090549745, 'NEUTRO': 0.45875224, 'POSTIVO': 0.42581624, 'IRONIA': 0.024881857}, 'NEUTRO')\n"
     ]
    }
   ],
   "source": [
    "# Obtener las predicciones\n",
    "verify_model(classificator, test_loader, tokenizer)"
   ]
  },
  {
   "cell_type": "code",
   "execution_count": 11,
   "metadata": {},
   "outputs": [],
   "source": [
    "del classificator\n",
    "torch.cuda.empty_cache()"
   ]
  },
  {
   "cell_type": "markdown",
   "metadata": {},
   "source": [
    "# 4. Creacion y evaluacion del modelo sin el bert entrenado"
   ]
  },
  {
   "cell_type": "markdown",
   "metadata": {},
   "source": [
    "## 4.1 Entrenamiento"
   ]
  },
  {
   "cell_type": "code",
   "execution_count": 12,
   "metadata": {},
   "outputs": [
    {
     "data": {
      "text/plain": [
       "230276"
      ]
     },
     "execution_count": 12,
     "metadata": {},
     "output_type": "execute_result"
    }
   ],
   "source": [
    "torch.manual_seed(SEED)\n",
    "classificator_no_bert = SentimentAnalysisFromMaskedModel(BERT_MODEL, 0.4, 4, 256, 128, False).to(DEVICE)\n",
    "count_parameters(classificator_no_bert)"
   ]
  },
  {
   "cell_type": "code",
   "execution_count": 13,
   "metadata": {},
   "outputs": [
    {
     "name": "stderr",
     "output_type": "stream",
     "text": [
      " 33%|██████████████▎                            | 20/60 [04:59<09:59, 14.99s/it]"
     ]
    },
    {
     "name": "stdout",
     "output_type": "stream",
     "text": [
      "\n",
      "Epoch: 20 | Training acc: 0.39938556067588327 | Training loss: 0.1372489434477615 | Val acc: 0.4180327868852459 | Val loss: 0.139206269481143\n",
      "------------------------------------------------------------------------------------------------------------------------------------------------------\n"
     ]
    },
    {
     "name": "stderr",
     "output_type": "stream",
     "text": [
      " 67%|████████████████████████████▋              | 40/60 [09:58<04:59, 14.95s/it]"
     ]
    },
    {
     "name": "stdout",
     "output_type": "stream",
     "text": [
      "\n",
      "Epoch: 40 | Training acc: 0.409626216077829 | Training loss: 0.1359972960815879 | Val acc: 0.4180327868852459 | Val loss: 0.13747296372398002\n",
      "------------------------------------------------------------------------------------------------------------------------------------------------------\n"
     ]
    },
    {
     "name": "stderr",
     "output_type": "stream",
     "text": [
      "100%|███████████████████████████████████████████| 60/60 [14:58<00:00, 14.98s/it]"
     ]
    },
    {
     "name": "stdout",
     "output_type": "stream",
     "text": [
      "\n",
      "Epoch: 60 | Training acc: 0.431131592421915 | Training loss: 0.1348831561425986 | Val acc: 0.4426229508196721 | Val loss: 0.13574857741105753\n",
      "------------------------------------------------------------------------------------------------------------------------------------------------------\n"
     ]
    },
    {
     "name": "stderr",
     "output_type": "stream",
     "text": [
      "\n"
     ]
    },
    {
     "data": {
      "text/plain": [
       "(inf, 0.4388120839733743)"
      ]
     },
     "execution_count": 13,
     "metadata": {},
     "output_type": "execute_result"
    }
   ],
   "source": [
    "criterio, optimizer = get_loss_opt(classificator_no_bert)\n",
    "train(classificator_no_bert, '../StoredModels/Mejores_guardados_no_bert_AlbertMasked.pt', train_loader, val_loader, optimizer, criterio)"
   ]
  },
  {
   "cell_type": "markdown",
   "metadata": {},
   "source": [
    "## 4.2 Validación"
   ]
  },
  {
   "cell_type": "code",
   "execution_count": 14,
   "metadata": {},
   "outputs": [
    {
     "data": {
      "text/plain": [
       "<All keys matched successfully>"
      ]
     },
     "execution_count": 14,
     "metadata": {},
     "output_type": "execute_result"
    }
   ],
   "source": [
    "# Cargar un modelo que ya había sido Finetuneado\n",
    "checkpoint_classifier = torch.load(\n",
    "    \"../StoredModels/Mejores_guardados_no_bert_AlbertMasked.pt\",\n",
    "    map_location=torch.device(DEVICE)\n",
    ")\n",
    "\n",
    "classificator_no_bert.load_state_dict(checkpoint_classifier['model_state_dict'])"
   ]
  },
  {
   "cell_type": "code",
   "execution_count": 15,
   "metadata": {},
   "outputs": [
    {
     "name": "stderr",
     "output_type": "stream",
     "text": [
      "100%|███████████████████████████████████████████| 31/31 [00:01<00:00, 18.93it/s]\n"
     ]
    },
    {
     "name": "stdout",
     "output_type": "stream",
     "text": [
      "Statistics: \n",
      "              precision    recall  f1-score   support\n",
      "\n",
      "    NEGATIVO       0.40      0.03      0.05        79\n",
      "      NEUTRO       0.30      0.18      0.22        61\n",
      "    POSITIVO       0.44      0.85      0.58       105\n",
      "\n",
      "    accuracy                           0.42       245\n",
      "   macro avg       0.38      0.35      0.28       245\n",
      "weighted avg       0.39      0.42      0.32       245\n",
      "\n"
     ]
    },
    {
     "data": {
      "image/png": "[encoded data removed]",
      "text/plain": [
       "<Figure size 640x480 with 2 Axes>"
      ]
     },
     "metadata": {},
     "output_type": "display_data"
    },
    {
     "name": "stdout",
     "output_type": "stream",
     "text": [
      "({'NEGATIVO': 0.29048198, 'NEUTRO': 0.35903564, 'POSTIVO': 0.3454934, 'IRONIA': 0.0049889013}, 'NEUTRO')\n"
     ]
    }
   ],
   "source": [
    "# Obtener las predicciones\n",
    "verify_model(classificator_no_bert, test_loader, tokenizer)"
   ]
  },
  {
   "cell_type": "code",
   "execution_count": 16,
   "metadata": {},
   "outputs": [],
   "source": [
    "del classificator_no_bert\n",
    "torch.cuda.empty_cache()"
   ]
  },
  {
   "cell_type": "code",
   "execution_count": null,
   "metadata": {},
   "outputs": [],
   "source": []
  },
  {
   "cell_type": "code",
   "execution_count": null,
   "metadata": {},
   "outputs": [],
   "source": []
  }
 ],
 "metadata": {
  "kernelspec": {
   "display_name": "Python 3 (ipykernel)",
   "language": "python",
   "name": "python3"
  },
  "language_info": {
   "codemirror_mode": {
    "name": "ipython",
    "version": 3
   },
   "file_extension": ".py",
   "mimetype": "text/x-python",
   "name": "python",
   "nbconvert_exporter": "python",
   "pygments_lexer": "ipython3",
   "version": "3.10.12"
  }
 },
 "nbformat": 4,
 "nbformat_minor": 4
}
